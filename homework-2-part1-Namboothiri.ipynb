{
 "cells": [
  {
   "cell_type": "markdown",
   "metadata": {},
   "source": [
    "* Karthika Namboothiri\n",
    "* October 31, 2020\n",
    "* Homework 2, Part 1"
   ]
  },
  {
   "cell_type": "markdown",
   "metadata": {},
   "source": [
    "**Part One: Lists**"
   ]
  },
  {
   "cell_type": "code",
   "execution_count": 17,
   "metadata": {},
   "outputs": [],
   "source": [
    "num_list = [22,90,0,-10, 3, 22, 48]"
   ]
  },
  {
   "cell_type": "code",
   "execution_count": 18,
   "metadata": {},
   "outputs": [
    {
     "name": "stdout",
     "output_type": "stream",
     "text": [
      "Number of elements in the list: 7\n"
     ]
    }
   ],
   "source": [
    "print(\"Number of elements in the list:\", len(num_list))"
   ]
  },
  {
   "cell_type": "code",
   "execution_count": 19,
   "metadata": {},
   "outputs": [
    {
     "name": "stdout",
     "output_type": "stream",
     "text": [
      "Fourth element in list: -10\n",
      "Sum of 2nd and 4th variable: 80\n"
     ]
    }
   ],
   "source": [
    "print(\"Fourth element in list:\", num_list[3])\n",
    "print(\"Sum of 2nd and 4th variable:\", num_list[1]+ num_list[3])"
   ]
  },
  {
   "cell_type": "code",
   "execution_count": 21,
   "metadata": {},
   "outputs": [
    {
     "name": "stdout",
     "output_type": "stream",
     "text": [
      "[-10, 0, 3, 22, 22, 48, 90]\n"
     ]
    }
   ],
   "source": [
    "num_list_sorted =sorted(num_list)\n",
    "print(num_list_sorted)"
   ]
  },
  {
   "cell_type": "code",
   "execution_count": 23,
   "metadata": {},
   "outputs": [
    {
     "name": "stdout",
     "output_type": "stream",
     "text": [
      "Second largest value in list is 48\n"
     ]
    }
   ],
   "source": [
    "print(\"Second largest value in list is\", num_list_sorted[-2])"
   ]
  },
  {
   "cell_type": "code",
   "execution_count": 25,
   "metadata": {},
   "outputs": [
    {
     "name": "stdout",
     "output_type": "stream",
     "text": [
      "Last element in original list: 48\n",
      "Sum of all numbers divided by 2: 87.5\n"
     ]
    }
   ],
   "source": [
    "print(\"Last element in original list:\", num_list[-1])\n",
    "print(\"Sum of all numbers divided by 2:\", sum(num_list)/2)"
   ]
  },
  {
   "cell_type": "code",
   "execution_count": 27,
   "metadata": {},
   "outputs": [
    {
     "name": "stdout",
     "output_type": "stream",
     "text": [
      "Mean of the list is a higher number than Median\n"
     ]
    }
   ],
   "source": [
    "import statistics\n",
    "med_list = statistics.median(num_list_sorted)\n",
    "mean_list= statistics.mean(num_list_sorted)\n",
    "if med_list > mean_list:\n",
    "    print(\"Median of the list is higher number than Mean\")\n",
    "else: print (\"Mean of the list is a higher number than Median\")"
   ]
  },
  {
   "cell_type": "markdown",
   "metadata": {},
   "source": [
    "**Part One: Dictionaries**"
   ]
  },
  {
   "cell_type": "code",
   "execution_count": 28,
   "metadata": {},
   "outputs": [],
   "source": [
    "movie = {'title': 'Ratatouille', 'year': 2007, 'director': 'Brad Bird'}"
   ]
  },
  {
   "cell_type": "code",
   "execution_count": 30,
   "metadata": {},
   "outputs": [],
   "source": [
    "movie['budget'] = 150000000\n",
    "movie['revenue'] = 620700000"
   ]
  },
  {
   "cell_type": "code",
   "execution_count": 36,
   "metadata": {},
   "outputs": [
    {
     "name": "stdout",
     "output_type": "stream",
     "text": [
      "Difference between the movie's budget and revenue is: 470700000\n",
      "That was a great investment\n"
     ]
    }
   ],
   "source": [
    "leftover = format(movie['revenue'] - movie['budget'])\n",
    "print(\"Difference between the movie's budget and revenue is:\", leftover)\n",
    "if (movie['revenue']> movie['budget']):\n",
    "    print(\"That was a great investment\")\n",
    "elif (movie['revenue'] < movie['budget']):\n",
    "    print(\"That was a bad investment\")\n",
    "else: print(\"That was an okay investment\")"
   ]
  },
  {
   "cell_type": "code",
   "execution_count": 37,
   "metadata": {},
   "outputs": [],
   "source": [
    "nyc_pop_by_borough = {'Manhattan': 1600000, 'Brooklyn': 2600000, 'Bronx': 1400000, 'Queens':2300000, 'Staten island': 470000}\n"
   ]
  },
  {
   "cell_type": "code",
   "execution_count": 38,
   "metadata": {},
   "outputs": [
    {
     "name": "stdout",
     "output_type": "stream",
     "text": [
      "The population of Brooklyn is: 2600000\n"
     ]
    }
   ],
   "source": [
    "print(\"The population of Brooklyn is:\", nyc_pop_by_borough[\"Brooklyn\"])"
   ]
  },
  {
   "cell_type": "code",
   "execution_count": 50,
   "metadata": {},
   "outputs": [
    {
     "name": "stdout",
     "output_type": "stream",
     "text": [
      "Combined population of five boroughs: 8370000\n"
     ]
    }
   ],
   "source": [
    "sum_nyc_pop = 0\n",
    "for i in nyc_pop_by_borough:\n",
    "    sum_nyc_pop = sum_nyc_pop + nyc_pop_by_borough[i]\n",
    "print(\"Combined population of five boroughs:\", sum_nyc_pop)"
   ]
  },
  {
   "cell_type": "code",
   "execution_count": 53,
   "metadata": {},
   "outputs": [
    {
     "name": "stdout",
     "output_type": "stream",
     "text": [
      "Population in Manhattan: 19.1 %\n"
     ]
    }
   ],
   "source": [
    "man_pop = round(nyc_pop_by_borough['Manhattan']/sum_nyc_pop *100,1)\n",
    "print(\"Population in Manhattan:\", man_pop ,\"%\")"
   ]
  },
  {
   "cell_type": "code",
   "execution_count": null,
   "metadata": {},
   "outputs": [],
   "source": []
  }
 ],
 "metadata": {
  "kernelspec": {
   "display_name": "Python 3",
   "language": "python",
   "name": "python3"
  },
  "language_info": {
   "codemirror_mode": {
    "name": "ipython",
    "version": 3
   },
   "file_extension": ".py",
   "mimetype": "text/x-python",
   "name": "python",
   "nbconvert_exporter": "python",
   "pygments_lexer": "ipython3",
   "version": "3.8.6"
  }
 },
 "nbformat": 4,
 "nbformat_minor": 4
}
