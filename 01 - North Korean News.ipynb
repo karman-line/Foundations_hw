{
 "cells": [
  {
   "cell_type": "markdown",
   "metadata": {},
   "source": [
    "# North Korean News\n",
    "\n",
    "Scrape the North Korean news agency http://kcna.kp\n",
    "\n",
    "Save a CSV called `nk-news.csv`. This file should include:\n",
    "\n",
    "* The **article headline**\n",
    "* The value of **`onclick`** (they don't have normal links)\n",
    "* The **article ID** (for example, the article ID for `fn_showArticle(\"AR0125885\", \"\", \"NT00\", \"L\")` is `AR0125885`\n",
    "\n",
    "The last part is easiest using pandas. Be sure you don't save the index!\n",
    "\n",
    "* _**Tip:** If you're using requests+BeautifulSoup, you can always look at response.text to see if the page looks like what you think it looks like_\n",
    "* _**Tip:** Check your URL to make sure it is what you think it should be!_\n",
    "* _**Tip:** Does it look different if you scrape with BeautifulSoup compared to if you scrape it with Selenium?_\n",
    "* _**Tip:** For the last part, how do you pull out part of a string from a longer string?_\n",
    "* _**Tip:** `expand=False` is helpful if you want to assign a single new column when extracting_\n",
    "* _**Tip:** `(` and `)` mean something special in regular expressions, so you have to say \"no really seriously I mean `(`\" by using `\\(` instead_\n",
    "* _**Tip:** if your `.*` is taking up too much stuff, you can try `.*?` instead, which instead of \"take as much as possible\" it means \"take only as much as needed\"_"
   ]
  },
  {
   "cell_type": "code",
   "execution_count": 1,
   "metadata": {},
   "outputs": [],
   "source": [
    "import requests\n",
    "import re\n",
    "from bs4 import BeautifulSoup\n",
    "import pandas as pd"
   ]
  },
  {
   "cell_type": "code",
   "execution_count": null,
   "metadata": {
    "scrolled": false
   },
   "outputs": [],
   "source": [
    "my_url = \"http://kcna.kp/kcna.user.home.retrieveHomeInfoList.kcmsf\"\n",
    "raw_html = requests.get(my_url).content\n",
    "\n",
    "soup_doc = BeautifulSoup(raw_html, \"html.parser\")\n",
    "# print(soup_doc.prettify())\n",
    "\n",
    "titlebet = soup_doc.find_all(class_='titlebet')\n",
    "len(titlebet)\n",
    "\n",
    "# Need article title, article id\n",
    "# Let's begin with article_title\n",
    "\n",
    "article_id_pat = r'(AR0\\d{6})'\n",
    "\n",
    "article_biglist = []\n",
    "\n",
    "#Building list of dictionaries\n",
    "\n",
    "for title in titlebet:\n",
    "    article_dict = {}\n",
    "    \n",
    "    #Getting the article title\n",
    "    article_dict['title'] = title.text\n",
    "#     article_biglist.append(article_dict)\n",
    "    \n",
    "    #Getting article id\n",
    "    id_text = title.get('onclick')\n",
    "    article_dict['article_id'] = re.findall(article_id_pat, id_text, re.IGNORECASE)[0]\n",
    "    article_biglist.append(article_dict)\n",
    "\n",
    "article_biglist"
   ]
  },
  {
   "cell_type": "code",
   "execution_count": 65,
   "metadata": {},
   "outputs": [
    {
     "data": {
      "text/html": [
       "<div>\n",
       "<style scoped>\n",
       "    .dataframe tbody tr th:only-of-type {\n",
       "        vertical-align: middle;\n",
       "    }\n",
       "\n",
       "    .dataframe tbody tr th {\n",
       "        vertical-align: top;\n",
       "    }\n",
       "\n",
       "    .dataframe thead th {\n",
       "        text-align: right;\n",
       "    }\n",
       "</style>\n",
       "<table border=\"1\" class=\"dataframe\">\n",
       "  <thead>\n",
       "    <tr style=\"text-align: right;\">\n",
       "      <th></th>\n",
       "      <th>title</th>\n",
       "      <th>article_id</th>\n",
       "    </tr>\n",
       "  </thead>\n",
       "  <tbody>\n",
       "    <tr>\n",
       "      <th>0</th>\n",
       "      <td>경애하는 최고령도자 김정은동지께서 라오스인민혁명당 중앙위원회 총비서인 라오스인민민주...</td>\n",
       "      <td>AR0140322</td>\n",
       "    </tr>\n",
       "    <tr>\n",
       "      <th>1</th>\n",
       "      <td>조선로동당 중앙위원회 제7기 제21차 정치국 확대회의 진행</td>\n",
       "      <td>AR0140253</td>\n",
       "    </tr>\n",
       "    <tr>\n",
       "      <th>2</th>\n",
       "      <td>경애하는 최고령도자 김정은동지께서 수리아대통령에게 축전을 보내시였다</td>\n",
       "      <td>AR0139989</td>\n",
       "    </tr>\n",
       "    <tr>\n",
       "      <th>3</th>\n",
       "      <td>조선로동당 중앙위원회 제7기 제20차 정치국 확대회의 진행</td>\n",
       "      <td>AR0139950</td>\n",
       "    </tr>\n",
       "    <tr>\n",
       "      <th>4</th>\n",
       "      <td>경애하는 최고령도자 김정은동지께서  《총련분회대표자대회-2020》(새 전성기 3차대...</td>\n",
       "      <td>AR0139645</td>\n",
       "    </tr>\n",
       "  </tbody>\n",
       "</table>\n",
       "</div>"
      ],
      "text/plain": [
       "                                               title article_id\n",
       "0  경애하는 최고령도자 김정은동지께서 라오스인민혁명당 중앙위원회 총비서인 라오스인민민주...  AR0140322\n",
       "1                   조선로동당 중앙위원회 제7기 제21차 정치국 확대회의 진행  AR0140253\n",
       "2              경애하는 최고령도자 김정은동지께서 수리아대통령에게 축전을 보내시였다  AR0139989\n",
       "3                   조선로동당 중앙위원회 제7기 제20차 정치국 확대회의 진행  AR0139950\n",
       "4  경애하는 최고령도자 김정은동지께서  《총련분회대표자대회-2020》(새 전성기 3차대...  AR0139645"
      ]
     },
     "execution_count": 65,
     "metadata": {},
     "output_type": "execute_result"
    }
   ],
   "source": [
    "#Converting list of dictionaries to a dataframe\n",
    "\n",
    "article_df = pd.DataFrame(article_biglist)\n",
    "article_df.head()"
   ]
  },
  {
   "cell_type": "code",
   "execution_count": 71,
   "metadata": {},
   "outputs": [],
   "source": [
    "#Converting to .csv file in local folder\n",
    "article_df.to_csv(r'C:\\Users\\k2kar\\Desktop\\Columbia and all\\Academia\\CODE\\Homework file\\11-homework\\nk_news.csv', index=False)"
   ]
  },
  {
   "cell_type": "code",
   "execution_count": null,
   "metadata": {},
   "outputs": [],
   "source": []
  }
 ],
 "metadata": {
  "kernelspec": {
   "display_name": "Python 3",
   "language": "python",
   "name": "python3"
  },
  "language_info": {
   "codemirror_mode": {
    "name": "ipython",
    "version": 3
   },
   "file_extension": ".py",
   "mimetype": "text/x-python",
   "name": "python",
   "nbconvert_exporter": "python",
   "pygments_lexer": "ipython3",
   "version": "3.8.6"
  }
 },
 "nbformat": 4,
 "nbformat_minor": 2
}
