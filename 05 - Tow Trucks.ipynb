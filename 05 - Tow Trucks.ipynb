{
 "cells": [
  {
   "cell_type": "markdown",
   "metadata": {},
   "source": [
    "# Texas Tow Trucks (`.apply` and `requests`)\n",
    "\n",
    "We're going to scrape some [tow trucks in Texas](https://www.tdlr.texas.gov/tools_search/)."
   ]
  },
  {
   "cell_type": "markdown",
   "metadata": {},
   "source": [
    "## Import your imports"
   ]
  },
  {
   "cell_type": "code",
   "execution_count": 1,
   "metadata": {},
   "outputs": [],
   "source": [
    "import pandas as pd\n",
    "import re\n",
    "import requests\n",
    "from selenium import webdriver\n",
    "from bs4 import BeautifulSoup"
   ]
  },
  {
   "cell_type": "markdown",
   "metadata": {},
   "source": [
    "## Search for the TLDR Number `006565540C`, and scrape the information on that company\n",
    "\n",
    "Using [license information system](https://www.tdlr.texas.gov/tools_search/), find information about the tow truck number above, displaying the\n",
    "\n",
    "- The business name\n",
    "- Owner/operator\n",
    "- Phone number\n",
    "- License status (Active, Expired, Etc)\n",
    "- Physical address\n",
    "\n",
    "If you can't figure a 'nice' way to locate something, your two last options might be:\n",
    "\n",
    "- **Find a \"parent\" element, then dig inside**\n",
    "- **Find all of a type of element** (like we did with `td` before) and get the `[0]`, `[1]`, `[2]`, etc\n",
    "- **XPath** (inspect an element, Copy > Copy XPath)\n",
    "\n",
    "These kinds of techniques tend to break when you're on other result pages, but... maybe not! You won't know until you try.\n",
    "\n",
    "> - *TIP: When you use xpath, you CANNOT use double quotes or Python will get confused. Use single quotes.*\n",
    "> - *TIP: You can clean your data up if you want to, or leave it dirty to clean later*\n",
    "> - *TIP: The address part can be tough, but you have a few options. You can use a combination of `.split` and list slicing to clean it now, or clean it later in the dataframe with regular expressions. Or other options, too, probably*"
   ]
  },
  {
   "cell_type": "code",
   "execution_count": 154,
   "metadata": {},
   "outputs": [],
   "source": [
    "#url = \"https://www.tdlr.texas.gov/tools_search/\"\n",
    "driver = webdriver.Chrome()\n",
    "driver.get(url)"
   ]
  },
  {
   "cell_type": "code",
   "execution_count": 112,
   "metadata": {},
   "outputs": [],
   "source": [
    "tldr_button = driver.find_element_by_xpath(\"/html/body/div/div[1]/div/div/form/table/tbody/tr[5]/td[1]/input[1]\").click()"
   ]
  },
  {
   "cell_type": "code",
   "execution_count": 113,
   "metadata": {},
   "outputs": [],
   "source": [
    "tldr_entry = driver.find_element_by_xpath(\"/html/body/div/div[1]/div/div/form/table/tbody/tr[5]/td[1]/input[2]\")\n",
    "tldr_entry.send_keys('006564940C')"
   ]
  },
  {
   "cell_type": "code",
   "execution_count": 114,
   "metadata": {},
   "outputs": [],
   "source": [
    "submit = driver.find_element_by_xpath(\"/html/body/div/div[1]/div/div/form/table/tbody/tr[10]/td/center/button\").click()"
   ]
  },
  {
   "cell_type": "code",
   "execution_count": 115,
   "metadata": {},
   "outputs": [
    {
     "name": "stdout",
     "output_type": "stream",
     "text": [
      "A & N TOWING LLC\n"
     ]
    }
   ],
   "source": [
    "details = driver.find_elements_by_tag_name('tbody')[4]\n",
    "bus_name = details.find_elements_by_tag_name('tr')[1].text\n",
    "bus_name = bus_name.replace(\"Name:\", \"\").split(\"DBA\")[0].strip()\n",
    "print(bus_name)"
   ]
  },
  {
   "cell_type": "code",
   "execution_count": 116,
   "metadata": {},
   "outputs": [],
   "source": [
    "#Owner/operator\n",
    "# Phone number\n",
    "# License status (Active, Expired, Etc)\n",
    "# Physical address"
   ]
  },
  {
   "cell_type": "code",
   "execution_count": 117,
   "metadata": {},
   "outputs": [],
   "source": [
    "owner_op = details.find_elements_by_tag_name('tr')[2].text.replace(\"Owner/Officer:\", \"\").strip()\n",
    "ph_no = details.find_elements_by_tag_name('tr')[3].text.replace(\"Phone:\", \"\").strip()"
   ]
  },
  {
   "cell_type": "code",
   "execution_count": 118,
   "metadata": {},
   "outputs": [
    {
     "name": "stdout",
     "output_type": "stream",
     "text": [
      "Certificate Information: Status:  Active\n",
      "Number:  006564940C (Active) Carrier Type:  Tow Truck Company\n",
      "Number of Active Tow Trucks:   1\n",
      "\n",
      "Address Information\n",
      "Mailing:\n",
      "10838 DEEPWATER BAY\n",
      "SAN ANTONIO, TX. 78251\n",
      "\n",
      "Physical:\n",
      "10838 DEEPWATER BAY\n",
      "SAN ANTONIO, TX. 78251\n"
     ]
    }
   ],
   "source": [
    "details2 = driver.find_elements_by_tag_name('tbody')[5]\n",
    "details2_td = details2.find_elements_by_tag_name('td')\n",
    "print(details2.text)"
   ]
  },
  {
   "cell_type": "code",
   "execution_count": 119,
   "metadata": {},
   "outputs": [
    {
     "name": "stdout",
     "output_type": "stream",
     "text": [
      "Carrier Type:  Tow Truck Company\n",
      "Number of Active Tow Trucks:   1\n",
      "\n",
      "Address Information\n",
      "Mailing:\n",
      "10838 DEEPWATER BAY\n",
      "SAN ANTONIO, TX. 78251\n",
      "\n",
      "Physical:\n",
      "10838 DEEPWATER BAY\n",
      "SAN ANTONIO, TX. 78251\n"
     ]
    }
   ],
   "source": [
    "print(details2_td[3].text)\n",
    "lic_status = details2_td[1].text.replace(\"Status:\", \"\").strip()\n",
    "phys_add = re.findall(r'Physical:\\s*(.*\\n.*)', details2_td[3].text)[0]"
   ]
  },
  {
   "cell_type": "code",
   "execution_count": 120,
   "metadata": {},
   "outputs": [
    {
     "name": "stdout",
     "output_type": "stream",
     "text": [
      "10838 DEEPWATER BAY\n",
      "SAN ANTONIO, TX. 78251\n"
     ]
    }
   ],
   "source": [
    "print(phys_add)"
   ]
  },
  {
   "cell_type": "code",
   "execution_count": 100,
   "metadata": {},
   "outputs": [
    {
     "data": {
      "text/html": [
       "<div>\n",
       "<style scoped>\n",
       "    .dataframe tbody tr th:only-of-type {\n",
       "        vertical-align: middle;\n",
       "    }\n",
       "\n",
       "    .dataframe tbody tr th {\n",
       "        vertical-align: top;\n",
       "    }\n",
       "\n",
       "    .dataframe thead th {\n",
       "        text-align: right;\n",
       "    }\n",
       "</style>\n",
       "<table border=\"1\" class=\"dataframe\">\n",
       "  <thead>\n",
       "    <tr style=\"text-align: right;\">\n",
       "      <th></th>\n",
       "      <th>TDLR Number</th>\n",
       "    </tr>\n",
       "  </thead>\n",
       "  <tbody>\n",
       "    <tr>\n",
       "      <th>0</th>\n",
       "      <td>006565540C</td>\n",
       "    </tr>\n",
       "    <tr>\n",
       "      <th>1</th>\n",
       "      <td>0654479VSF</td>\n",
       "    </tr>\n",
       "    <tr>\n",
       "      <th>2</th>\n",
       "      <td>006564940C</td>\n",
       "    </tr>\n",
       "    <tr>\n",
       "      <th>3</th>\n",
       "      <td>006542079C</td>\n",
       "    </tr>\n",
       "    <tr>\n",
       "      <th>4</th>\n",
       "      <td>0655733VSF</td>\n",
       "    </tr>\n",
       "  </tbody>\n",
       "</table>\n",
       "</div>"
      ],
      "text/plain": [
       "  TDLR Number\n",
       "0  006565540C\n",
       "1  0654479VSF\n",
       "2  006564940C\n",
       "3  006542079C\n",
       "4  0655733VSF"
      ]
     },
     "execution_count": 100,
     "metadata": {},
     "output_type": "execute_result"
    }
   ],
   "source": [
    "tow_truck_df = pd.read_csv('tow-trucks.csv')\n",
    "tow_truck_df.head()"
   ]
  },
  {
   "cell_type": "markdown",
   "metadata": {},
   "source": [
    "# Adapt this to work inside of a single cell\n",
    "\n",
    "Double-check that it works. You want it to print out all of the details."
   ]
  },
  {
   "cell_type": "code",
   "execution_count": 177,
   "metadata": {},
   "outputs": [],
   "source": [
    "def tow_truck_machine(tdlr_no):\n",
    "    url = \"https://www.tdlr.texas.gov/tools_search/\"\n",
    "    driver = webdriver.Chrome()\n",
    "    driver.get(url)\n",
    "    tldr_button = driver.find_element_by_xpath(\"/html/body/div/div[1]/div/div/form/table/tbody/tr[5]/td[1]/input[1]\").click()\n",
    "    tldr_entry = driver.find_element_by_xpath(\"/html/body/div/div[1]/div/div/form/table/tbody/tr[5]/td[1]/input[2]\")\n",
    "    \n",
    "#     for tldr_no in series:\n",
    "    tldr_entry.send_keys(tdlr_no)\n",
    "    submit = driver.find_element_by_xpath(\"/html/body/div/div[1]/div/div/form/table/tbody/tr[10]/td/center/button\").click()\n",
    "    \n",
    "\n",
    "    \n",
    "    details = driver.find_elements_by_tag_name('tbody')[4]\n",
    "    bus_name = details.find_elements_by_tag_name('tr')[1].text.replace(\"Name:\", \"\").split(\"DBA\")[0].strip()\n",
    "    owner_op = details.find_elements_by_tag_name('tr')[2].text.replace(\"Owner/Officer:\", \"\").strip()\n",
    "    ph_no = details.find_elements_by_tag_name('tr')[3].text.replace(\"Phone:\", \"\").strip()\n",
    "    details2 = driver.find_elements_by_tag_name('tbody')[5]\n",
    "    details2_td = details2.find_elements_by_tag_name('td')\n",
    "    lic_status = details2_td[1].text.replace(\"Status:\", \"\").strip()\n",
    "    phys_add = re.findall(r'Physical:\\s*(.*\\n.*)', details2_td[3].text)[0]\n",
    "    \n",
    "    result = pd.Series([bus_name, owner_op, ph_no, lic_status, phys_add], index =['Name', 'Owner', 'Phone', 'License_status', 'Address'])\n",
    "    return (result)\n"
   ]
  },
  {
   "cell_type": "code",
   "execution_count": 145,
   "metadata": {},
   "outputs": [
    {
     "data": {
      "text/plain": [
       "'006564940C'"
      ]
     },
     "execution_count": 145,
     "metadata": {},
     "output_type": "execute_result"
    }
   ],
   "source": [
    "tow_sample = tow_truck_df.head()\n",
    "tow_sample['TDLR Number'][2]"
   ]
  },
  {
   "cell_type": "code",
   "execution_count": 160,
   "metadata": {},
   "outputs": [
    {
     "name": "stderr",
     "output_type": "stream",
     "text": [
      "<ipython-input-160-31f54d9338ec>:1: SettingWithCopyWarning: \n",
      "A value is trying to be set on a copy of a slice from a DataFrame.\n",
      "Try using .loc[row_indexer,col_indexer] = value instead\n",
      "\n",
      "See the caveats in the documentation: https://pandas.pydata.org/pandas-docs/stable/user_guide/indexing.html#returning-a-view-versus-a-copy\n",
      "  tow_sample['link'] = tow_sample['TDLR Number'].apply(lambda x: \"https://www.tdlr.texas.gov/tools_search/mccs_display.asp?mcrnumber=\"+x)\n"
     ]
    },
    {
     "data": {
      "text/plain": [
       "0    https://www.tdlr.texas.gov/tools_search/mccs_display.asp?mcrnumber=006565540C\n",
       "1    https://www.tdlr.texas.gov/tools_search/mccs_display.asp?mcrnumber=0654479VSF\n",
       "2    https://www.tdlr.texas.gov/tools_search/mccs_display.asp?mcrnumber=006564940C\n",
       "3    https://www.tdlr.texas.gov/tools_search/mccs_display.asp?mcrnumber=006542079C\n",
       "4    https://www.tdlr.texas.gov/tools_search/mccs_display.asp?mcrnumber=0655733VSF\n",
       "Name: link, dtype: object"
      ]
     },
     "execution_count": 160,
     "metadata": {},
     "output_type": "execute_result"
    }
   ],
   "source": [
    "tow_sample['link'] = tow_sample['TDLR Number'].apply(lambda x: \"https://www.tdlr.texas.gov/tools_search/mccs_display.asp?mcrnumber=\"+x)\n",
    "tow_sample['link']"
   ]
  },
  {
   "cell_type": "code",
   "execution_count": 161,
   "metadata": {},
   "outputs": [
    {
     "data": {
      "text/html": [
       "<div>\n",
       "<style scoped>\n",
       "    .dataframe tbody tr th:only-of-type {\n",
       "        vertical-align: middle;\n",
       "    }\n",
       "\n",
       "    .dataframe tbody tr th {\n",
       "        vertical-align: top;\n",
       "    }\n",
       "\n",
       "    .dataframe thead th {\n",
       "        text-align: right;\n",
       "    }\n",
       "</style>\n",
       "<table border=\"1\" class=\"dataframe\">\n",
       "  <thead>\n",
       "    <tr style=\"text-align: right;\">\n",
       "      <th></th>\n",
       "      <th>TDLR Number</th>\n",
       "      <th>link</th>\n",
       "    </tr>\n",
       "  </thead>\n",
       "  <tbody>\n",
       "    <tr>\n",
       "      <th>0</th>\n",
       "      <td>006565540C</td>\n",
       "      <td>https://www.tdlr.texas.gov/tools_search/mccs_display.asp?mcrnumber=006565540C</td>\n",
       "    </tr>\n",
       "    <tr>\n",
       "      <th>1</th>\n",
       "      <td>0654479VSF</td>\n",
       "      <td>https://www.tdlr.texas.gov/tools_search/mccs_display.asp?mcrnumber=0654479VSF</td>\n",
       "    </tr>\n",
       "    <tr>\n",
       "      <th>2</th>\n",
       "      <td>006564940C</td>\n",
       "      <td>https://www.tdlr.texas.gov/tools_search/mccs_display.asp?mcrnumber=006564940C</td>\n",
       "    </tr>\n",
       "    <tr>\n",
       "      <th>3</th>\n",
       "      <td>006542079C</td>\n",
       "      <td>https://www.tdlr.texas.gov/tools_search/mccs_display.asp?mcrnumber=006542079C</td>\n",
       "    </tr>\n",
       "    <tr>\n",
       "      <th>4</th>\n",
       "      <td>0655733VSF</td>\n",
       "      <td>https://www.tdlr.texas.gov/tools_search/mccs_display.asp?mcrnumber=0655733VSF</td>\n",
       "    </tr>\n",
       "  </tbody>\n",
       "</table>\n",
       "</div>"
      ],
      "text/plain": [
       "  TDLR Number  \\\n",
       "0  006565540C   \n",
       "1  0654479VSF   \n",
       "2  006564940C   \n",
       "3  006542079C   \n",
       "4  0655733VSF   \n",
       "\n",
       "                                                                            link  \n",
       "0  https://www.tdlr.texas.gov/tools_search/mccs_display.asp?mcrnumber=006565540C  \n",
       "1  https://www.tdlr.texas.gov/tools_search/mccs_display.asp?mcrnumber=0654479VSF  \n",
       "2  https://www.tdlr.texas.gov/tools_search/mccs_display.asp?mcrnumber=006564940C  \n",
       "3  https://www.tdlr.texas.gov/tools_search/mccs_display.asp?mcrnumber=006542079C  \n",
       "4  https://www.tdlr.texas.gov/tools_search/mccs_display.asp?mcrnumber=0655733VSF  "
      ]
     },
     "execution_count": 161,
     "metadata": {},
     "output_type": "execute_result"
    }
   ],
   "source": [
    "tow_sample"
   ]
  },
  {
   "cell_type": "markdown",
   "metadata": {},
   "source": [
    "# Using .apply to find data about SEVERAL tow truck companies\n",
    "\n",
    "The file `trucks-subset.csv` has information about the trucks, we'll use it to find the pages to scrape.\n",
    "\n",
    "### Open up `trucks-subset.csv` and save it into a dataframe"
   ]
  },
  {
   "cell_type": "code",
   "execution_count": 158,
   "metadata": {},
   "outputs": [],
   "source": [
    "pd.set_option('display.max_colwidth', None)"
   ]
  },
  {
   "cell_type": "code",
   "execution_count": 179,
   "metadata": {},
   "outputs": [
    {
     "data": {
      "text/html": [
       "<div>\n",
       "<style scoped>\n",
       "    .dataframe tbody tr th:only-of-type {\n",
       "        vertical-align: middle;\n",
       "    }\n",
       "\n",
       "    .dataframe tbody tr th {\n",
       "        vertical-align: top;\n",
       "    }\n",
       "\n",
       "    .dataframe thead th {\n",
       "        text-align: right;\n",
       "    }\n",
       "</style>\n",
       "<table border=\"1\" class=\"dataframe\">\n",
       "  <thead>\n",
       "    <tr style=\"text-align: right;\">\n",
       "      <th></th>\n",
       "      <th>Name</th>\n",
       "      <th>Owner</th>\n",
       "      <th>Phone</th>\n",
       "      <th>License_status</th>\n",
       "      <th>Address</th>\n",
       "    </tr>\n",
       "  </thead>\n",
       "  <tbody>\n",
       "    <tr>\n",
       "      <th>0</th>\n",
       "      <td>H &amp; A TOWING LLC</td>\n",
       "      <td>HANEEN ABBAS MOHAMMEDAWI / MANAGER</td>\n",
       "      <td>512-999-8883</td>\n",
       "      <td>Active</td>\n",
       "      <td>11710 JOSEPH CLAYTON DR\\nAUSTIN, TX. 78753</td>\n",
       "    </tr>\n",
       "    <tr>\n",
       "      <th>1</th>\n",
       "      <td>24/7 TOWING AND RECOVERY LLC</td>\n",
       "      <td>SCOTT JENSON / VICE PRESIDENT</td>\n",
       "      <td>Owner/Officer:   CHRIS BRENES / PRESIDENT</td>\n",
       "      <td>Active</td>\n",
       "      <td>3601 N COUNTY ROAD 1148\\nMIDLAND, TX. 79705</td>\n",
       "    </tr>\n",
       "    <tr>\n",
       "      <th>2</th>\n",
       "      <td>A &amp; N TOWING LLC</td>\n",
       "      <td>ABDULRAHMAN Z ALABDULLAH / CEO</td>\n",
       "      <td>2106678546</td>\n",
       "      <td>Active</td>\n",
       "      <td>10838 DEEPWATER BAY\\nSAN ANTONIO, TX. 78251</td>\n",
       "    </tr>\n",
       "    <tr>\n",
       "      <th>3</th>\n",
       "      <td>AR TOWING LLC</td>\n",
       "      <td>TANYA M JOHNSON / PRESIDENT</td>\n",
       "      <td>Owner/Officer:   ROBERT J PETELL / OFFICER</td>\n",
       "      <td>Active</td>\n",
       "      <td>3014 AURORA MIST DR\\nLITTLE ELM, TX. 75068</td>\n",
       "    </tr>\n",
       "    <tr>\n",
       "      <th>4</th>\n",
       "      <td>BEST IN THE WEST TOWING, LLC</td>\n",
       "      <td>DANIEL L NASTANSKY / CEO</td>\n",
       "      <td>Owner/Officer:   LINDA BRANUM / CEO</td>\n",
       "      <td>Insurance and/or fees not applied</td>\n",
       "      <td>2801 N FREMONT AVE\\nODESSA, TX. 79764</td>\n",
       "    </tr>\n",
       "  </tbody>\n",
       "</table>\n",
       "</div>"
      ],
      "text/plain": [
       "                           Name                               Owner  \\\n",
       "0              H & A TOWING LLC  HANEEN ABBAS MOHAMMEDAWI / MANAGER   \n",
       "1  24/7 TOWING AND RECOVERY LLC       SCOTT JENSON / VICE PRESIDENT   \n",
       "2              A & N TOWING LLC      ABDULRAHMAN Z ALABDULLAH / CEO   \n",
       "3                 AR TOWING LLC         TANYA M JOHNSON / PRESIDENT   \n",
       "4  BEST IN THE WEST TOWING, LLC            DANIEL L NASTANSKY / CEO   \n",
       "\n",
       "                                        Phone  \\\n",
       "0                                512-999-8883   \n",
       "1   Owner/Officer:   CHRIS BRENES / PRESIDENT   \n",
       "2                                  2106678546   \n",
       "3  Owner/Officer:   ROBERT J PETELL / OFFICER   \n",
       "4         Owner/Officer:   LINDA BRANUM / CEO   \n",
       "\n",
       "                      License_status  \\\n",
       "0                             Active   \n",
       "1                             Active   \n",
       "2                             Active   \n",
       "3                             Active   \n",
       "4  Insurance and/or fees not applied   \n",
       "\n",
       "                                       Address  \n",
       "0   11710 JOSEPH CLAYTON DR\\nAUSTIN, TX. 78753  \n",
       "1  3601 N COUNTY ROAD 1148\\nMIDLAND, TX. 79705  \n",
       "2  10838 DEEPWATER BAY\\nSAN ANTONIO, TX. 78251  \n",
       "3   3014 AURORA MIST DR\\nLITTLE ELM, TX. 75068  \n",
       "4        2801 N FREMONT AVE\\nODESSA, TX. 79764  "
      ]
     },
     "execution_count": 179,
     "metadata": {},
     "output_type": "execute_result"
    }
   ],
   "source": [
    "df_sample = tow_sample['TDLR Number'].apply(tow_truck_machine)\n",
    "df_sample"
   ]
  },
  {
   "cell_type": "markdown",
   "metadata": {},
   "source": [
    "## Go through each row of the dataset, displaying the URL you will need to scrape for the information on that row\n",
    "\n",
    "You don't have to actually use the search form for each of these - look at the URL you're on, it has the number in it!\n",
    "\n",
    "For example, one URL might look like `https://www.tdlr.texas.gov/tools_search/mccs_display.asp?mcrnumber=006565540C`.\n",
    "\n",
    "- *TIP: Use .apply and a function*\n",
    "- *TIP: You'll need to build this URL from pieces*\n",
    "- *TIP: You probably don't want to `print` unless you're going to fix it for the next question \n",
    "- *TIP: pandas won't showing you the entire url! Run `pd.set_option('display.max_colwidth', None)` to display aaaalll of the text in a cell*"
   ]
  },
  {
   "cell_type": "code",
   "execution_count": null,
   "metadata": {},
   "outputs": [],
   "source": []
  },
  {
   "cell_type": "code",
   "execution_count": null,
   "metadata": {},
   "outputs": [],
   "source": []
  },
  {
   "cell_type": "code",
   "execution_count": null,
   "metadata": {},
   "outputs": [],
   "source": []
  },
  {
   "cell_type": "markdown",
   "metadata": {},
   "source": [
    "### Save this URL into a new column of your dataframe, called `url`\n",
    "\n",
    "- *TIP: Use a function and `.apply`*\n",
    "- *TIP: Be sure to use `return`*"
   ]
  },
  {
   "cell_type": "code",
   "execution_count": null,
   "metadata": {},
   "outputs": [],
   "source": []
  },
  {
   "cell_type": "markdown",
   "metadata": {},
   "source": [
    "## Go through each row of the dataset, printing out information about each tow truck company.\n",
    "\n",
    "Now will be **scraping** inside of your function.\n",
    "\n",
    "- The business name\n",
    "- Owner/operator\n",
    "- Phone number\n",
    "- License status (Active, Expired, Etc)\n",
    "- Physical address\n",
    "\n",
    "Just print it out for now.\n",
    "\n",
    "- *TIP: use .apply*\n",
    "- *TIP: You'll be using the code you wrote before, but converted into a function*\n",
    "- *TIP: Remember how the TDLR Number is in the URL? You don't need to do the form submission if you don't want!*\n",
    "- *TIP: Make sure you adjust any variables so you don't scrape the same page again and again*"
   ]
  },
  {
   "cell_type": "code",
   "execution_count": null,
   "metadata": {},
   "outputs": [],
   "source": []
  },
  {
   "cell_type": "code",
   "execution_count": null,
   "metadata": {},
   "outputs": [],
   "source": []
  },
  {
   "cell_type": "markdown",
   "metadata": {},
   "source": [
    "## Scrape the following information for each row of the dataset, and save it into new columns in your dataframe.\n",
    "\n",
    "- The business name\n",
    "- Owner/operator\n",
    "- Phone number\n",
    "- License status (Active, Expired, Etc)\n",
    "- Physical address\n",
    "\n",
    "It's basically what we did before, but using the function a little differently.\n",
    "\n",
    "- *TIP: Same as above, but you'll be returning a `pd.Series` and the `.apply` line is going to be a lot longer*\n",
    "- *TIP: Save it to a new dataframe!*\n",
    "- *TIP: Make sure you change your `df` variable names correctly if you're cutting and pasting - there are a few so it can get tricky*"
   ]
  },
  {
   "cell_type": "code",
   "execution_count": null,
   "metadata": {},
   "outputs": [],
   "source": []
  },
  {
   "cell_type": "code",
   "execution_count": null,
   "metadata": {},
   "outputs": [],
   "source": []
  },
  {
   "cell_type": "code",
   "execution_count": null,
   "metadata": {},
   "outputs": [],
   "source": []
  },
  {
   "cell_type": "markdown",
   "metadata": {},
   "source": [
    "### Save your dataframe as a CSV named `tow-trucks-extended.csv`"
   ]
  },
  {
   "cell_type": "code",
   "execution_count": null,
   "metadata": {},
   "outputs": [],
   "source": []
  },
  {
   "cell_type": "markdown",
   "metadata": {},
   "source": [
    "### Re-open your dataframe to confirm you didn't save any extra weird columns"
   ]
  },
  {
   "cell_type": "code",
   "execution_count": null,
   "metadata": {},
   "outputs": [],
   "source": []
  },
  {
   "cell_type": "markdown",
   "metadata": {},
   "source": [
    "## Process the entire `tow-trucks.csv` file\n",
    "\n",
    "We just did it on a short subset so far. Now try it on all of the tow trucks. **Save as the same filename as before**"
   ]
  },
  {
   "cell_type": "code",
   "execution_count": null,
   "metadata": {},
   "outputs": [],
   "source": []
  },
  {
   "cell_type": "code",
   "execution_count": null,
   "metadata": {},
   "outputs": [],
   "source": []
  },
  {
   "cell_type": "code",
   "execution_count": null,
   "metadata": {},
   "outputs": [],
   "source": []
  },
  {
   "cell_type": "code",
   "execution_count": null,
   "metadata": {},
   "outputs": [],
   "source": []
  },
  {
   "cell_type": "code",
   "execution_count": null,
   "metadata": {},
   "outputs": [],
   "source": []
  }
 ],
 "metadata": {
  "kernelspec": {
   "display_name": "Python 3",
   "language": "python",
   "name": "python3"
  },
  "language_info": {
   "codemirror_mode": {
    "name": "ipython",
    "version": 3
   },
   "file_extension": ".py",
   "mimetype": "text/x-python",
   "name": "python",
   "nbconvert_exporter": "python",
   "pygments_lexer": "ipython3",
   "version": "3.8.5"
  }
 },
 "nbformat": 4,
 "nbformat_minor": 2
}
