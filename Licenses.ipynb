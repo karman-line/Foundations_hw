{
 "cells": [
  {
   "cell_type": "markdown",
   "metadata": {},
   "source": [
    "# Texas Licenses\n",
    "\n",
    "I originally got this dataset from the [License Files page](https://www.license.state.tx.us/licensesearch/licfile.asp) from the Texas Department of Licensing and Regulation, but they've changed around since then! I'm pretty sure it's [this dataset](https://www.opendatanetwork.com/dataset/data.texas.gov/7358-krk7), but we'll just use a local version instead of the most current."
   ]
  },
  {
   "cell_type": "markdown",
   "metadata": {},
   "source": [
    "# PART ONE: OPENING UP OUR DATASET"
   ]
  },
  {
   "cell_type": "markdown",
   "metadata": {},
   "source": [
    "## 0. Do your setup\n",
    "\n",
    "Import what you need to import, etc."
   ]
  },
  {
   "cell_type": "code",
   "execution_count": 1,
   "metadata": {},
   "outputs": [],
   "source": [
    "import pandas as pd\n",
    "import numpy as np\n",
    "import matplotlib.pyplot as plt\n",
    "import re"
   ]
  },
  {
   "cell_type": "markdown",
   "metadata": {},
   "source": [
    "## 1. Open the file\n",
    "\n",
    "We'll start with `licfile.csv`, which is a list of licenses."
   ]
  },
  {
   "cell_type": "code",
   "execution_count": 2,
   "metadata": {},
   "outputs": [
    {
     "name": "stderr",
     "output_type": "stream",
     "text": [
      "C:\\Users\\k2kar\\AppData\\Local\\Programs\\Python\\Python38\\lib\\site-packages\\IPython\\core\\interactiveshell.py:3145: DtypeWarning: Columns (1,15,16) have mixed types.Specify dtype option on import or set low_memory=False.\n",
      "  has_raised = await self.run_ast_nodes(code_ast.body, cell_name,\n"
     ]
    },
    {
     "data": {
      "text/html": [
       "<div>\n",
       "<style scoped>\n",
       "    .dataframe tbody tr th:only-of-type {\n",
       "        vertical-align: middle;\n",
       "    }\n",
       "\n",
       "    .dataframe tbody tr th {\n",
       "        vertical-align: top;\n",
       "    }\n",
       "\n",
       "    .dataframe thead th {\n",
       "        text-align: right;\n",
       "    }\n",
       "</style>\n",
       "<table border=\"1\" class=\"dataframe\">\n",
       "  <thead>\n",
       "    <tr style=\"text-align: right;\">\n",
       "      <th></th>\n",
       "      <th>Associate Auctioneer</th>\n",
       "      <th>7326</th>\n",
       "      <th>ANGELINA</th>\n",
       "      <th>RISINGER, JIM MARVIN</th>\n",
       "      <th>Unnamed: 4</th>\n",
       "      <th>Unnamed: 5</th>\n",
       "      <th>Unnamed: 6</th>\n",
       "      <th>Unnamed: 7</th>\n",
       "      <th>08102017</th>\n",
       "      <th>RISINGER, JIM MARVIN.1</th>\n",
       "      <th>7668 S US HWY 59</th>\n",
       "      <th>Unnamed: 11</th>\n",
       "      <th>NACOGDOCHES TX 75964</th>\n",
       "      <th>0347</th>\n",
       "      <th>NACOGDOCHES</th>\n",
       "      <th>75964</th>\n",
       "      <th>9363665745</th>\n",
       "      <th>Unnamed: 17</th>\n",
       "      <th>N</th>\n",
       "    </tr>\n",
       "  </thead>\n",
       "  <tbody>\n",
       "    <tr>\n",
       "      <th>0</th>\n",
       "      <td>Associate Auctioneer</td>\n",
       "      <td>7962</td>\n",
       "      <td>UPSHUR</td>\n",
       "      <td>WILLIAMS, JON ANDRE</td>\n",
       "      <td>NaN</td>\n",
       "      <td>NaN</td>\n",
       "      <td>NaN</td>\n",
       "      <td>NaN</td>\n",
       "      <td>12292017</td>\n",
       "      <td>WILLIAMS, JON ANDRE</td>\n",
       "      <td>228 FM 1252</td>\n",
       "      <td>NaN</td>\n",
       "      <td>KILGORE TX 75662</td>\n",
       "      <td>183.0</td>\n",
       "      <td>GREGG</td>\n",
       "      <td>75662</td>\n",
       "      <td>9039187899</td>\n",
       "      <td>NaN</td>\n",
       "      <td>N</td>\n",
       "    </tr>\n",
       "    <tr>\n",
       "      <th>1</th>\n",
       "      <td>Associate Auctioneer</td>\n",
       "      <td>8406</td>\n",
       "      <td>WILSON</td>\n",
       "      <td>GUEVARA, JUAN ANTONIO</td>\n",
       "      <td>NaN</td>\n",
       "      <td>NaN</td>\n",
       "      <td>NaN</td>\n",
       "      <td>NaN</td>\n",
       "      <td>9262017</td>\n",
       "      <td>GUEVARA, JUAN ANTONIO</td>\n",
       "      <td>6909 HWY 181</td>\n",
       "      <td>NaN</td>\n",
       "      <td>POTH TX 78147</td>\n",
       "      <td>493.0</td>\n",
       "      <td>WILSON</td>\n",
       "      <td>78147</td>\n",
       "      <td>NaN</td>\n",
       "      <td>NaN</td>\n",
       "      <td>N</td>\n",
       "    </tr>\n",
       "    <tr>\n",
       "      <th>2</th>\n",
       "      <td>Associate Auctioneer</td>\n",
       "      <td>10543</td>\n",
       "      <td>HARRIS</td>\n",
       "      <td>BOWERS, JAMES BRISCOE II</td>\n",
       "      <td>NaN</td>\n",
       "      <td>NaN</td>\n",
       "      <td>NaN</td>\n",
       "      <td>NaN</td>\n",
       "      <td>11042017</td>\n",
       "      <td>BOWERS, JAMES BRISCOE II</td>\n",
       "      <td>6767 NORTH FWY</td>\n",
       "      <td>NaN</td>\n",
       "      <td>HOUSTON TX 77076-2027</td>\n",
       "      <td>201.0</td>\n",
       "      <td>HARRIS</td>\n",
       "      <td>77076</td>\n",
       "      <td>7136445566</td>\n",
       "      <td>NaN</td>\n",
       "      <td>N</td>\n",
       "    </tr>\n",
       "    <tr>\n",
       "      <th>3</th>\n",
       "      <td>Associate Auctioneer</td>\n",
       "      <td>10642</td>\n",
       "      <td>BELL</td>\n",
       "      <td>DEMSKY, JOHN EDWARD</td>\n",
       "      <td>NaN</td>\n",
       "      <td>NaN</td>\n",
       "      <td>NaN</td>\n",
       "      <td>NaN</td>\n",
       "      <td>2252018</td>\n",
       "      <td>DEMSKY, JOHN EDWARD</td>\n",
       "      <td>130 E CLARK ST</td>\n",
       "      <td>NaN</td>\n",
       "      <td>BARTLETT TX 76511</td>\n",
       "      <td>27.0</td>\n",
       "      <td>BELL</td>\n",
       "      <td>76511</td>\n",
       "      <td>2549852228</td>\n",
       "      <td>NaN</td>\n",
       "      <td>N</td>\n",
       "    </tr>\n",
       "    <tr>\n",
       "      <th>4</th>\n",
       "      <td>Associate Auctioneer</td>\n",
       "      <td>15650</td>\n",
       "      <td>OUT OF STATE</td>\n",
       "      <td>THOMPSON, RANDY D</td>\n",
       "      <td>NaN</td>\n",
       "      <td>NaN</td>\n",
       "      <td>NaN</td>\n",
       "      <td>NaN</td>\n",
       "      <td>5042017</td>\n",
       "      <td>THOMPSON, RANDY D</td>\n",
       "      <td>10995 BELLEVILLE RD</td>\n",
       "      <td>NaN</td>\n",
       "      <td>RINGLING OK 73456</td>\n",
       "      <td>999.0</td>\n",
       "      <td>OUT OF STATE</td>\n",
       "      <td>73456</td>\n",
       "      <td>5802765961</td>\n",
       "      <td>NaN</td>\n",
       "      <td>N</td>\n",
       "    </tr>\n",
       "  </tbody>\n",
       "</table>\n",
       "</div>"
      ],
      "text/plain": [
       "   Associate Auctioneer   7326      ANGELINA      RISINGER, JIM MARVIN  \\\n",
       "0  Associate Auctioneer   7962        UPSHUR       WILLIAMS, JON ANDRE   \n",
       "1  Associate Auctioneer   8406        WILSON     GUEVARA, JUAN ANTONIO   \n",
       "2  Associate Auctioneer  10543        HARRIS  BOWERS, JAMES BRISCOE II   \n",
       "3  Associate Auctioneer  10642          BELL       DEMSKY, JOHN EDWARD   \n",
       "4  Associate Auctioneer  15650  OUT OF STATE         THOMPSON, RANDY D   \n",
       "\n",
       "   Unnamed: 4  Unnamed: 5  Unnamed: 6  Unnamed: 7  08102017  \\\n",
       "0         NaN         NaN         NaN         NaN  12292017   \n",
       "1         NaN         NaN         NaN         NaN   9262017   \n",
       "2         NaN         NaN         NaN         NaN  11042017   \n",
       "3         NaN         NaN         NaN         NaN   2252018   \n",
       "4         NaN         NaN         NaN         NaN   5042017   \n",
       "\n",
       "     RISINGER, JIM MARVIN.1     7668 S US HWY 59 Unnamed: 11  \\\n",
       "0       WILLIAMS, JON ANDRE          228 FM 1252         NaN   \n",
       "1     GUEVARA, JUAN ANTONIO         6909 HWY 181         NaN   \n",
       "2  BOWERS, JAMES BRISCOE II       6767 NORTH FWY         NaN   \n",
       "3       DEMSKY, JOHN EDWARD       130 E CLARK ST         NaN   \n",
       "4         THOMPSON, RANDY D  10995 BELLEVILLE RD         NaN   \n",
       "\n",
       "    NACOGDOCHES TX 75964   0347   NACOGDOCHES  75964  9363665745 Unnamed: 17  \\\n",
       "0       KILGORE TX 75662  183.0         GREGG  75662  9039187899         NaN   \n",
       "1          POTH TX 78147  493.0        WILSON  78147         NaN         NaN   \n",
       "2  HOUSTON TX 77076-2027  201.0        HARRIS  77076  7136445566         NaN   \n",
       "3      BARTLETT TX 76511   27.0          BELL  76511  2549852228         NaN   \n",
       "4      RINGLING OK 73456  999.0  OUT OF STATE  73456  5802765961         NaN   \n",
       "\n",
       "   N  \n",
       "0  N  \n",
       "1  N  \n",
       "2  N  \n",
       "3  N  \n",
       "4  N  "
      ]
     },
     "execution_count": 2,
     "metadata": {},
     "output_type": "execute_result"
    }
   ],
   "source": [
    "df = pd.read_csv(\"licfile.csv\")\n",
    "df.head()"
   ]
  },
  {
   "cell_type": "markdown",
   "metadata": {},
   "source": [
    "## 2. That looks terrible, let's add column names.\n",
    "\n",
    "It apparently doesn't have headers! **Read the file in again, but setting your own column names**. Their [current data dictionary might not perfectly match](https://www.opendatanetwork.com/dataset/data.texas.gov/7358-krk7), but you can use it to understand what the columns are. For the dataset we're using, the order goes like this:\n",
    "\n",
    "* LICTYPE\n",
    "* LICNUMBER\n",
    "* BIZCOUNTY\n",
    "* BIZNAME\n",
    "* BIZLINE1\n",
    "* BIZLINE2\n",
    "* BIZCITYSTATE\n",
    "* BIZTELEPHONE\n",
    "* EXPIRATION\n",
    "* OWNER\n",
    "* MAILLINE1\n",
    "* MAILLINE2\n",
    "* MAILCITYSTATE\n",
    "* MAILCOUNTYCODE\n",
    "* MAILCOUNTY\n",
    "* MAILZIP\n",
    "* TELEPHONE\n",
    "* LICSUBTYPE\n",
    "* CEFLAG\n",
    "\n",
    "**Note:** You can rename the columns to things that make sense - \"expiration\" is a little more manageable than \"LICENSE EXPIRATION DATE (MMDDCCYY)\". I've named my License Type column LICTYPE, so if you haven't you'll have to change the rest of my sample code to match."
   ]
  },
  {
   "cell_type": "code",
   "execution_count": 3,
   "metadata": {},
   "outputs": [
    {
     "data": {
      "text/html": [
       "<div>\n",
       "<style scoped>\n",
       "    .dataframe tbody tr th:only-of-type {\n",
       "        vertical-align: middle;\n",
       "    }\n",
       "\n",
       "    .dataframe tbody tr th {\n",
       "        vertical-align: top;\n",
       "    }\n",
       "\n",
       "    .dataframe thead th {\n",
       "        text-align: right;\n",
       "    }\n",
       "</style>\n",
       "<table border=\"1\" class=\"dataframe\">\n",
       "  <thead>\n",
       "    <tr style=\"text-align: right;\">\n",
       "      <th></th>\n",
       "      <th>LICTYPE</th>\n",
       "      <th>LICNUMBER</th>\n",
       "      <th>BIZCOUNTY</th>\n",
       "      <th>BIZNAME</th>\n",
       "      <th>BIZLINE1</th>\n",
       "      <th>BIZLINE2</th>\n",
       "      <th>BIZCITYSTATE</th>\n",
       "      <th>BIZTELEPHONE</th>\n",
       "      <th>EXPIRATION</th>\n",
       "      <th>OWNER</th>\n",
       "      <th>MAILLINE1</th>\n",
       "      <th>MAILLINE2</th>\n",
       "      <th>MAILCITYSTATE</th>\n",
       "      <th>MAILCOUNTYCODE</th>\n",
       "      <th>MAILCOUNTY</th>\n",
       "      <th>MAILZIP</th>\n",
       "      <th>TELEPHONE</th>\n",
       "      <th>LICSUBTYPE</th>\n",
       "      <th>CEFLAG</th>\n",
       "    </tr>\n",
       "  </thead>\n",
       "  <tbody>\n",
       "    <tr>\n",
       "      <th>0</th>\n",
       "      <td>Associate Auctioneer</td>\n",
       "      <td>7962</td>\n",
       "      <td>UPSHUR</td>\n",
       "      <td>WILLIAMS, JON ANDRE</td>\n",
       "      <td>NaN</td>\n",
       "      <td>NaN</td>\n",
       "      <td>NaN</td>\n",
       "      <td>NaN</td>\n",
       "      <td>12292017</td>\n",
       "      <td>WILLIAMS, JON ANDRE</td>\n",
       "      <td>228 FM 1252</td>\n",
       "      <td>NaN</td>\n",
       "      <td>KILGORE TX 75662</td>\n",
       "      <td>183.0</td>\n",
       "      <td>GREGG</td>\n",
       "      <td>75662</td>\n",
       "      <td>9039187899</td>\n",
       "      <td>NaN</td>\n",
       "      <td>N</td>\n",
       "    </tr>\n",
       "    <tr>\n",
       "      <th>1</th>\n",
       "      <td>Associate Auctioneer</td>\n",
       "      <td>8406</td>\n",
       "      <td>WILSON</td>\n",
       "      <td>GUEVARA, JUAN ANTONIO</td>\n",
       "      <td>NaN</td>\n",
       "      <td>NaN</td>\n",
       "      <td>NaN</td>\n",
       "      <td>NaN</td>\n",
       "      <td>9262017</td>\n",
       "      <td>GUEVARA, JUAN ANTONIO</td>\n",
       "      <td>6909 HWY 181</td>\n",
       "      <td>NaN</td>\n",
       "      <td>POTH TX 78147</td>\n",
       "      <td>493.0</td>\n",
       "      <td>WILSON</td>\n",
       "      <td>78147</td>\n",
       "      <td>NaN</td>\n",
       "      <td>NaN</td>\n",
       "      <td>N</td>\n",
       "    </tr>\n",
       "    <tr>\n",
       "      <th>2</th>\n",
       "      <td>Associate Auctioneer</td>\n",
       "      <td>10543</td>\n",
       "      <td>HARRIS</td>\n",
       "      <td>BOWERS, JAMES BRISCOE II</td>\n",
       "      <td>NaN</td>\n",
       "      <td>NaN</td>\n",
       "      <td>NaN</td>\n",
       "      <td>NaN</td>\n",
       "      <td>11042017</td>\n",
       "      <td>BOWERS, JAMES BRISCOE II</td>\n",
       "      <td>6767 NORTH FWY</td>\n",
       "      <td>NaN</td>\n",
       "      <td>HOUSTON TX 77076-2027</td>\n",
       "      <td>201.0</td>\n",
       "      <td>HARRIS</td>\n",
       "      <td>77076</td>\n",
       "      <td>7136445566</td>\n",
       "      <td>NaN</td>\n",
       "      <td>N</td>\n",
       "    </tr>\n",
       "    <tr>\n",
       "      <th>3</th>\n",
       "      <td>Associate Auctioneer</td>\n",
       "      <td>10642</td>\n",
       "      <td>BELL</td>\n",
       "      <td>DEMSKY, JOHN EDWARD</td>\n",
       "      <td>NaN</td>\n",
       "      <td>NaN</td>\n",
       "      <td>NaN</td>\n",
       "      <td>NaN</td>\n",
       "      <td>2252018</td>\n",
       "      <td>DEMSKY, JOHN EDWARD</td>\n",
       "      <td>130 E CLARK ST</td>\n",
       "      <td>NaN</td>\n",
       "      <td>BARTLETT TX 76511</td>\n",
       "      <td>27.0</td>\n",
       "      <td>BELL</td>\n",
       "      <td>76511</td>\n",
       "      <td>2549852228</td>\n",
       "      <td>NaN</td>\n",
       "      <td>N</td>\n",
       "    </tr>\n",
       "    <tr>\n",
       "      <th>4</th>\n",
       "      <td>Associate Auctioneer</td>\n",
       "      <td>15650</td>\n",
       "      <td>OUT OF STATE</td>\n",
       "      <td>THOMPSON, RANDY D</td>\n",
       "      <td>NaN</td>\n",
       "      <td>NaN</td>\n",
       "      <td>NaN</td>\n",
       "      <td>NaN</td>\n",
       "      <td>5042017</td>\n",
       "      <td>THOMPSON, RANDY D</td>\n",
       "      <td>10995 BELLEVILLE RD</td>\n",
       "      <td>NaN</td>\n",
       "      <td>RINGLING OK 73456</td>\n",
       "      <td>999.0</td>\n",
       "      <td>OUT OF STATE</td>\n",
       "      <td>73456</td>\n",
       "      <td>5802765961</td>\n",
       "      <td>NaN</td>\n",
       "      <td>N</td>\n",
       "    </tr>\n",
       "  </tbody>\n",
       "</table>\n",
       "</div>"
      ],
      "text/plain": [
       "                LICTYPE LICNUMBER     BIZCOUNTY                   BIZNAME  \\\n",
       "0  Associate Auctioneer      7962        UPSHUR       WILLIAMS, JON ANDRE   \n",
       "1  Associate Auctioneer      8406        WILSON     GUEVARA, JUAN ANTONIO   \n",
       "2  Associate Auctioneer     10543        HARRIS  BOWERS, JAMES BRISCOE II   \n",
       "3  Associate Auctioneer     10642          BELL       DEMSKY, JOHN EDWARD   \n",
       "4  Associate Auctioneer     15650  OUT OF STATE         THOMPSON, RANDY D   \n",
       "\n",
       "   BIZLINE1  BIZLINE2  BIZCITYSTATE  BIZTELEPHONE  EXPIRATION  \\\n",
       "0       NaN       NaN           NaN           NaN    12292017   \n",
       "1       NaN       NaN           NaN           NaN     9262017   \n",
       "2       NaN       NaN           NaN           NaN    11042017   \n",
       "3       NaN       NaN           NaN           NaN     2252018   \n",
       "4       NaN       NaN           NaN           NaN     5042017   \n",
       "\n",
       "                      OWNER            MAILLINE1 MAILLINE2  \\\n",
       "0       WILLIAMS, JON ANDRE          228 FM 1252       NaN   \n",
       "1     GUEVARA, JUAN ANTONIO         6909 HWY 181       NaN   \n",
       "2  BOWERS, JAMES BRISCOE II       6767 NORTH FWY       NaN   \n",
       "3       DEMSKY, JOHN EDWARD       130 E CLARK ST       NaN   \n",
       "4         THOMPSON, RANDY D  10995 BELLEVILLE RD       NaN   \n",
       "\n",
       "           MAILCITYSTATE  MAILCOUNTYCODE    MAILCOUNTY MAILZIP   TELEPHONE  \\\n",
       "0       KILGORE TX 75662           183.0         GREGG   75662  9039187899   \n",
       "1          POTH TX 78147           493.0        WILSON   78147         NaN   \n",
       "2  HOUSTON TX 77076-2027           201.0        HARRIS   77076  7136445566   \n",
       "3      BARTLETT TX 76511            27.0          BELL   76511  2549852228   \n",
       "4      RINGLING OK 73456           999.0  OUT OF STATE   73456  5802765961   \n",
       "\n",
       "  LICSUBTYPE CEFLAG  \n",
       "0        NaN      N  \n",
       "1        NaN      N  \n",
       "2        NaN      N  \n",
       "3        NaN      N  \n",
       "4        NaN      N  "
      ]
     },
     "execution_count": 3,
     "metadata": {},
     "output_type": "execute_result"
    }
   ],
   "source": [
    "col_new = ['LICTYPE', 'LICNUMBER', 'BIZCOUNTY', 'BIZNAME', 'BIZLINE1', 'BIZLINE2', 'BIZCITYSTATE', 'BIZTELEPHONE', 'EXPIRATION', 'OWNER', 'MAILLINE1', 'MAILLINE2', 'MAILCITYSTATE', 'MAILCOUNTYCODE', 'MAILCOUNTY', 'MAILZIP', 'TELEPHONE', 'LICSUBTYPE', 'CEFLAG']\n",
    "# len(col_new)\n",
    "df.columns = col_new\n",
    "\n",
    "df.head()"
   ]
  },
  {
   "cell_type": "markdown",
   "metadata": {},
   "source": [
    "# 3. Force string columns to be strings\n",
    "\n",
    "The county code and expiration dates are being read in as numbers, which is going to cause some trouble later on. You can force a column to be a certain type (most usually strings) when reading it in with the following code:\n",
    "\n",
    "    df = pd.read_csv(\"your-filename.csv\", dtype={\"colname1\": str, \"colname2\": str})\n",
    "\n",
    "You don't need to do it for every column, just the ones you want to force!\n",
    "\n",
    "**Re-import the file, forcing the expiration date, license number, mailing address county code, mailing zip code and telephone to all be strings.**"
   ]
  },
  {
   "cell_type": "code",
   "execution_count": 4,
   "metadata": {},
   "outputs": [],
   "source": [
    "df = pd.read_csv(\"licfile.csv\", names = col_new, dtype= {\"EXPIRATION\": str, \"LICNUMBER\": str, \"MAILCOUNTYCODE\":str, \"MAILZIP\": str, \"TELEPHONE\": str})"
   ]
  },
  {
   "cell_type": "markdown",
   "metadata": {},
   "source": [
    "Check the data types of your columns to be sure! If you do it right they'll be `object` (not `str`, oddly)."
   ]
  },
  {
   "cell_type": "code",
   "execution_count": 5,
   "metadata": {},
   "outputs": [
    {
     "data": {
      "text/plain": [
       "LICTYPE            object\n",
       "LICNUMBER          object\n",
       "BIZCOUNTY          object\n",
       "BIZNAME            object\n",
       "BIZLINE1          float64\n",
       "BIZLINE2          float64\n",
       "BIZCITYSTATE      float64\n",
       "BIZTELEPHONE      float64\n",
       "EXPIRATION         object\n",
       "OWNER              object\n",
       "MAILLINE1          object\n",
       "MAILLINE2          object\n",
       "MAILCITYSTATE      object\n",
       "MAILCOUNTYCODE     object\n",
       "MAILCOUNTY         object\n",
       "MAILZIP            object\n",
       "TELEPHONE          object\n",
       "LICSUBTYPE         object\n",
       "CEFLAG             object\n",
       "dtype: object"
      ]
     },
     "execution_count": 5,
     "metadata": {},
     "output_type": "execute_result"
    }
   ],
   "source": [
    "df.dtypes"
   ]
  },
  {
   "cell_type": "markdown",
   "metadata": {},
   "source": [
    "## 4. Convert those expiration dates from MMDDYYYY to YYYY-MM-DD\n",
    "\n",
    "You can use list slicing with `.str` (we did `dt.per_name.str[:4]` for the home data stuff once), `pd.to_datetime`, or a hundred other methods."
   ]
  },
  {
   "cell_type": "code",
   "execution_count": 6,
   "metadata": {},
   "outputs": [],
   "source": [
    "df['EXPIRATION'] = pd.to_datetime(df['EXPIRATION'], format='%m%d%Y')\n",
    "df['EXPIRATION'] = df['EXPIRATION'].dt.strftime('%Y-%m-%d')"
   ]
  },
  {
   "cell_type": "markdown",
   "metadata": {},
   "source": [
    "Check the first five expirations to make sure they look right."
   ]
  },
  {
   "cell_type": "code",
   "execution_count": 7,
   "metadata": {},
   "outputs": [
    {
     "data": {
      "text/plain": [
       "0    2017-08-10\n",
       "1    2017-12-29\n",
       "2    2017-09-26\n",
       "3    2017-11-04\n",
       "4    2018-02-25\n",
       "5    2017-05-04\n",
       "6    2017-06-16\n",
       "7    2017-03-18\n",
       "8    2017-05-04\n",
       "9    2017-10-19\n",
       "Name: EXPIRATION, dtype: object"
      ]
     },
     "execution_count": 7,
     "metadata": {},
     "output_type": "execute_result"
    }
   ],
   "source": [
    "df['EXPIRATION'].head(10)"
   ]
  },
  {
   "cell_type": "markdown",
   "metadata": {},
   "source": [
    "# PART TWO: LOOKING AT LICENSES"
   ]
  },
  {
   "cell_type": "markdown",
   "metadata": {},
   "source": [
    "## 5. What are the top 10 most common licenses?"
   ]
  },
  {
   "cell_type": "code",
   "execution_count": 8,
   "metadata": {},
   "outputs": [
    {
     "data": {
      "text/plain": [
       "Cosmetology Operator        151206\n",
       "Apprentice Electrician      110593\n",
       "Cosmetology Manicurist       49563\n",
       "Journeyman Electrician       38170\n",
       "A/C Technician               27959\n",
       "Cosmetology Esthetician      23613\n",
       "Cosmetology Beauty Salon     23577\n",
       "Master Electrician           16810\n",
       "A/C Contractor               16376\n",
       "Barber, Class A              16019\n",
       "Name: LICTYPE, dtype: int64"
      ]
     },
     "execution_count": 8,
     "metadata": {},
     "output_type": "execute_result"
    }
   ],
   "source": [
    "df['LICTYPE'].value_counts().head(10)\n",
    "# df.groupby([\"LICTYPE\"])['OWNER'].count()"
   ]
  },
  {
   "cell_type": "markdown",
   "metadata": {},
   "source": [
    "## 6. What are the top 10 least common?"
   ]
  },
  {
   "cell_type": "code",
   "execution_count": 9,
   "metadata": {},
   "outputs": [
    {
     "data": {
      "text/plain": [
       "Elevator Responsible Party CE Provider             8\n",
       "Mobile Cosmetology Esthetician Specialty Saloon    5\n",
       "Barber Hair Weaving Shop                           4\n",
       "Barber Hair Braiding Shop                          4\n",
       "Booting CE Provider                                3\n",
       "Licensed Court Interpreter CE Provider             2\n",
       "Cosmetology Wig Instructor                         2\n",
       "Mobile Cosmetology Manicure Specialty Saloon       2\n",
       "Mobile Cosmetology Esthetician/Manicure Saloon     2\n",
       "Legal Service Contract Admin                       1\n",
       "Name: LICTYPE, dtype: int64"
      ]
     },
     "execution_count": 9,
     "metadata": {},
     "output_type": "execute_result"
    }
   ],
   "source": [
    "df['LICTYPE'].value_counts().tail(10)"
   ]
  },
  {
   "cell_type": "markdown",
   "metadata": {},
   "source": [
    "## 7. Try to select everyone who is any type of electrician.\n",
    "\n",
    "You're going to get an error about `\"cannot index with vector containing NA / NaN values\"`. Let's work our way in there."
   ]
  },
  {
   "cell_type": "code",
   "execution_count": 10,
   "metadata": {},
   "outputs": [
    {
     "data": {
      "text/html": [
       "<div>\n",
       "<style scoped>\n",
       "    .dataframe tbody tr th:only-of-type {\n",
       "        vertical-align: middle;\n",
       "    }\n",
       "\n",
       "    .dataframe tbody tr th {\n",
       "        vertical-align: top;\n",
       "    }\n",
       "\n",
       "    .dataframe thead th {\n",
       "        text-align: right;\n",
       "    }\n",
       "</style>\n",
       "<table border=\"1\" class=\"dataframe\">\n",
       "  <thead>\n",
       "    <tr style=\"text-align: right;\">\n",
       "      <th></th>\n",
       "      <th>LICTYPE</th>\n",
       "      <th>LICNUMBER</th>\n",
       "      <th>BIZCOUNTY</th>\n",
       "      <th>BIZNAME</th>\n",
       "      <th>BIZLINE1</th>\n",
       "      <th>BIZLINE2</th>\n",
       "      <th>BIZCITYSTATE</th>\n",
       "      <th>BIZTELEPHONE</th>\n",
       "      <th>EXPIRATION</th>\n",
       "      <th>OWNER</th>\n",
       "      <th>MAILLINE1</th>\n",
       "      <th>MAILLINE2</th>\n",
       "      <th>MAILCITYSTATE</th>\n",
       "      <th>MAILCOUNTYCODE</th>\n",
       "      <th>MAILCOUNTY</th>\n",
       "      <th>MAILZIP</th>\n",
       "      <th>TELEPHONE</th>\n",
       "      <th>LICSUBTYPE</th>\n",
       "      <th>CEFLAG</th>\n",
       "    </tr>\n",
       "  </thead>\n",
       "  <tbody>\n",
       "    <tr>\n",
       "      <th>47025</th>\n",
       "      <td>Apprentice Electrician</td>\n",
       "      <td>30244</td>\n",
       "      <td>ROBERTSON</td>\n",
       "      <td>BOLTON, MARION N</td>\n",
       "      <td>NaN</td>\n",
       "      <td>NaN</td>\n",
       "      <td>NaN</td>\n",
       "      <td>NaN</td>\n",
       "      <td>2017-05-27</td>\n",
       "      <td>BOLTON, MARION N</td>\n",
       "      <td>2262 HARBOR BOLTON RD</td>\n",
       "      <td>NaN</td>\n",
       "      <td>FRANKLIN TX 77856-5367</td>\n",
       "      <td>0395</td>\n",
       "      <td>ROBERTSON</td>\n",
       "      <td>77856</td>\n",
       "      <td>9798284713</td>\n",
       "      <td>AE</td>\n",
       "      <td>N</td>\n",
       "    </tr>\n",
       "    <tr>\n",
       "      <th>47026</th>\n",
       "      <td>Apprentice Electrician</td>\n",
       "      <td>30798</td>\n",
       "      <td>BEXAR</td>\n",
       "      <td>GONZALEZ, FELIX G JR</td>\n",
       "      <td>NaN</td>\n",
       "      <td>NaN</td>\n",
       "      <td>NaN</td>\n",
       "      <td>NaN</td>\n",
       "      <td>2017-10-21</td>\n",
       "      <td>GONZALEZ, FELIX G JR</td>\n",
       "      <td>8507 TIMBER BELT</td>\n",
       "      <td>NaN</td>\n",
       "      <td>SAN ANTONIO TX 78250-4478</td>\n",
       "      <td>0029</td>\n",
       "      <td>BEXAR</td>\n",
       "      <td>78250</td>\n",
       "      <td>2104887491</td>\n",
       "      <td>AE</td>\n",
       "      <td>N</td>\n",
       "    </tr>\n",
       "    <tr>\n",
       "      <th>47027</th>\n",
       "      <td>Apprentice Electrician</td>\n",
       "      <td>30802</td>\n",
       "      <td>HARRIS</td>\n",
       "      <td>HERNANDEZ, RUFINO</td>\n",
       "      <td>NaN</td>\n",
       "      <td>NaN</td>\n",
       "      <td>NaN</td>\n",
       "      <td>NaN</td>\n",
       "      <td>2017-05-28</td>\n",
       "      <td>HERNANDEZ, RUFINO</td>\n",
       "      <td>1719 ROBINHOOD ST</td>\n",
       "      <td>NaN</td>\n",
       "      <td>PASADENA TX 77502-2218</td>\n",
       "      <td>0201</td>\n",
       "      <td>HARRIS</td>\n",
       "      <td>77502</td>\n",
       "      <td>7133824802</td>\n",
       "      <td>AE</td>\n",
       "      <td>N</td>\n",
       "    </tr>\n",
       "    <tr>\n",
       "      <th>47028</th>\n",
       "      <td>Apprentice Electrician</td>\n",
       "      <td>31875</td>\n",
       "      <td>TITUS</td>\n",
       "      <td>COPELAND, MARCUS A</td>\n",
       "      <td>NaN</td>\n",
       "      <td>NaN</td>\n",
       "      <td>NaN</td>\n",
       "      <td>NaN</td>\n",
       "      <td>2016-06-18</td>\n",
       "      <td>COPELAND, MARCUS A</td>\n",
       "      <td>201 N MADISON AVE</td>\n",
       "      <td>NaN</td>\n",
       "      <td>MOUNT PLEASANT TX 75455-3944</td>\n",
       "      <td>0449</td>\n",
       "      <td>TITUS</td>\n",
       "      <td>75455</td>\n",
       "      <td>9035634950</td>\n",
       "      <td>AE</td>\n",
       "      <td>N</td>\n",
       "    </tr>\n",
       "    <tr>\n",
       "      <th>47029</th>\n",
       "      <td>Apprentice Electrician</td>\n",
       "      <td>31876</td>\n",
       "      <td>TITUS</td>\n",
       "      <td>ANGLIN, DAVID LEE</td>\n",
       "      <td>NaN</td>\n",
       "      <td>NaN</td>\n",
       "      <td>NaN</td>\n",
       "      <td>NaN</td>\n",
       "      <td>2016-10-26</td>\n",
       "      <td>ANGLIN, DAVID LEE</td>\n",
       "      <td>8066 FM 1001</td>\n",
       "      <td>NaN</td>\n",
       "      <td>COOKVILLE TX 75558-3064</td>\n",
       "      <td>0449</td>\n",
       "      <td>TITUS</td>\n",
       "      <td>75558</td>\n",
       "      <td>9039462547</td>\n",
       "      <td>AE</td>\n",
       "      <td>N</td>\n",
       "    </tr>\n",
       "    <tr>\n",
       "      <th>...</th>\n",
       "      <td>...</td>\n",
       "      <td>...</td>\n",
       "      <td>...</td>\n",
       "      <td>...</td>\n",
       "      <td>...</td>\n",
       "      <td>...</td>\n",
       "      <td>...</td>\n",
       "      <td>...</td>\n",
       "      <td>...</td>\n",
       "      <td>...</td>\n",
       "      <td>...</td>\n",
       "      <td>...</td>\n",
       "      <td>...</td>\n",
       "      <td>...</td>\n",
       "      <td>...</td>\n",
       "      <td>...</td>\n",
       "      <td>...</td>\n",
       "      <td>...</td>\n",
       "      <td>...</td>\n",
       "    </tr>\n",
       "    <tr>\n",
       "      <th>569544</th>\n",
       "      <td>Apprentice Sign Electrician</td>\n",
       "      <td>393609</td>\n",
       "      <td>PARKER</td>\n",
       "      <td>ORTEGA, JUAN</td>\n",
       "      <td>NaN</td>\n",
       "      <td>NaN</td>\n",
       "      <td>NaN</td>\n",
       "      <td>NaN</td>\n",
       "      <td>2018-03-01</td>\n",
       "      <td>ORTEGA, JUAN</td>\n",
       "      <td>128 JUAN CT</td>\n",
       "      <td>NaN</td>\n",
       "      <td>HUDSON OAKS TX 76087-8337</td>\n",
       "      <td>0367</td>\n",
       "      <td>PARKER</td>\n",
       "      <td>76087</td>\n",
       "      <td>8173746117</td>\n",
       "      <td>SA</td>\n",
       "      <td>N</td>\n",
       "    </tr>\n",
       "    <tr>\n",
       "      <th>569545</th>\n",
       "      <td>Apprentice Sign Electrician</td>\n",
       "      <td>393610</td>\n",
       "      <td>OUT OF STATE</td>\n",
       "      <td>BARR, SYLVIA M</td>\n",
       "      <td>NaN</td>\n",
       "      <td>NaN</td>\n",
       "      <td>NaN</td>\n",
       "      <td>NaN</td>\n",
       "      <td>2018-03-01</td>\n",
       "      <td>BARR, SYLVIA M</td>\n",
       "      <td>1015 RIVERVIEW DR</td>\n",
       "      <td>NaN</td>\n",
       "      <td>FAIRMONT WV 26554-8309</td>\n",
       "      <td>0999</td>\n",
       "      <td>OUT OF STATE</td>\n",
       "      <td>26554</td>\n",
       "      <td>3047779007</td>\n",
       "      <td>SA</td>\n",
       "      <td>N</td>\n",
       "    </tr>\n",
       "    <tr>\n",
       "      <th>569546</th>\n",
       "      <td>Apprentice Sign Electrician</td>\n",
       "      <td>393611</td>\n",
       "      <td>OUT OF STATE</td>\n",
       "      <td>MALFAVON, SALVADOR H</td>\n",
       "      <td>NaN</td>\n",
       "      <td>NaN</td>\n",
       "      <td>NaN</td>\n",
       "      <td>NaN</td>\n",
       "      <td>2018-03-01</td>\n",
       "      <td>MALFAVON, SALVADOR H</td>\n",
       "      <td>1237 E CENTER ST</td>\n",
       "      <td>NaN</td>\n",
       "      <td>KINGSPORT TN 37660-4945</td>\n",
       "      <td>0999</td>\n",
       "      <td>OUT OF STATE</td>\n",
       "      <td>37660</td>\n",
       "      <td>4237656317</td>\n",
       "      <td>SA</td>\n",
       "      <td>N</td>\n",
       "    </tr>\n",
       "    <tr>\n",
       "      <th>569547</th>\n",
       "      <td>Apprentice Sign Electrician</td>\n",
       "      <td>393612</td>\n",
       "      <td>WICHITA</td>\n",
       "      <td>ARANDA, JOSE A SR</td>\n",
       "      <td>NaN</td>\n",
       "      <td>NaN</td>\n",
       "      <td>NaN</td>\n",
       "      <td>NaN</td>\n",
       "      <td>2018-03-01</td>\n",
       "      <td>ARANDA, JOSE A SR</td>\n",
       "      <td>1108 IRELAND ST</td>\n",
       "      <td>NaN</td>\n",
       "      <td>WICHITA FALLS TX 76301-7837</td>\n",
       "      <td>0485</td>\n",
       "      <td>WICHITA</td>\n",
       "      <td>76301</td>\n",
       "      <td>9408674318</td>\n",
       "      <td>SA</td>\n",
       "      <td>N</td>\n",
       "    </tr>\n",
       "    <tr>\n",
       "      <th>569548</th>\n",
       "      <td>Apprentice Sign Electrician</td>\n",
       "      <td>393613</td>\n",
       "      <td>ORANGE</td>\n",
       "      <td>ORTIZ, CARLOS M</td>\n",
       "      <td>NaN</td>\n",
       "      <td>NaN</td>\n",
       "      <td>NaN</td>\n",
       "      <td>NaN</td>\n",
       "      <td>2018-03-01</td>\n",
       "      <td>ORTIZ, CARLOS M</td>\n",
       "      <td>480 BLAND DR</td>\n",
       "      <td>NaN</td>\n",
       "      <td>BRIDGE CITY TX 77611-4614</td>\n",
       "      <td>0361</td>\n",
       "      <td>ORANGE</td>\n",
       "      <td>77611</td>\n",
       "      <td>4093133718</td>\n",
       "      <td>SA</td>\n",
       "      <td>N</td>\n",
       "    </tr>\n",
       "  </tbody>\n",
       "</table>\n",
       "<p>171838 rows × 19 columns</p>\n",
       "</div>"
      ],
      "text/plain": [
       "                            LICTYPE LICNUMBER     BIZCOUNTY  \\\n",
       "47025        Apprentice Electrician     30244     ROBERTSON   \n",
       "47026        Apprentice Electrician     30798         BEXAR   \n",
       "47027        Apprentice Electrician     30802        HARRIS   \n",
       "47028        Apprentice Electrician     31875         TITUS   \n",
       "47029        Apprentice Electrician     31876         TITUS   \n",
       "...                             ...       ...           ...   \n",
       "569544  Apprentice Sign Electrician    393609        PARKER   \n",
       "569545  Apprentice Sign Electrician    393610  OUT OF STATE   \n",
       "569546  Apprentice Sign Electrician    393611  OUT OF STATE   \n",
       "569547  Apprentice Sign Electrician    393612       WICHITA   \n",
       "569548  Apprentice Sign Electrician    393613        ORANGE   \n",
       "\n",
       "                     BIZNAME  BIZLINE1  BIZLINE2  BIZCITYSTATE  BIZTELEPHONE  \\\n",
       "47025       BOLTON, MARION N       NaN       NaN           NaN           NaN   \n",
       "47026   GONZALEZ, FELIX G JR       NaN       NaN           NaN           NaN   \n",
       "47027      HERNANDEZ, RUFINO       NaN       NaN           NaN           NaN   \n",
       "47028     COPELAND, MARCUS A       NaN       NaN           NaN           NaN   \n",
       "47029      ANGLIN, DAVID LEE       NaN       NaN           NaN           NaN   \n",
       "...                      ...       ...       ...           ...           ...   \n",
       "569544          ORTEGA, JUAN       NaN       NaN           NaN           NaN   \n",
       "569545        BARR, SYLVIA M       NaN       NaN           NaN           NaN   \n",
       "569546  MALFAVON, SALVADOR H       NaN       NaN           NaN           NaN   \n",
       "569547     ARANDA, JOSE A SR       NaN       NaN           NaN           NaN   \n",
       "569548       ORTIZ, CARLOS M       NaN       NaN           NaN           NaN   \n",
       "\n",
       "        EXPIRATION                 OWNER              MAILLINE1 MAILLINE2  \\\n",
       "47025   2017-05-27      BOLTON, MARION N  2262 HARBOR BOLTON RD       NaN   \n",
       "47026   2017-10-21  GONZALEZ, FELIX G JR       8507 TIMBER BELT       NaN   \n",
       "47027   2017-05-28     HERNANDEZ, RUFINO      1719 ROBINHOOD ST       NaN   \n",
       "47028   2016-06-18    COPELAND, MARCUS A      201 N MADISON AVE       NaN   \n",
       "47029   2016-10-26     ANGLIN, DAVID LEE           8066 FM 1001       NaN   \n",
       "...            ...                   ...                    ...       ...   \n",
       "569544  2018-03-01          ORTEGA, JUAN            128 JUAN CT       NaN   \n",
       "569545  2018-03-01        BARR, SYLVIA M      1015 RIVERVIEW DR       NaN   \n",
       "569546  2018-03-01  MALFAVON, SALVADOR H       1237 E CENTER ST       NaN   \n",
       "569547  2018-03-01     ARANDA, JOSE A SR        1108 IRELAND ST       NaN   \n",
       "569548  2018-03-01       ORTIZ, CARLOS M           480 BLAND DR       NaN   \n",
       "\n",
       "                       MAILCITYSTATE MAILCOUNTYCODE    MAILCOUNTY MAILZIP  \\\n",
       "47025         FRANKLIN TX 77856-5367           0395     ROBERTSON   77856   \n",
       "47026      SAN ANTONIO TX 78250-4478           0029         BEXAR   78250   \n",
       "47027         PASADENA TX 77502-2218           0201        HARRIS   77502   \n",
       "47028   MOUNT PLEASANT TX 75455-3944           0449         TITUS   75455   \n",
       "47029        COOKVILLE TX 75558-3064           0449         TITUS   75558   \n",
       "...                              ...            ...           ...     ...   \n",
       "569544     HUDSON OAKS TX 76087-8337           0367        PARKER   76087   \n",
       "569545        FAIRMONT WV 26554-8309           0999  OUT OF STATE   26554   \n",
       "569546       KINGSPORT TN 37660-4945           0999  OUT OF STATE   37660   \n",
       "569547   WICHITA FALLS TX 76301-7837           0485       WICHITA   76301   \n",
       "569548     BRIDGE CITY TX 77611-4614           0361        ORANGE   77611   \n",
       "\n",
       "         TELEPHONE LICSUBTYPE CEFLAG  \n",
       "47025   9798284713         AE      N  \n",
       "47026   2104887491         AE      N  \n",
       "47027   7133824802         AE      N  \n",
       "47028   9035634950         AE      N  \n",
       "47029   9039462547         AE      N  \n",
       "...            ...        ...    ...  \n",
       "569544  8173746117         SA      N  \n",
       "569545  3047779007         SA      N  \n",
       "569546  4237656317         SA      N  \n",
       "569547  9408674318         SA      N  \n",
       "569548  4093133718         SA      N  \n",
       "\n",
       "[171838 rows x 19 columns]"
      ]
     },
     "execution_count": 10,
     "metadata": {},
     "output_type": "execute_result"
    }
   ],
   "source": [
    "# Yes I know I left this in here, it's a learning experience!\n",
    "df[df['LICTYPE'].str.contains(\"Electrician\", na=False)]"
   ]
  },
  {
   "cell_type": "markdown",
   "metadata": {},
   "source": [
    "## 8. How many of the rows of LICTYPE are NaN?"
   ]
  },
  {
   "cell_type": "code",
   "execution_count": 11,
   "metadata": {},
   "outputs": [
    {
     "data": {
      "text/plain": [
       "7086"
      ]
     },
     "execution_count": 11,
     "metadata": {},
     "output_type": "execute_result"
    }
   ],
   "source": [
    "df['LICTYPE'].isna().sum()"
   ]
  },
  {
   "cell_type": "markdown",
   "metadata": {},
   "source": [
    "Over 7000 licenses don't have types! As a result, when we look for license types with electricians - aka do `df['LICTYPE'].str.contains(\"Electrician\")` - we get three results:\n",
    "\n",
    "* `True` means `LICTYPE` exists and contains `\"Electrician\"`\n",
    "* `False` means `LICTYPE` exists and does not contain `\"Electrician\"`\n",
    "* `NaN` means `LICTYPE` does not exist for that row"
   ]
  },
  {
   "cell_type": "markdown",
   "metadata": {},
   "source": [
    "## 9. Actually getting everyone who is an electrician"
   ]
  },
  {
   "cell_type": "code",
   "execution_count": 12,
   "metadata": {},
   "outputs": [
    {
     "data": {
      "text/plain": [
       "171838"
      ]
     },
     "execution_count": 12,
     "metadata": {},
     "output_type": "execute_result"
    }
   ],
   "source": [
    "df['LICTYPE'].str.contains(\"Electrician\", na=False).sum()"
   ]
  },
  {
   "cell_type": "markdown",
   "metadata": {},
   "source": [
    "This doesn't work when trying to select electricians, though, as NaN is a no-go for a filter. We *could* filter out everywhere the LICTYPE is null, but we could also cheat a little and say \"replace all of the `NaN` values with `False` values.\"\n",
    "\n",
    "`.fillna(False)` will take every `NaN` and replace it with `False`. "
   ]
  },
  {
   "cell_type": "code",
   "execution_count": null,
   "metadata": {},
   "outputs": [],
   "source": []
  },
  {
   "cell_type": "markdown",
   "metadata": {},
   "source": [
    "## 10. What's the most popular kind of electrician?"
   ]
  },
  {
   "cell_type": "code",
   "execution_count": 13,
   "metadata": {},
   "outputs": [
    {
     "data": {
      "text/plain": [
       "Apprentice Electrician                110593\n",
       "Journeyman Electrician                 38170\n",
       "Master Electrician                     16810\n",
       "Apprentice Sign Electrician             3994\n",
       "Maintenance Electrician                 1184\n",
       "Master Sign Electrician                  542\n",
       "Journeyman Sign Electrician              391\n",
       "Electrician CE Provider                  109\n",
       "Electrician Apprenticeship Program        45\n",
       "Name: LICTYPE, dtype: int64"
      ]
     },
     "execution_count": 13,
     "metadata": {},
     "output_type": "execute_result"
    }
   ],
   "source": [
    "electricians = df[df['LICTYPE'].str.contains(\"Electrician\", na=False)]['LICTYPE']\n",
    "electricians.value_counts()"
   ]
  },
  {
   "cell_type": "markdown",
   "metadata": {},
   "source": [
    "## 11. Graph it, with the largest bar on top."
   ]
  },
  {
   "cell_type": "code",
   "execution_count": 14,
   "metadata": {},
   "outputs": [
    {
     "data": {
      "image/png": "[encoded data removed]",
      "text/plain": [
       "<Figure size 432x288 with 1 Axes>"
      ]
     },
     "metadata": {
      "needs_background": "light"
     },
     "output_type": "display_data"
    }
   ],
   "source": [
    "electricians.value_counts().plot(kind='barh', zorder=0).invert_yaxis()"
   ]
  },
  {
   "cell_type": "markdown",
   "metadata": {},
   "source": [
    "## 12. How many sign electricians are there?\n",
    "\n",
    "There are a few ways to do this one."
   ]
  },
  {
   "cell_type": "code",
   "execution_count": 15,
   "metadata": {},
   "outputs": [
    {
     "data": {
      "text/plain": [
       "4927"
      ]
     },
     "execution_count": 15,
     "metadata": {},
     "output_type": "execute_result"
    }
   ],
   "source": [
    "df['LICTYPE'].str.contains(\"Sign Electrician\", na=False).sum()"
   ]
  },
  {
   "cell_type": "markdown",
   "metadata": {},
   "source": [
    "# PART THREE: LOOKING AT LAST NAMES"
   ]
  },
  {
   "cell_type": "markdown",
   "metadata": {},
   "source": [
    "## 13. Extract every owner's last name\n",
    "\n",
    "You want everything before the comma. We've done this before (in a few different ways!).\n",
    "\n",
    "* **Hint:** If you get an error about missing or `NaN` data, you might use `.fillna('')` to replace every empty owner name with an empty string. This might not happen to you, though, depending on how you do it!\n",
    "\n",
    "* **Hint:** You probably want to do `expand=False` on your extraction to make sure it comes out as a series instead of a dataframe."
   ]
  },
  {
   "cell_type": "code",
   "execution_count": 16,
   "metadata": {},
   "outputs": [
    {
     "data": {
      "text/plain": [
       "0         RISINGER\n",
       "1         WILLIAMS\n",
       "2          GUEVARA\n",
       "3           BOWERS\n",
       "4           DEMSKY\n",
       "            ...   \n",
       "597811        ABEL\n",
       "597812        GRAY\n",
       "597813       MAYER\n",
       "597814     FRIESEN\n",
       "597815       BAUER\n",
       "Name: OWNER, Length: 597816, dtype: object"
      ]
     },
     "execution_count": 16,
     "metadata": {},
     "output_type": "execute_result"
    }
   ],
   "source": [
    "owner_last_name = df[\"OWNER\"].str.split(',').str[0]\n",
    "owner_last_name.fillna('')"
   ]
  },
  {
   "cell_type": "code",
   "execution_count": null,
   "metadata": {},
   "outputs": [],
   "source": []
  },
  {
   "cell_type": "markdown",
   "metadata": {},
   "source": [
    "## 14. Save the last name into a new column\n",
    "\n",
    "Then check to make sure it exists, and you successfully saved it into the dataframe."
   ]
  },
  {
   "cell_type": "code",
   "execution_count": 17,
   "metadata": {},
   "outputs": [],
   "source": [
    "df[\"OWNER_lastname\"] = owner_last_name"
   ]
  },
  {
   "cell_type": "code",
   "execution_count": 18,
   "metadata": {},
   "outputs": [
    {
     "data": {
      "text/html": [
       "<div>\n",
       "<style scoped>\n",
       "    .dataframe tbody tr th:only-of-type {\n",
       "        vertical-align: middle;\n",
       "    }\n",
       "\n",
       "    .dataframe tbody tr th {\n",
       "        vertical-align: top;\n",
       "    }\n",
       "\n",
       "    .dataframe thead th {\n",
       "        text-align: right;\n",
       "    }\n",
       "</style>\n",
       "<table border=\"1\" class=\"dataframe\">\n",
       "  <thead>\n",
       "    <tr style=\"text-align: right;\">\n",
       "      <th></th>\n",
       "      <th>LICTYPE</th>\n",
       "      <th>LICNUMBER</th>\n",
       "      <th>BIZCOUNTY</th>\n",
       "      <th>BIZNAME</th>\n",
       "      <th>BIZLINE1</th>\n",
       "      <th>BIZLINE2</th>\n",
       "      <th>BIZCITYSTATE</th>\n",
       "      <th>BIZTELEPHONE</th>\n",
       "      <th>EXPIRATION</th>\n",
       "      <th>OWNER</th>\n",
       "      <th>MAILLINE1</th>\n",
       "      <th>MAILLINE2</th>\n",
       "      <th>MAILCITYSTATE</th>\n",
       "      <th>MAILCOUNTYCODE</th>\n",
       "      <th>MAILCOUNTY</th>\n",
       "      <th>MAILZIP</th>\n",
       "      <th>TELEPHONE</th>\n",
       "      <th>LICSUBTYPE</th>\n",
       "      <th>CEFLAG</th>\n",
       "      <th>OWNER_lastname</th>\n",
       "    </tr>\n",
       "  </thead>\n",
       "  <tbody>\n",
       "    <tr>\n",
       "      <th>0</th>\n",
       "      <td>Associate Auctioneer</td>\n",
       "      <td>7326</td>\n",
       "      <td>ANGELINA</td>\n",
       "      <td>RISINGER, JIM MARVIN</td>\n",
       "      <td>NaN</td>\n",
       "      <td>NaN</td>\n",
       "      <td>NaN</td>\n",
       "      <td>NaN</td>\n",
       "      <td>2017-08-10</td>\n",
       "      <td>RISINGER, JIM MARVIN</td>\n",
       "      <td>7668 S US HWY 59</td>\n",
       "      <td>NaN</td>\n",
       "      <td>NACOGDOCHES TX 75964</td>\n",
       "      <td>0347</td>\n",
       "      <td>NACOGDOCHES</td>\n",
       "      <td>75964</td>\n",
       "      <td>9363665745</td>\n",
       "      <td>NaN</td>\n",
       "      <td>N</td>\n",
       "      <td>RISINGER</td>\n",
       "    </tr>\n",
       "    <tr>\n",
       "      <th>1</th>\n",
       "      <td>Associate Auctioneer</td>\n",
       "      <td>7962</td>\n",
       "      <td>UPSHUR</td>\n",
       "      <td>WILLIAMS, JON ANDRE</td>\n",
       "      <td>NaN</td>\n",
       "      <td>NaN</td>\n",
       "      <td>NaN</td>\n",
       "      <td>NaN</td>\n",
       "      <td>2017-12-29</td>\n",
       "      <td>WILLIAMS, JON ANDRE</td>\n",
       "      <td>228 FM 1252</td>\n",
       "      <td>NaN</td>\n",
       "      <td>KILGORE TX 75662</td>\n",
       "      <td>0183</td>\n",
       "      <td>GREGG</td>\n",
       "      <td>75662</td>\n",
       "      <td>9039187899</td>\n",
       "      <td>NaN</td>\n",
       "      <td>N</td>\n",
       "      <td>WILLIAMS</td>\n",
       "    </tr>\n",
       "    <tr>\n",
       "      <th>2</th>\n",
       "      <td>Associate Auctioneer</td>\n",
       "      <td>8406</td>\n",
       "      <td>WILSON</td>\n",
       "      <td>GUEVARA, JUAN ANTONIO</td>\n",
       "      <td>NaN</td>\n",
       "      <td>NaN</td>\n",
       "      <td>NaN</td>\n",
       "      <td>NaN</td>\n",
       "      <td>2017-09-26</td>\n",
       "      <td>GUEVARA, JUAN ANTONIO</td>\n",
       "      <td>6909 HWY 181</td>\n",
       "      <td>NaN</td>\n",
       "      <td>POTH TX 78147</td>\n",
       "      <td>0493</td>\n",
       "      <td>WILSON</td>\n",
       "      <td>78147</td>\n",
       "      <td>NaN</td>\n",
       "      <td>NaN</td>\n",
       "      <td>N</td>\n",
       "      <td>GUEVARA</td>\n",
       "    </tr>\n",
       "    <tr>\n",
       "      <th>3</th>\n",
       "      <td>Associate Auctioneer</td>\n",
       "      <td>10543</td>\n",
       "      <td>HARRIS</td>\n",
       "      <td>BOWERS, JAMES BRISCOE II</td>\n",
       "      <td>NaN</td>\n",
       "      <td>NaN</td>\n",
       "      <td>NaN</td>\n",
       "      <td>NaN</td>\n",
       "      <td>2017-11-04</td>\n",
       "      <td>BOWERS, JAMES BRISCOE II</td>\n",
       "      <td>6767 NORTH FWY</td>\n",
       "      <td>NaN</td>\n",
       "      <td>HOUSTON TX 77076-2027</td>\n",
       "      <td>0201</td>\n",
       "      <td>HARRIS</td>\n",
       "      <td>77076</td>\n",
       "      <td>7136445566</td>\n",
       "      <td>NaN</td>\n",
       "      <td>N</td>\n",
       "      <td>BOWERS</td>\n",
       "    </tr>\n",
       "    <tr>\n",
       "      <th>4</th>\n",
       "      <td>Associate Auctioneer</td>\n",
       "      <td>10642</td>\n",
       "      <td>BELL</td>\n",
       "      <td>DEMSKY, JOHN EDWARD</td>\n",
       "      <td>NaN</td>\n",
       "      <td>NaN</td>\n",
       "      <td>NaN</td>\n",
       "      <td>NaN</td>\n",
       "      <td>2018-02-25</td>\n",
       "      <td>DEMSKY, JOHN EDWARD</td>\n",
       "      <td>130 E CLARK ST</td>\n",
       "      <td>NaN</td>\n",
       "      <td>BARTLETT TX 76511</td>\n",
       "      <td>0027</td>\n",
       "      <td>BELL</td>\n",
       "      <td>76511</td>\n",
       "      <td>2549852228</td>\n",
       "      <td>NaN</td>\n",
       "      <td>N</td>\n",
       "      <td>DEMSKY</td>\n",
       "    </tr>\n",
       "  </tbody>\n",
       "</table>\n",
       "</div>"
      ],
      "text/plain": [
       "                LICTYPE LICNUMBER BIZCOUNTY                   BIZNAME  \\\n",
       "0  Associate Auctioneer      7326  ANGELINA      RISINGER, JIM MARVIN   \n",
       "1  Associate Auctioneer      7962    UPSHUR       WILLIAMS, JON ANDRE   \n",
       "2  Associate Auctioneer      8406    WILSON     GUEVARA, JUAN ANTONIO   \n",
       "3  Associate Auctioneer     10543    HARRIS  BOWERS, JAMES BRISCOE II   \n",
       "4  Associate Auctioneer     10642      BELL       DEMSKY, JOHN EDWARD   \n",
       "\n",
       "   BIZLINE1  BIZLINE2  BIZCITYSTATE  BIZTELEPHONE  EXPIRATION  \\\n",
       "0       NaN       NaN           NaN           NaN  2017-08-10   \n",
       "1       NaN       NaN           NaN           NaN  2017-12-29   \n",
       "2       NaN       NaN           NaN           NaN  2017-09-26   \n",
       "3       NaN       NaN           NaN           NaN  2017-11-04   \n",
       "4       NaN       NaN           NaN           NaN  2018-02-25   \n",
       "\n",
       "                      OWNER         MAILLINE1 MAILLINE2  \\\n",
       "0      RISINGER, JIM MARVIN  7668 S US HWY 59       NaN   \n",
       "1       WILLIAMS, JON ANDRE       228 FM 1252       NaN   \n",
       "2     GUEVARA, JUAN ANTONIO      6909 HWY 181       NaN   \n",
       "3  BOWERS, JAMES BRISCOE II    6767 NORTH FWY       NaN   \n",
       "4       DEMSKY, JOHN EDWARD    130 E CLARK ST       NaN   \n",
       "\n",
       "           MAILCITYSTATE MAILCOUNTYCODE   MAILCOUNTY MAILZIP   TELEPHONE  \\\n",
       "0   NACOGDOCHES TX 75964           0347  NACOGDOCHES   75964  9363665745   \n",
       "1       KILGORE TX 75662           0183        GREGG   75662  9039187899   \n",
       "2          POTH TX 78147           0493       WILSON   78147         NaN   \n",
       "3  HOUSTON TX 77076-2027           0201       HARRIS   77076  7136445566   \n",
       "4      BARTLETT TX 76511           0027         BELL   76511  2549852228   \n",
       "\n",
       "  LICSUBTYPE CEFLAG OWNER_lastname  \n",
       "0        NaN      N       RISINGER  \n",
       "1        NaN      N       WILLIAMS  \n",
       "2        NaN      N        GUEVARA  \n",
       "3        NaN      N         BOWERS  \n",
       "4        NaN      N         DEMSKY  "
      ]
     },
     "execution_count": 18,
     "metadata": {},
     "output_type": "execute_result"
    }
   ],
   "source": [
    "df.head()"
   ]
  },
  {
   "cell_type": "markdown",
   "metadata": {},
   "source": [
    "# 15. What are the ten most popular last names?"
   ]
  },
  {
   "cell_type": "code",
   "execution_count": 19,
   "metadata": {},
   "outputs": [
    {
     "data": {
      "text/plain": [
       "NGUYEN       22286\n",
       "TRAN          8137\n",
       "LE            5606\n",
       "GARCIA        5574\n",
       "MARTINEZ      4701\n",
       "RODRIGUEZ     4626\n",
       "HERNANDEZ     4390\n",
       "PHAM          3997\n",
       "GONZALEZ      3634\n",
       "SMITH         3208\n",
       "Name: OWNER_lastname, dtype: int64"
      ]
     },
     "execution_count": 19,
     "metadata": {},
     "output_type": "execute_result"
    }
   ],
   "source": [
    "df[\"OWNER_lastname\"].value_counts().head(10)"
   ]
  },
  {
   "cell_type": "markdown",
   "metadata": {},
   "source": [
    "## 16. What are the most popular licenses for people with the last name Nguyen? Tran? Le?\n",
    "\n",
    "Those are the top 3 last names in Vietnam."
   ]
  },
  {
   "cell_type": "code",
   "execution_count": 20,
   "metadata": {},
   "outputs": [
    {
     "data": {
      "text/plain": [
       "Cosmetology Manicurist             20808\n",
       "Cosmetology Operator                6467\n",
       "Cosmetology Esthetician             4643\n",
       "Cosmetologist                       3085\n",
       "Apprentice Electrician               327\n",
       "A/C Technician                       281\n",
       "Journeyman Electrician                91\n",
       "Cosmetology Operator Instructor       70\n",
       "Barber Manicurist                     37\n",
       "Barber, Class A                       36\n",
       "Name: LICTYPE, dtype: int64"
      ]
     },
     "execution_count": 20,
     "metadata": {},
     "output_type": "execute_result"
    }
   ],
   "source": [
    "#df[(df['col_name'].str.contains('apple')) & (df['col_name'].str.contains('banana'))]\n",
    "some = df[(df[\"OWNER_lastname\"]==\"NGUYEN\") | (df['OWNER_lastname']=='TRAN') | (df['OWNER_lastname']=='LE')]\n",
    "\n",
    "some[\"LICTYPE\"].value_counts().head(10)"
   ]
  },
  {
   "cell_type": "code",
   "execution_count": null,
   "metadata": {},
   "outputs": [],
   "source": []
  },
  {
   "cell_type": "code",
   "execution_count": null,
   "metadata": {},
   "outputs": [],
   "source": []
  },
  {
   "cell_type": "markdown",
   "metadata": {},
   "source": [
    "The background of this [is interesting](https://www.npr.org/2019/05/19/724452398/how-vietnamese-americans-took-over-the-nails-business-a-documentary) and [tragic](https://www.nytimes.com/2015/05/10/nyregion/at-nail-salons-in-nyc-manicurists-are-underpaid-and-unprotected.html)."
   ]
  },
  {
   "cell_type": "markdown",
   "metadata": {},
   "source": [
    "## 17. Now do all of that in one line - most popular licenses for Nguyen, Tran and Le - without using `&`"
   ]
  },
  {
   "cell_type": "code",
   "execution_count": 21,
   "metadata": {},
   "outputs": [
    {
     "data": {
      "text/plain": [
       "Cosmetology Manicurist             20808\n",
       "Cosmetology Operator                6467\n",
       "Cosmetology Esthetician             4643\n",
       "Cosmetologist                       3085\n",
       "Apprentice Electrician               327\n",
       "A/C Technician                       281\n",
       "Journeyman Electrician                91\n",
       "Cosmetology Operator Instructor       70\n",
       "Barber Manicurist                     37\n",
       "Barber, Class A                       36\n",
       "Name: LICTYPE, dtype: int64"
      ]
     },
     "execution_count": 21,
     "metadata": {},
     "output_type": "execute_result"
    }
   ],
   "source": [
    "some = df[(df[\"OWNER_lastname\"]==\"NGUYEN\") | (df['OWNER_lastname']=='TRAN') | (df['OWNER_lastname']=='LE')][\"LICTYPE\"].value_counts().head(10)\n",
    "some"
   ]
  },
  {
   "cell_type": "markdown",
   "metadata": {},
   "source": [
    "## 19. Most popular license for anyone with a last name that ENDS in `-ko`\n",
    "\n",
    "The answer is not `.str.contains('ko')`, but it isn't necessarily too different.\n",
    "\n",
    "* One way involves a `.str.` method that check if a string ends with something,\n",
    "* the other way involves a regular expression that has a \"end of the string\" marker (similar to how we've used `^` for the start of a string before)\n",
    "\n",
    "If you're thinking about the latter, I might take a look at [this page](http://www.rexegg.com/regex-quickstart.html) under \"Anchors and Boundaries\". "
   ]
  },
  {
   "cell_type": "code",
   "execution_count": 22,
   "metadata": {},
   "outputs": [],
   "source": [
    "ko =df[df[\"OWNER_lastname\"].str.endswith('KO', na=False)]\n",
    "ko_lic = ko['LICTYPE'].value_counts().head(1)\n",
    "ko_sum = ko['LICTYPE'].value_counts().sum()"
   ]
  },
  {
   "cell_type": "markdown",
   "metadata": {},
   "source": [
    "## 20. Get that as a percentage"
   ]
  },
  {
   "cell_type": "code",
   "execution_count": 23,
   "metadata": {},
   "outputs": [
    {
     "data": {
      "text/plain": [
       "Cosmetology Operator    36.02\n",
       "Name: LICTYPE, dtype: float64"
      ]
     },
     "execution_count": 23,
     "metadata": {},
     "output_type": "execute_result"
    }
   ],
   "source": [
    "ko_perc = ko_lic/ko_sum * 100\n",
    "ko_perc.round(2)"
   ]
  },
  {
   "cell_type": "markdown",
   "metadata": {},
   "source": [
    "# PART FOUR: LOOKING AT FIRST NAMES"
   ]
  },
  {
   "cell_type": "markdown",
   "metadata": {},
   "source": [
    "## 21. Extract the owner's first name\n",
    "\n",
    "First, a little example of how regular expressions work with pandas."
   ]
  },
  {
   "cell_type": "code",
   "execution_count": 24,
   "metadata": {},
   "outputs": [
    {
     "data": {
      "text/html": [
       "<div>\n",
       "<style scoped>\n",
       "    .dataframe tbody tr th:only-of-type {\n",
       "        vertical-align: middle;\n",
       "    }\n",
       "\n",
       "    .dataframe tbody tr th {\n",
       "        vertical-align: top;\n",
       "    }\n",
       "\n",
       "    .dataframe thead th {\n",
       "        text-align: right;\n",
       "    }\n",
       "</style>\n",
       "<table border=\"1\" class=\"dataframe\">\n",
       "  <thead>\n",
       "    <tr style=\"text-align: right;\">\n",
       "      <th></th>\n",
       "      <th>name</th>\n",
       "      <th>sentence</th>\n",
       "    </tr>\n",
       "  </thead>\n",
       "  <tbody>\n",
       "    <tr>\n",
       "      <th>0</th>\n",
       "      <td>Mary</td>\n",
       "      <td>I am 90 years old</td>\n",
       "    </tr>\n",
       "    <tr>\n",
       "      <th>1</th>\n",
       "      <td>Jack</td>\n",
       "      <td>I am 4 years old</td>\n",
       "    </tr>\n",
       "    <tr>\n",
       "      <th>2</th>\n",
       "      <td>Anne</td>\n",
       "      <td>I am 27 years old</td>\n",
       "    </tr>\n",
       "    <tr>\n",
       "      <th>3</th>\n",
       "      <td>Joel</td>\n",
       "      <td>I am 13 years old</td>\n",
       "    </tr>\n",
       "  </tbody>\n",
       "</table>\n",
       "</div>"
      ],
      "text/plain": [
       "   name           sentence\n",
       "0  Mary  I am 90 years old\n",
       "1  Jack   I am 4 years old\n",
       "2  Anne  I am 27 years old\n",
       "3  Joel  I am 13 years old"
      ]
     },
     "execution_count": 24,
     "metadata": {},
     "output_type": "execute_result"
    }
   ],
   "source": [
    "# Build a dataframe\n",
    "sample_df = pd.DataFrame([\n",
    "    { 'name': 'Mary', 'sentence': \"I am 90 years old\" },\n",
    "    { 'name': 'Jack', 'sentence': \"I am 4 years old\" },\n",
    "    { 'name': 'Anne', 'sentence': \"I am 27 years old\" },\n",
    "    { 'name': 'Joel', 'sentence': \"I am 13 years old\" },\n",
    "])\n",
    "# Look at the dataframe\n",
    "sample_df"
   ]
  },
  {
   "cell_type": "code",
   "execution_count": 25,
   "metadata": {},
   "outputs": [
    {
     "data": {
      "text/plain": [
       "0    90\n",
       "1     4\n",
       "2    27\n",
       "3    13\n",
       "Name: sentence, dtype: object"
      ]
     },
     "execution_count": 25,
     "metadata": {},
     "output_type": "execute_result"
    }
   ],
   "source": [
    "# Given the sentence, \"I am X years old\", extract digits from the middle using ()\n",
    "# Anything you put in () will be saved as an output.\n",
    "# If you do expand=True it makes you a dataframe, but we don't want that.\n",
    "sample_df['sentence'].str.extract(\"I am (\\d+) years old\", expand=False)"
   ]
  },
  {
   "cell_type": "code",
   "execution_count": 26,
   "metadata": {},
   "outputs": [
    {
     "data": {
      "text/html": [
       "<div>\n",
       "<style scoped>\n",
       "    .dataframe tbody tr th:only-of-type {\n",
       "        vertical-align: middle;\n",
       "    }\n",
       "\n",
       "    .dataframe tbody tr th {\n",
       "        vertical-align: top;\n",
       "    }\n",
       "\n",
       "    .dataframe thead th {\n",
       "        text-align: right;\n",
       "    }\n",
       "</style>\n",
       "<table border=\"1\" class=\"dataframe\">\n",
       "  <thead>\n",
       "    <tr style=\"text-align: right;\">\n",
       "      <th></th>\n",
       "      <th>name</th>\n",
       "      <th>sentence</th>\n",
       "      <th>age</th>\n",
       "    </tr>\n",
       "  </thead>\n",
       "  <tbody>\n",
       "    <tr>\n",
       "      <th>0</th>\n",
       "      <td>Mary</td>\n",
       "      <td>I am 90 years old</td>\n",
       "      <td>90</td>\n",
       "    </tr>\n",
       "    <tr>\n",
       "      <th>1</th>\n",
       "      <td>Jack</td>\n",
       "      <td>I am 4 years old</td>\n",
       "      <td>4</td>\n",
       "    </tr>\n",
       "    <tr>\n",
       "      <th>2</th>\n",
       "      <td>Anne</td>\n",
       "      <td>I am 27 years old</td>\n",
       "      <td>27</td>\n",
       "    </tr>\n",
       "    <tr>\n",
       "      <th>3</th>\n",
       "      <td>Joel</td>\n",
       "      <td>I am 13 years old</td>\n",
       "      <td>13</td>\n",
       "    </tr>\n",
       "  </tbody>\n",
       "</table>\n",
       "</div>"
      ],
      "text/plain": [
       "   name           sentence age\n",
       "0  Mary  I am 90 years old  90\n",
       "1  Jack   I am 4 years old   4\n",
       "2  Anne  I am 27 years old  27\n",
       "3  Joel  I am 13 years old  13"
      ]
     },
     "execution_count": 26,
     "metadata": {},
     "output_type": "execute_result"
    }
   ],
   "source": [
    "# Save it into a new column\n",
    "sample_df['age'] = sample_df['sentence'].str.extract(\"I am (\\d+) years old\", expand=False)\n",
    "sample_df.head()"
   ]
  },
  {
   "cell_type": "markdown",
   "metadata": {},
   "source": [
    "**Now let's think about how we're going to extract the first names.** Begin by looking at a few full names."
   ]
  },
  {
   "cell_type": "code",
   "execution_count": 27,
   "metadata": {},
   "outputs": [
    {
     "data": {
      "text/plain": [
       "0        RISINGER, JIM MARVIN\n",
       "1         WILLIAMS, JON ANDRE\n",
       "2       GUEVARA, JUAN ANTONIO\n",
       "3    BOWERS, JAMES BRISCOE II\n",
       "4         DEMSKY, JOHN EDWARD\n",
       "5           THOMPSON, RANDY D\n",
       "6          TUCKER, MONTE EARL\n",
       "7        COOPER, THOMAS JAMES\n",
       "8     BLANKENSHIP, KERRY NEIL\n",
       "9      DAWES, NICHOLAS MORGAN\n",
       "Name: OWNER, dtype: object"
      ]
     },
     "execution_count": 27,
     "metadata": {},
     "output_type": "execute_result"
    }
   ],
   "source": [
    "df['OWNER'].head(10)"
   ]
  },
  {
   "cell_type": "markdown",
   "metadata": {},
   "source": [
    "What can you use to find the first name? It helps to say \"this is to the left and this is to the right, and I'm going to take anything in the middle.\"\n",
    "\n",
    "Once you figure out how to extract it, you can do a `.head(10)` to just look at the first few."
   ]
  },
  {
   "cell_type": "code",
   "execution_count": 28,
   "metadata": {},
   "outputs": [
    {
     "data": {
      "text/plain": [
       "0           JIM MARVIN\n",
       "1            JON ANDRE\n",
       "2         JUAN ANTONIO\n",
       "3     JAMES BRISCOE II\n",
       "4          JOHN EDWARD\n",
       "5              RANDY D\n",
       "6           MONTE EARL\n",
       "7         THOMAS JAMES\n",
       "8           KERRY NEIL\n",
       "9      NICHOLAS MORGAN\n",
       "10        TIMMY EUGENE\n",
       "11          MARK DUANE\n",
       "12          SHAWN ALAN\n",
       "13        JAMES EUGENE\n",
       "14     MICHAEL RICHARD\n",
       "15         WESLEY RYON\n",
       "16         BACHUS ROSS\n",
       "17        JOSEPH JAMES\n",
       "18         DAVID JAMES\n",
       "19          JACKIE LEE\n",
       "Name: FIRSTNAME, dtype: object"
      ]
     },
     "execution_count": 28,
     "metadata": {},
     "output_type": "execute_result"
    }
   ],
   "source": [
    "df[\"FIRSTNAME\"] = df['OWNER'].str.extract(r\"(\\w+\\s\\w.*$)\", expand=False)\n",
    "df[\"FIRSTNAME\"].head(20)"
   ]
  },
  {
   "cell_type": "markdown",
   "metadata": {},
   "source": [
    "## 22. Saving the owner's first name\n",
    "\n",
    "Save the name to a new column, `FIRSTNAME`."
   ]
  },
  {
   "cell_type": "code",
   "execution_count": null,
   "metadata": {},
   "outputs": [],
   "source": []
  },
  {
   "cell_type": "markdown",
   "metadata": {},
   "source": [
    "# 23. Examine everyone without a first name\n",
    "\n",
    "I purposefully didn't do a nicer regex in order to have some screwed-up results. **How many people are there without an entry in the first name column?**\n",
    "\n",
    "Your numbers might be different than mine."
   ]
  },
  {
   "cell_type": "code",
   "execution_count": 29,
   "metadata": {},
   "outputs": [
    {
     "data": {
      "text/plain": [
       "False    470197\n",
       "True     127619\n",
       "Name: FIRSTNAME, dtype: int64"
      ]
     },
     "execution_count": 29,
     "metadata": {},
     "output_type": "execute_result"
    }
   ],
   "source": [
    "df[\"FIRSTNAME\"].isna().value_counts()"
   ]
  },
  {
   "cell_type": "markdown",
   "metadata": {},
   "source": [
    "What do their names look like?"
   ]
  },
  {
   "cell_type": "code",
   "execution_count": 30,
   "metadata": {},
   "outputs": [
    {
     "data": {
      "text/plain": [
       "29          MARTINEZ, ARTURO\n",
       "63        VANGINAULT, FREDDY\n",
       "64        VANSICKLE, MICHAEL\n",
       "73            COFFMAN, ERICK\n",
       "76             HUNTER, SCOTT\n",
       "                 ...        \n",
       "597723    FIGUEROA, HIPOLITO\n",
       "597730         GARZA, JESSIE\n",
       "597751        YANEZ, SALOMON\n",
       "597780       WILLEKE, JOSPEH\n",
       "597809       LILLEY, CLINTON\n",
       "Name: OWNER, Length: 127619, dtype: object"
      ]
     },
     "execution_count": 30,
     "metadata": {},
     "output_type": "execute_result"
    }
   ],
   "source": [
    "df[df[\"FIRSTNAME\"].isna()][\"OWNER\"]"
   ]
  },
  {
   "cell_type": "markdown",
   "metadata": {},
   "source": [
    "## 24. If it's a problem, you can fix it (if you'd like!)\n",
    "\n",
    "Maybe you have another regular expression that works better with JUST these people? It really depends on how you've put together your previous regex!\n",
    "\n",
    "If you'd like to use a separate regex for this group, you can use code like this:\n",
    "\n",
    "`df.loc[df.FIRSTNAME.isnull(), 'FIRSTNAME'] = .....`\n",
    "\n",
    "That will only set the `FIRSTNAME` for people where `FIRSTNAME` is null."
   ]
  },
  {
   "cell_type": "code",
   "execution_count": 31,
   "metadata": {},
   "outputs": [],
   "source": [
    "df.loc[df.FIRSTNAME.isnull(), 'FIRSTNAME'] = df['OWNER'].str.extract(r\"(\\s\\w.*$)\", expand=False)"
   ]
  },
  {
   "cell_type": "markdown",
   "metadata": {},
   "source": [
    "How many empty first names do we have now?"
   ]
  },
  {
   "cell_type": "code",
   "execution_count": 32,
   "metadata": {},
   "outputs": [
    {
     "data": {
      "text/plain": [
       "False    594977\n",
       "True       2839\n",
       "Name: FIRSTNAME, dtype: int64"
      ]
     },
     "execution_count": 32,
     "metadata": {},
     "output_type": "execute_result"
    }
   ],
   "source": [
    "df[\"FIRSTNAME\"].isna().value_counts()"
   ]
  },
  {
   "cell_type": "code",
   "execution_count": 33,
   "metadata": {},
   "outputs": [
    {
     "data": {
      "text/plain": [
       "28158                 AQUATEX\n",
       "28471                 POOLTEX\n",
       "28510     ELITEPOOLREPAIR.COM\n",
       "28540              SOSERVICES\n",
       "28597                 GLACIER\n",
       "                 ...         \n",
       "569771                     3M\n",
       "590237                CARZONE\n",
       "590294              FRONTERAS\n",
       "590316                ROGER'S\n",
       "590392               SNYDER'S\n",
       "Name: OWNER, Length: 2839, dtype: object"
      ]
     },
     "execution_count": 33,
     "metadata": {},
     "output_type": "execute_result"
    }
   ],
   "source": [
    "#remaining owners look like company's that hold licences and hence do not have first names\n",
    "df[df[\"FIRSTNAME\"].isna()][\"OWNER\"]"
   ]
  },
  {
   "cell_type": "markdown",
   "metadata": {},
   "source": [
    "My code before only worked for people with middle names, but now it got people without middle names, too. Looking much better!"
   ]
  },
  {
   "cell_type": "markdown",
   "metadata": {},
   "source": [
    "## 25. Most popular first names?"
   ]
  },
  {
   "cell_type": "code",
   "execution_count": 34,
   "metadata": {},
   "outputs": [
    {
     "data": {
      "text/plain": [
       " DAVID            1180\n",
       "JOSE A            1024\n",
       " JOSE              984\n",
       " DANIEL            967\n",
       "S BEAUTY SALON     892\n",
       "Name: FIRSTNAME, dtype: int64"
      ]
     },
     "execution_count": 34,
     "metadata": {},
     "output_type": "execute_result"
    }
   ],
   "source": [
    "df[\"FIRSTNAME\"].value_counts().head()"
   ]
  },
  {
   "cell_type": "markdown",
   "metadata": {},
   "source": [
    "## 26. Most popular first names for a Cosmetology Operator, Cosmetology Esthetician, Cosmetologist, and anything that seems similar?\n",
    "\n",
    "If you get an error about \"cannot index vector containing NA / NaN values\" remember `.fillna(False)` or `na=False` - if a row doesn't have a license, it doesn't give a `True`/`False`, so we force all of the empty rows to be `False`."
   ]
  },
  {
   "cell_type": "code",
   "execution_count": 35,
   "metadata": {},
   "outputs": [
    {
     "data": {
      "text/plain": [
       "S BEAUTY SALON    819\n",
       " MARIA            622\n",
       " ELIZABETH        488\n",
       " JESSICA          481\n",
       " JENNIFER         460\n",
       "Name: FIRSTNAME, dtype: int64"
      ]
     },
     "execution_count": 35,
     "metadata": {},
     "output_type": "execute_result"
    }
   ],
   "source": [
    "cosm = df[df[\"LICTYPE\"].str.contains('Cosmetology', na=False)][\"FIRSTNAME\"].value_counts().head()\n",
    "cosm"
   ]
  },
  {
   "cell_type": "markdown",
   "metadata": {},
   "source": [
    "## 27. Most popular first names for anything involving electricity?"
   ]
  },
  {
   "cell_type": "code",
   "execution_count": 36,
   "metadata": {},
   "outputs": [
    {
     "data": {
      "text/plain": [
       "JOSE A     809\n",
       " DAVID     682\n",
       " JOSE      672\n",
       " DANIEL    654\n",
       "JOSE L     499\n",
       "Name: FIRSTNAME, dtype: int64"
      ]
     },
     "execution_count": 36,
     "metadata": {},
     "output_type": "execute_result"
    }
   ],
   "source": [
    "electricity = df[df[\"LICTYPE\"].str.contains('Electric', na=False)][\"FIRSTNAME\"].value_counts().head()\n",
    "electricity"
   ]
  },
  {
   "cell_type": "markdown",
   "metadata": {},
   "source": [
    "## 28. Can we be any more obnoxious in this assignment?\n",
    "\n",
    "A terrible thing that data analysts are often guilty of is using names to make assumptions about people. Beyond stereotypes involving last names, first names are often used to predict someone's race, ethnic background, or gender.\n",
    "\n",
    "And if that isn't bad enough: if we were looking for Python libraries to do this sort of analysis, we'd come across [sex machine](https://github.com/ferhatelmas/sexmachine/). Once upon a time there was Ruby package named sex machine and everyone was like \"come on are you six years old? is this how we do things?\" and the guy was like \"you're completely right I'm renaming it to [gender detector](https://github.com/bmuller/gender_detector)\" and the world was Nice and Good again.\n",
    "\n",
    "How'd it happen? [On Github, in a pull request!](https://github.com/bmuller/gender_detector/pull/14) Neat, right?\n",
    "\n",
    "But yeah: apparently Python didn't get the message.\n",
    "\n",
    "The sexmachine package doesn't work on Python 3 because it's from 300 BC, so we're going to use a Python 3 fork with the less problematic name [gender guesser](https://pypi.python.org/pypi/gender-guesser/).\n",
    "\n",
    "#### Use `pip` or `pip3` to install gender-guesser."
   ]
  },
  {
   "cell_type": "code",
   "execution_count": 37,
   "metadata": {},
   "outputs": [
    {
     "name": "stdout",
     "output_type": "stream",
     "text": [
      "Requirement already satisfied: gender-guesser in c:\\users\\k2kar\\anaconda3\\lib\\site-packages (0.4.0)"
     ]
    }
   ],
   "source": [
    "!pip install gender-guesser"
   ]
  },
  {
   "cell_type": "markdown",
   "metadata": {},
   "source": [
    "#### Run this code to test to see that it works"
   ]
  },
  {
   "cell_type": "code",
   "execution_count": 47,
   "metadata": {},
   "outputs": [
    {
     "data": {
      "text/plain": [
       "'male'"
      ]
     },
     "execution_count": 47,
     "metadata": {},
     "output_type": "execute_result"
    }
   ],
   "source": [
    "import gender_guesser.detector as gender\n",
    "\n",
    "detector = gender.Detector(case_sensitive=False)\n",
    "detector.get_gender('David')"
   ]
  },
  {
   "cell_type": "code",
   "execution_count": 48,
   "metadata": {},
   "outputs": [
    {
     "data": {
      "text/plain": [
       "'male'"
      ]
     },
     "execution_count": 48,
     "metadata": {},
     "output_type": "execute_result"
    }
   ],
   "source": [
    "detector.get_gender('Jose')"
   ]
  },
  {
   "cell_type": "code",
   "execution_count": 49,
   "metadata": {},
   "outputs": [
    {
     "data": {
      "text/plain": [
       "'female'"
      ]
     },
     "execution_count": 49,
     "metadata": {},
     "output_type": "execute_result"
    }
   ],
   "source": [
    "detector.get_gender('Maria')"
   ]
  },
  {
   "cell_type": "markdown",
   "metadata": {},
   "source": [
    "#### Use it on a dataframe\n",
    "\n",
    "To use something fancy like that on a dataframe, you use `.apply`. Check it out: "
   ]
  },
  {
   "cell_type": "code",
   "execution_count": 60,
   "metadata": {},
   "outputs": [
    {
     "data": {
      "text/plain": [
       "unknown    597816\n",
       "Name: FIRSTNAME, dtype: int64"
      ]
     },
     "execution_count": 60,
     "metadata": {},
     "output_type": "execute_result"
    }
   ],
   "source": [
    "df['FIRSTNAME'].fillna('').apply(lambda name: detector.get_gender(str(df['FIRSTNAME']))).value_counts()"
   ]
  },
  {
   "cell_type": "markdown",
   "metadata": {},
   "source": [
    "## 29. Calculate the gender of everyone's first name and save it to a column\n",
    "\n",
    "Confirm by see how many people of each gender we have"
   ]
  },
  {
   "cell_type": "code",
   "execution_count": 54,
   "metadata": {},
   "outputs": [
    {
     "data": {
      "text/plain": [
       "0    unknown\n",
       "1    unknown\n",
       "2    unknown\n",
       "3    unknown\n",
       "4    unknown\n",
       "Name: FIRSTNAME, dtype: object"
      ]
     },
     "execution_count": 54,
     "metadata": {},
     "output_type": "execute_result"
    }
   ],
   "source": [
    "df['FIRSTNAME'].fillna('').apply(lambda name: detector.get_gender(name)).head()"
   ]
  },
  {
   "cell_type": "code",
   "execution_count": null,
   "metadata": {},
   "outputs": [],
   "source": []
  },
  {
   "cell_type": "markdown",
   "metadata": {},
   "source": [
    "## 30. We like our data to be in tidy binary categories\n",
    "\n",
    "* Combine the `mostly_female` into `female` \n",
    "* Combine the `mostly_male` into `male`\n",
    "* Replace `andy` (androgynous) and `unknown` with `NaN`\n",
    "\n",
    "you can get NaN not by making a string, but with `import numpy as np` and then using `np.nan`."
   ]
  },
  {
   "cell_type": "code",
   "execution_count": null,
   "metadata": {},
   "outputs": [],
   "source": [
    "import numpy as np\n",
    "\n"
   ]
  },
  {
   "cell_type": "markdown",
   "metadata": {},
   "source": [
    "## 31. Do men or women have more licenses? What is the percentage of unknown genders?"
   ]
  },
  {
   "cell_type": "code",
   "execution_count": null,
   "metadata": {},
   "outputs": [],
   "source": []
  },
  {
   "cell_type": "code",
   "execution_count": null,
   "metadata": {},
   "outputs": [],
   "source": []
  },
  {
   "cell_type": "markdown",
   "metadata": {},
   "source": [
    "## 32. What are the popular unknown- or ambiguous gender first names?\n",
    "\n",
    "Yours might be different! Mine is a combination of actual ambiguity, cultural bias and dirty data."
   ]
  },
  {
   "cell_type": "code",
   "execution_count": null,
   "metadata": {},
   "outputs": [],
   "source": []
  },
  {
   "cell_type": "markdown",
   "metadata": {},
   "source": [
    "## 33. Manually check a few, too \n",
    "\n",
    "Using [a list of \"gender-neutral baby names\"](https://www.popsugar.com/family/Gender-Neutral-Baby-Names-34485564), pick a few names and check what results the library gives you."
   ]
  },
  {
   "cell_type": "code",
   "execution_count": null,
   "metadata": {},
   "outputs": [],
   "source": []
  },
  {
   "cell_type": "markdown",
   "metadata": {},
   "source": [
    "## 34. What are the most popular licenses for men? For women?"
   ]
  },
  {
   "cell_type": "code",
   "execution_count": null,
   "metadata": {},
   "outputs": [],
   "source": []
  },
  {
   "cell_type": "code",
   "execution_count": null,
   "metadata": {},
   "outputs": [],
   "source": []
  },
  {
   "cell_type": "markdown",
   "metadata": {},
   "source": [
    "## 35. What is the gender breakdown for Property Tax Appraiser? How about anything involving Tow Trucks?\n",
    "\n",
    "If you're in need, remember your good friend `.fillna(False)` to get rid of NaN values, or `.na=False` with `.str.contains`."
   ]
  },
  {
   "cell_type": "code",
   "execution_count": null,
   "metadata": {},
   "outputs": [],
   "source": []
  },
  {
   "cell_type": "code",
   "execution_count": null,
   "metadata": {},
   "outputs": [],
   "source": []
  },
  {
   "cell_type": "markdown",
   "metadata": {},
   "source": [
    "(By the way, what are those tow truck jobs?)"
   ]
  },
  {
   "cell_type": "code",
   "execution_count": null,
   "metadata": {},
   "outputs": [],
   "source": []
  },
  {
   "cell_type": "markdown",
   "metadata": {},
   "source": [
    "## 33. Graph them!\n",
    "\n",
    "And let's **give them titles** so we know which is which."
   ]
  },
  {
   "cell_type": "code",
   "execution_count": null,
   "metadata": {},
   "outputs": [],
   "source": []
  },
  {
   "cell_type": "code",
   "execution_count": null,
   "metadata": {},
   "outputs": [],
   "source": []
  },
  {
   "cell_type": "markdown",
   "metadata": {},
   "source": [
    "## 34. Calcuate the supposed gender bias for profession\n",
    "\n",
    "I spent like an hour on this and then realized a super easy way to do it. Welcome to programming! I'll do this part for you."
   ]
  },
  {
   "cell_type": "code",
   "execution_count": null,
   "metadata": {},
   "outputs": [],
   "source": [
    "# So when you do .value_counts(), it gives you an index and a value\n",
    "df[df['GENDER'] == 'male'].LICTYPE.value_counts().head()"
   ]
  },
  {
   "cell_type": "markdown",
   "metadata": {},
   "source": [
    "We did `pd.concat` to combine dataframes, but you can also use it to combine series (like the results of `value_counts()`). If you give it a few `value_counts()` and give it some column names it'll make something real nice."
   ]
  },
  {
   "cell_type": "code",
   "execution_count": null,
   "metadata": {},
   "outputs": [],
   "source": [
    "# All of the values_counts() we will be combining\n",
    "vc_series = [\n",
    "    df[df['GENDER'] == 'male'].LICTYPE.value_counts(),\n",
    "    df[df['GENDER'] == 'female'].LICTYPE.value_counts(),\n",
    "    df[df['GENDER'].isnull()].LICTYPE.value_counts()\n",
    "]\n",
    "# You need axis=1 so it combines them as columns\n",
    "gender_df = pd.concat(vc_series, axis=1)\n",
    "gender_df.head()"
   ]
  },
  {
   "cell_type": "code",
   "execution_count": null,
   "metadata": {},
   "outputs": [],
   "source": [
    "# Turn \"A/C Contractor\" etc into an actual column instead of an index\n",
    "gender_df.reset_index(inplace=True)\n",
    "gender_df.head()"
   ]
  },
  {
   "cell_type": "code",
   "execution_count": null,
   "metadata": {},
   "outputs": [],
   "source": [
    "# Rename the columns appropriately\n",
    "gender_df.columns = [\"license\", \"male\", \"female\", \"unknown\"]\n",
    "# Clean up the NaN by replacing them with zeroes\n",
    "gender_df.fillna(0, inplace=True)\n",
    "gender_df.head()"
   ]
  },
  {
   "cell_type": "markdown",
   "metadata": {},
   "source": [
    "## 35. Add new columns for total licenses, percent known (not percent unknown!), percent male (of known), percent female (of known)\n",
    "\n",
    "And replace any `NaN`s with `0`."
   ]
  },
  {
   "cell_type": "code",
   "execution_count": null,
   "metadata": {},
   "outputs": [],
   "source": []
  },
  {
   "cell_type": "markdown",
   "metadata": {},
   "source": [
    "## 35. What 10 licenses with more than 2,000 people and over 75% \"known\" gender has the most male owners? The most female?"
   ]
  },
  {
   "cell_type": "code",
   "execution_count": null,
   "metadata": {},
   "outputs": [],
   "source": []
  },
  {
   "cell_type": "code",
   "execution_count": null,
   "metadata": {},
   "outputs": [],
   "source": []
  },
  {
   "cell_type": "markdown",
   "metadata": {},
   "source": [
    "## 36. Let's say you have to call a few people about being in a profession dominated by the other gender. What are their phone numbers?\n",
    "\n",
    "This will involve doing some research in one dataframe, then the other one. I didn't put an answer here because I'm interested in what you come up with!"
   ]
  },
  {
   "cell_type": "code",
   "execution_count": null,
   "metadata": {},
   "outputs": [],
   "source": []
  },
  {
   "cell_type": "markdown",
   "metadata": {},
   "source": [
    "## Okay, let's take a break for a second.\n",
    "\n",
    "We've been diving pretty deep into this gender stuff after an initial \"oh but it's not great\" kind of thing.\n",
    "\n",
    "**What issues might come up with our analysis?** Some might be about ethics or discrimination, while some might be about our analysis being misleading or wrong. Go back and take a critical look at what we've done since we started working on gender, and summarize your thoughts below."
   ]
  },
  {
   "cell_type": "code",
   "execution_count": null,
   "metadata": {},
   "outputs": [],
   "source": []
  },
  {
   "cell_type": "markdown",
   "metadata": {},
   "source": [
    "If you found problems with our analysis, **how could we make improvements?**"
   ]
  },
  {
   "cell_type": "code",
   "execution_count": null,
   "metadata": {},
   "outputs": [],
   "source": []
  },
  {
   "cell_type": "code",
   "execution_count": null,
   "metadata": {},
   "outputs": [],
   "source": []
  },
  {
   "cell_type": "markdown",
   "metadata": {},
   "source": [
    "## PART FIVE: Violations\n",
    "\n",
    "### 37. Read in **violations.csv** as `violations_df`, make sure it looks right"
   ]
  },
  {
   "cell_type": "code",
   "execution_count": 39,
   "metadata": {},
   "outputs": [
    {
     "data": {
      "text/html": [
       "<div>\n",
       "<style scoped>\n",
       "    .dataframe tbody tr th:only-of-type {\n",
       "        vertical-align: middle;\n",
       "    }\n",
       "\n",
       "    .dataframe tbody tr th {\n",
       "        vertical-align: top;\n",
       "    }\n",
       "\n",
       "    .dataframe thead th {\n",
       "        text-align: right;\n",
       "    }\n",
       "</style>\n",
       "<table border=\"1\" class=\"dataframe\">\n",
       "  <thead>\n",
       "    <tr style=\"text-align: right;\">\n",
       "      <th></th>\n",
       "      <th>basis</th>\n",
       "      <th>city</th>\n",
       "      <th>complaintno</th>\n",
       "      <th>county</th>\n",
       "      <th>licenseno</th>\n",
       "      <th>name</th>\n",
       "      <th>order</th>\n",
       "      <th>orderDate</th>\n",
       "      <th>zipcode</th>\n",
       "    </tr>\n",
       "  </thead>\n",
       "  <tbody>\n",
       "    <tr>\n",
       "      <th>0</th>\n",
       "      <td>Respondent failed to keep a record of the date...</td>\n",
       "      <td>HOUSTON</td>\n",
       "      <td>COS20160024894</td>\n",
       "      <td>HARRIS</td>\n",
       "      <td>748459</td>\n",
       "      <td>NGUYEN, PHUONG T</td>\n",
       "      <td>Respondent is assessed an administrative penal...</td>\n",
       "      <td>3/21/2017</td>\n",
       "      <td>77083</td>\n",
       "    </tr>\n",
       "    <tr>\n",
       "      <th>1</th>\n",
       "      <td>Respondent failed to keep a record of the date...</td>\n",
       "      <td>HOUSTON</td>\n",
       "      <td>COS20170004646</td>\n",
       "      <td>HARRIS</td>\n",
       "      <td>742837</td>\n",
       "      <td>NGUYEN, SUYEN THI</td>\n",
       "      <td>Respondent is assessed an administrative penal...</td>\n",
       "      <td>3/21/2017</td>\n",
       "      <td>77072</td>\n",
       "    </tr>\n",
       "    <tr>\n",
       "      <th>2</th>\n",
       "      <td>Respondent failed to maintain the required cle...</td>\n",
       "      <td>HOUSTON</td>\n",
       "      <td>COS20170007996</td>\n",
       "      <td>HARRIS</td>\n",
       "      <td>729680</td>\n",
       "      <td>NGUYEN, XUONG MY</td>\n",
       "      <td>Respondent is assessed an administrative penal...</td>\n",
       "      <td>3/21/2017</td>\n",
       "      <td>77066</td>\n",
       "    </tr>\n",
       "    <tr>\n",
       "      <th>3</th>\n",
       "      <td>Respondent failed to keep a record of the date...</td>\n",
       "      <td>HOUSTON</td>\n",
       "      <td>COS20170003822</td>\n",
       "      <td>HARRIS</td>\n",
       "      <td>688518</td>\n",
       "      <td>NGUYEN, NHUNG TUYET</td>\n",
       "      <td>Respondent is assessed an administrative penal...</td>\n",
       "      <td>3/8/2017</td>\n",
       "      <td>77083</td>\n",
       "    </tr>\n",
       "    <tr>\n",
       "      <th>4</th>\n",
       "      <td>The Respondent's license was revoked upon Resp...</td>\n",
       "      <td>HOUSTON</td>\n",
       "      <td>COS20170005470</td>\n",
       "      <td>HARRIS</td>\n",
       "      <td>1209580</td>\n",
       "      <td>NGUYEN, QUAN M</td>\n",
       "      <td>Respondent's Cosmetology Operator license was ...</td>\n",
       "      <td>2/24/2017</td>\n",
       "      <td>77077</td>\n",
       "    </tr>\n",
       "  </tbody>\n",
       "</table>\n",
       "</div>"
      ],
      "text/plain": [
       "                                               basis     city     complaintno  \\\n",
       "0  Respondent failed to keep a record of the date...  HOUSTON  COS20160024894   \n",
       "1  Respondent failed to keep a record of the date...  HOUSTON  COS20170004646   \n",
       "2  Respondent failed to maintain the required cle...  HOUSTON  COS20170007996   \n",
       "3  Respondent failed to keep a record of the date...  HOUSTON  COS20170003822   \n",
       "4  The Respondent's license was revoked upon Resp...  HOUSTON  COS20170005470   \n",
       "\n",
       "   county licenseno                  name  \\\n",
       "0  HARRIS    748459      NGUYEN, PHUONG T   \n",
       "1  HARRIS    742837    NGUYEN, SUYEN THI    \n",
       "2  HARRIS    729680     NGUYEN, XUONG MY    \n",
       "3  HARRIS    688518  NGUYEN, NHUNG TUYET    \n",
       "4  HARRIS   1209580        NGUYEN, QUAN M   \n",
       "\n",
       "                                               order  orderDate  zipcode  \n",
       "0  Respondent is assessed an administrative penal...  3/21/2017    77083  \n",
       "1  Respondent is assessed an administrative penal...  3/21/2017    77072  \n",
       "2  Respondent is assessed an administrative penal...  3/21/2017    77066  \n",
       "3  Respondent is assessed an administrative penal...   3/8/2017    77083  \n",
       "4  Respondent's Cosmetology Operator license was ...  2/24/2017    77077  "
      ]
     },
     "execution_count": 39,
     "metadata": {},
     "output_type": "execute_result"
    }
   ],
   "source": [
    "violations_df = pd.read_csv(\"violations.csv\")\n",
    "violations_df.head()"
   ]
  },
  {
   "cell_type": "markdown",
   "metadata": {},
   "source": [
    "### 38. Combine with your original licenses dataset dataframe to get phone numbers and addresses for each violation. Check that it is 90 rows, 28 columns."
   ]
  },
  {
   "cell_type": "code",
   "execution_count": 61,
   "metadata": {},
   "outputs": [
    {
     "data": {
      "text/plain": [
       "(90, 30)"
      ]
     },
     "execution_count": 61,
     "metadata": {},
     "output_type": "execute_result"
    }
   ],
   "source": [
    "#df.LICNUMBER\n",
    "merged = df.merge(violations_df, left_on='LICNUMBER', right_on='licenseno')\n",
    "merged.shape"
   ]
  },
  {
   "cell_type": "code",
   "execution_count": null,
   "metadata": {},
   "outputs": [],
   "source": []
  },
  {
   "cell_type": "markdown",
   "metadata": {},
   "source": [
    "## 39. Find each violation involving a failure with records. Use a regular expression."
   ]
  },
  {
   "cell_type": "code",
   "execution_count": 79,
   "metadata": {},
   "outputs": [
    {
     "data": {
      "text/plain": [
       "2     Respondent failed to clean, disinfect, and ste...\n",
       "9     Respondent failed to clean diamond, carbide, n...\n",
       "12    Respondent failed to keep a record of the date...\n",
       "13    Respondent failed to wash towels in hot water ...\n",
       "15    Respondent failed to keep a record of the date...\n",
       "18    Respondent failed to keep a record of the date...\n",
       "20    Respondent failed to keep a record of the date...\n",
       "21    Respondent failed to clean and sanitize whirlp...\n",
       "22    Respondent operated a cosmetology salon with a...\n",
       "24    Respondent failed to dispose of single use ite...\n",
       "26    Respondent failed to keep a record of the date...\n",
       "27    Respondent failed to make records, on a depart...\n",
       "28    Respondent failed to keep a record of the date...\n",
       "31    Respondent failed to clean and sanitize whirlp...\n",
       "32    Respondent failed to keep a record of the date...\n",
       "34    Respondent failed to keep a record of the date...\n",
       "35    Respondent failed to keep a record of the date...\n",
       "37    Respondent failed to keep a record of the date...\n",
       "39    Respondent failed to maintain the required cle...\n",
       "40    Respondent leased space in a salon to an indiv...\n",
       "42    Respondent failed to wash towels in hot water ...\n",
       "44    Respondent failed to keep a record of the date...\n",
       "46    Respondent failed to keep a record of the date...\n",
       "47    Respondent failed to keep a record of the date...\n",
       "48    Respondent failed to keep a record of the date...\n",
       "49    Respondent failed to keep a record of the date...\n",
       "50    Respondent failed to keep a record of the date...\n",
       "52    Respondent failed to keep a record of the date...\n",
       "54    Respondent failed to keep a record of the date...\n",
       "57    Respondent failed to keep a record of the date...\n",
       "58    Respondent failed to keep a record of the date...\n",
       "59    Respondent failed to keep a record of the date...\n",
       "60    Respondent failed to keep a record of the date...\n",
       "61    Respondent failed to keep a record of the date...\n",
       "62    Respondent failed to keep a record of the date...\n",
       "63    Respondent failed to follow whirlpool foot spa...\n",
       "65    Respondent failed to clean diamond, carbide, n...\n",
       "67    Respondent failed to keep a record of the date...\n",
       "69    Respondent failed to keep a record of the date...\n",
       "70    Respondent failed to keep a record of the date...\n",
       "71    Respondent failed to keep a record of the date...\n",
       "72    Respondent failed to clean and disinfect all w...\n",
       "74    Respondent failed to make cleaning and disinfe...\n",
       "75    Respondent failed to keep a record of the date...\n",
       "77    Respondent failed to keep a record of the date...\n",
       "79    Respondent operated a cosmetology salon with a...\n",
       "81    Respondent leased space in a salon to multiple...\n",
       "82    Respondent failed to keep a record of the date...\n",
       "84    Respondent failed to make records, on a depart...\n",
       "85    Respondent failed to keep a record of the date...\n",
       "87    Respondent failed to keep a record of the date...\n",
       "Name: basis, dtype: object"
      ]
     },
     "execution_count": 79,
     "metadata": {},
     "output_type": "execute_result"
    }
   ],
   "source": [
    "#df[(df['col_name'].str.contains('apple')) & (df['col_name'].str.contains('banana'))]\n",
    "merged[(merged['basis'].str.contains(\"fail\")) & (merged['basis'].str.contains(\"record\"))][\"basis\"]"
   ]
  },
  {
   "cell_type": "markdown",
   "metadata": {},
   "source": [
    "## 40. How much money was each fine? Use a regular expression and .str.extract\n",
    "\n",
    "Unfortunately large and helpful troubleshooting tip: `$` means \"end of a line\" in regex, so `.extract` isn't going to accept it as a dollar sign. You need to escape it by using `\\$` instead."
   ]
  },
  {
   "cell_type": "code",
   "execution_count": 80,
   "metadata": {},
   "outputs": [
    {
     "data": {
      "text/html": [
       "<div>\n",
       "<style scoped>\n",
       "    .dataframe tbody tr th:only-of-type {\n",
       "        vertical-align: middle;\n",
       "    }\n",
       "\n",
       "    .dataframe tbody tr th {\n",
       "        vertical-align: top;\n",
       "    }\n",
       "\n",
       "    .dataframe thead th {\n",
       "        text-align: right;\n",
       "    }\n",
       "</style>\n",
       "<table border=\"1\" class=\"dataframe\">\n",
       "  <thead>\n",
       "    <tr style=\"text-align: right;\">\n",
       "      <th></th>\n",
       "      <th>LICTYPE</th>\n",
       "      <th>LICNUMBER</th>\n",
       "      <th>BIZCOUNTY</th>\n",
       "      <th>BIZNAME</th>\n",
       "      <th>BIZLINE1</th>\n",
       "      <th>BIZLINE2</th>\n",
       "      <th>BIZCITYSTATE</th>\n",
       "      <th>BIZTELEPHONE</th>\n",
       "      <th>EXPIRATION</th>\n",
       "      <th>OWNER</th>\n",
       "      <th>...</th>\n",
       "      <th>FIRSTNAME</th>\n",
       "      <th>basis</th>\n",
       "      <th>city</th>\n",
       "      <th>complaintno</th>\n",
       "      <th>county</th>\n",
       "      <th>licenseno</th>\n",
       "      <th>name</th>\n",
       "      <th>order</th>\n",
       "      <th>orderDate</th>\n",
       "      <th>zipcode</th>\n",
       "    </tr>\n",
       "  </thead>\n",
       "  <tbody>\n",
       "    <tr>\n",
       "      <th>0</th>\n",
       "      <td>Cosmetology Manicurist</td>\n",
       "      <td>1288397</td>\n",
       "      <td>HARRIS</td>\n",
       "      <td>NGUYEN, TUYEN THANH</td>\n",
       "      <td>NaN</td>\n",
       "      <td>NaN</td>\n",
       "      <td>NaN</td>\n",
       "      <td>NaN</td>\n",
       "      <td>2018-02-28</td>\n",
       "      <td>NGUYEN, TUYEN THANH</td>\n",
       "      <td>...</td>\n",
       "      <td>TUYEN THANH</td>\n",
       "      <td>Respondent failed to clean, disinfect, and ste...</td>\n",
       "      <td>HOUSTON</td>\n",
       "      <td>COS20160025554</td>\n",
       "      <td>HARRIS</td>\n",
       "      <td>1288397</td>\n",
       "      <td>NGUYEN, TUYEN T</td>\n",
       "      <td>Respondent is assessed an administrative penal...</td>\n",
       "      <td>11/4/2016</td>\n",
       "      <td>77072</td>\n",
       "    </tr>\n",
       "    <tr>\n",
       "      <th>1</th>\n",
       "      <td>Cosmetology Esthetician</td>\n",
       "      <td>1312304</td>\n",
       "      <td>HARRIS</td>\n",
       "      <td>NGUYEN, THUY KIM THI</td>\n",
       "      <td>NaN</td>\n",
       "      <td>NaN</td>\n",
       "      <td>NaN</td>\n",
       "      <td>NaN</td>\n",
       "      <td>2017-08-12</td>\n",
       "      <td>NGUYEN, THUY KIM THI</td>\n",
       "      <td>...</td>\n",
       "      <td>THUY KIM THI</td>\n",
       "      <td>Respondent performed cosmetology services outs...</td>\n",
       "      <td>HOUSTON</td>\n",
       "      <td>COS20160009918</td>\n",
       "      <td>HARRIS</td>\n",
       "      <td>1312304</td>\n",
       "      <td>NGUYEN, THUY KIM THI</td>\n",
       "      <td>Respondent is assessed an administrative penal...</td>\n",
       "      <td>5/18/2016</td>\n",
       "      <td>77040</td>\n",
       "    </tr>\n",
       "    <tr>\n",
       "      <th>2</th>\n",
       "      <td>Cosmetology Manicurist</td>\n",
       "      <td>1439723</td>\n",
       "      <td>HARRIS</td>\n",
       "      <td>NGUYEN, MINH VAN</td>\n",
       "      <td>NaN</td>\n",
       "      <td>NaN</td>\n",
       "      <td>NaN</td>\n",
       "      <td>NaN</td>\n",
       "      <td>2018-08-14</td>\n",
       "      <td>NGUYEN, MINH VAN</td>\n",
       "      <td>...</td>\n",
       "      <td>MINH VAN</td>\n",
       "      <td>Respondent failed to clean, disinfect, and ste...</td>\n",
       "      <td>HOUSTON</td>\n",
       "      <td>COS20140013051</td>\n",
       "      <td>HARRIS</td>\n",
       "      <td>1439723</td>\n",
       "      <td>NGUYEN, MINH V</td>\n",
       "      <td>Respondent is assessed an administrative penal...</td>\n",
       "      <td>8/12/2014</td>\n",
       "      <td>77064</td>\n",
       "    </tr>\n",
       "    <tr>\n",
       "      <th>3</th>\n",
       "      <td>Cosmetology Operator</td>\n",
       "      <td>1456985</td>\n",
       "      <td>HARRIS</td>\n",
       "      <td>NGUYEN, LE XUAN THI</td>\n",
       "      <td>NaN</td>\n",
       "      <td>NaN</td>\n",
       "      <td>NaN</td>\n",
       "      <td>NaN</td>\n",
       "      <td>2018-02-11</td>\n",
       "      <td>NGUYEN, LE XUAN THI</td>\n",
       "      <td>...</td>\n",
       "      <td>LE XUAN THI</td>\n",
       "      <td>Respondent practiced cosmetology services in a...</td>\n",
       "      <td>HOUSTON</td>\n",
       "      <td>COS20160020809</td>\n",
       "      <td>HARRIS</td>\n",
       "      <td>1456985</td>\n",
       "      <td>NGUYEN, LE XUAN THI</td>\n",
       "      <td>Respondent is assessed an administrative penal...</td>\n",
       "      <td>8/24/2016</td>\n",
       "      <td>77075</td>\n",
       "    </tr>\n",
       "    <tr>\n",
       "      <th>4</th>\n",
       "      <td>Cosmetology Manicurist</td>\n",
       "      <td>1460150</td>\n",
       "      <td>HARRIS</td>\n",
       "      <td>NGUYEN, QUYEN TRAN THUC</td>\n",
       "      <td>NaN</td>\n",
       "      <td>NaN</td>\n",
       "      <td>NaN</td>\n",
       "      <td>NaN</td>\n",
       "      <td>2017-10-14</td>\n",
       "      <td>NGUYEN, QUYEN TRAN THUC</td>\n",
       "      <td>...</td>\n",
       "      <td>QUYEN TRAN THUC</td>\n",
       "      <td>Respondent performed or attempted to perform a...</td>\n",
       "      <td>HOUSTON</td>\n",
       "      <td>COS20140002226</td>\n",
       "      <td>HARRIS</td>\n",
       "      <td>1460150</td>\n",
       "      <td>NGUYEN, QUYEN TRAN THUC</td>\n",
       "      <td>Respondent is assessed an administrative penal...</td>\n",
       "      <td>7/23/2015</td>\n",
       "      <td>77090</td>\n",
       "    </tr>\n",
       "  </tbody>\n",
       "</table>\n",
       "<p>5 rows × 30 columns</p>\n",
       "</div>"
      ],
      "text/plain": [
       "                   LICTYPE LICNUMBER BIZCOUNTY                  BIZNAME  \\\n",
       "0   Cosmetology Manicurist   1288397    HARRIS      NGUYEN, TUYEN THANH   \n",
       "1  Cosmetology Esthetician   1312304    HARRIS     NGUYEN, THUY KIM THI   \n",
       "2   Cosmetology Manicurist   1439723    HARRIS         NGUYEN, MINH VAN   \n",
       "3     Cosmetology Operator   1456985    HARRIS      NGUYEN, LE XUAN THI   \n",
       "4   Cosmetology Manicurist   1460150    HARRIS  NGUYEN, QUYEN TRAN THUC   \n",
       "\n",
       "   BIZLINE1  BIZLINE2  BIZCITYSTATE  BIZTELEPHONE  EXPIRATION  \\\n",
       "0       NaN       NaN           NaN           NaN  2018-02-28   \n",
       "1       NaN       NaN           NaN           NaN  2017-08-12   \n",
       "2       NaN       NaN           NaN           NaN  2018-08-14   \n",
       "3       NaN       NaN           NaN           NaN  2018-02-11   \n",
       "4       NaN       NaN           NaN           NaN  2017-10-14   \n",
       "\n",
       "                     OWNER  ...        FIRSTNAME  \\\n",
       "0      NGUYEN, TUYEN THANH  ...      TUYEN THANH   \n",
       "1     NGUYEN, THUY KIM THI  ...     THUY KIM THI   \n",
       "2         NGUYEN, MINH VAN  ...         MINH VAN   \n",
       "3      NGUYEN, LE XUAN THI  ...      LE XUAN THI   \n",
       "4  NGUYEN, QUYEN TRAN THUC  ...  QUYEN TRAN THUC   \n",
       "\n",
       "                                               basis     city     complaintno  \\\n",
       "0  Respondent failed to clean, disinfect, and ste...  HOUSTON  COS20160025554   \n",
       "1  Respondent performed cosmetology services outs...  HOUSTON  COS20160009918   \n",
       "2  Respondent failed to clean, disinfect, and ste...  HOUSTON  COS20140013051   \n",
       "3  Respondent practiced cosmetology services in a...  HOUSTON  COS20160020809   \n",
       "4  Respondent performed or attempted to perform a...  HOUSTON  COS20140002226   \n",
       "\n",
       "   county licenseno                      name  \\\n",
       "0  HARRIS   1288397           NGUYEN, TUYEN T   \n",
       "1  HARRIS   1312304     NGUYEN, THUY KIM THI    \n",
       "2  HARRIS   1439723            NGUYEN, MINH V   \n",
       "3  HARRIS   1456985      NGUYEN, LE XUAN THI    \n",
       "4  HARRIS   1460150  NGUYEN, QUYEN TRAN THUC    \n",
       "\n",
       "                                               order  orderDate zipcode  \n",
       "0  Respondent is assessed an administrative penal...  11/4/2016   77072  \n",
       "1  Respondent is assessed an administrative penal...  5/18/2016   77040  \n",
       "2  Respondent is assessed an administrative penal...  8/12/2014   77064  \n",
       "3  Respondent is assessed an administrative penal...  8/24/2016   77075  \n",
       "4  Respondent is assessed an administrative penal...  7/23/2015   77090  \n",
       "\n",
       "[5 rows x 30 columns]"
      ]
     },
     "execution_count": 80,
     "metadata": {},
     "output_type": "execute_result"
    }
   ],
   "source": [
    "merged.head()"
   ]
  },
  {
   "cell_type": "markdown",
   "metadata": {},
   "source": [
    "## 41. Clean those results (no commas, no dollar signs, and it should be an integer) and save it to a new column called `fine`\n",
    "\n",
    "`.replace` is for *entire cells*, you're interested in `.str.replace`, which treats each value like a string, not like a... pandas thing.\n",
    "\n",
    "`.astype(int)` will convert it into an integer for you."
   ]
  },
  {
   "cell_type": "code",
   "execution_count": null,
   "metadata": {},
   "outputs": [],
   "source": []
  },
  {
   "cell_type": "markdown",
   "metadata": {},
   "source": [
    "## 42. Which orders results in the top fines?"
   ]
  },
  {
   "cell_type": "code",
   "execution_count": null,
   "metadata": {},
   "outputs": [],
   "source": []
  },
  {
   "cell_type": "markdown",
   "metadata": {},
   "source": [
    "## 43. Are you still here???\n",
    "\n",
    "I'm sure impressed."
   ]
  },
  {
   "cell_type": "code",
   "execution_count": null,
   "metadata": {},
   "outputs": [],
   "source": []
  }
 ],
 "metadata": {
  "kernelspec": {
   "display_name": "Python 3",
   "language": "python",
   "name": "python3"
  },
  "language_info": {
   "codemirror_mode": {
    "name": "ipython",
    "version": 3
   },
   "file_extension": ".py",
   "mimetype": "text/x-python",
   "name": "python",
   "nbconvert_exporter": "python",
   "pygments_lexer": "ipython3",
   "version": "3.8.6"
  }
 },
 "nbformat": 4,
 "nbformat_minor": 2
}
