{
 "cells": [
  {
   "cell_type": "code",
   "execution_count": 1,
   "metadata": {},
   "outputs": [],
   "source": [
    "# Karthika Namboothiri\n",
    "# Nov. 1, 2020\n",
    "# Homework 2, Part 2"
   ]
  },
  {
   "cell_type": "markdown",
   "metadata": {},
   "source": [
    "**Part One: Lists**"
   ]
  },
  {
   "cell_type": "code",
   "execution_count": 2,
   "metadata": {},
   "outputs": [],
   "source": [
    "countries = ['Nigeria', 'Botswana', 'Chile', 'Belarus', 'Egypt', 'Zimbabwe', 'Indonesia']"
   ]
  },
  {
   "cell_type": "code",
   "execution_count": 3,
   "metadata": {},
   "outputs": [
    {
     "name": "stdout",
     "output_type": "stream",
     "text": [
      "Nigeria\n",
      "Botswana\n",
      "Chile\n",
      "Belarus\n",
      "Egypt\n",
      "Zimbabwe\n",
      "Indonesia\n"
     ]
    }
   ],
   "source": [
    "for c in countries:\n",
    "    print(c);"
   ]
  },
  {
   "cell_type": "code",
   "execution_count": 7,
   "metadata": {},
   "outputs": [
    {
     "name": "stdout",
     "output_type": "stream",
     "text": [
      "the first country, after sorting is Belarus\n",
      "the second last country from the list is Nigeria\n"
     ]
    }
   ],
   "source": [
    "countries.sort()\n",
    "print(\"the first country, after sorting is\" , countries[0])\n",
    "print(\"the second last country from the list is\", countries[-2])"
   ]
  },
  {
   "cell_type": "code",
   "execution_count": 8,
   "metadata": {},
   "outputs": [],
   "source": [
    "# Deleting a list element \n",
    "countries.remove('Chile')"
   ]
  },
  {
   "cell_type": "code",
   "execution_count": 11,
   "metadata": {},
   "outputs": [
    {
     "name": "stdout",
     "output_type": "stream",
     "text": [
      "BELARUS\n",
      "BOTSWANA\n",
      "EGYPT\n",
      "INDONESIA\n",
      "NIGERIA\n",
      "ZIMBABWE\n"
     ]
    }
   ],
   "source": [
    "#Printing each element in caps\n",
    "for c in countries:\n",
    "    print(c.upper());"
   ]
  },
  {
   "cell_type": "markdown",
   "metadata": {},
   "source": [
    "**Part Two: Dictionaries**"
   ]
  },
  {
   "cell_type": "code",
   "execution_count": 16,
   "metadata": {},
   "outputs": [],
   "source": [
    "tree = {'name': 'Ashoka', 'species': 'plant', 'age': 54, 'location_name': 'New Delhi', 'latitude': 28.6139, 'longitude':77.2090}\n"
   ]
  },
  {
   "cell_type": "code",
   "execution_count": 17,
   "metadata": {},
   "outputs": [
    {
     "name": "stdout",
     "output_type": "stream",
     "text": [
      "Ashoka is a 54 year old tree that is in New Delhi\n"
     ]
    }
   ],
   "source": [
    "print(f\"{tree['name']} is a {tree['age']} year old tree that is in {tree['location_name']}\")"
   ]
  },
  {
   "cell_type": "code",
   "execution_count": 20,
   "metadata": {},
   "outputs": [
    {
     "name": "stdout",
     "output_type": "stream",
     "text": [
      "Ashoka in New Delhi is south of NYC\n"
     ]
    }
   ],
   "source": [
    "if (tree['latitude'] < 40.7128):\n",
    "    print(f\"{tree['name']} in {tree['location_name']} is south of NYC\")\n",
    "else: print(f\"{tree['name']} in {tree['location_name']} is north of NYC\")"
   ]
  },
  {
   "cell_type": "code",
   "execution_count": 24,
   "metadata": {},
   "outputs": [
    {
     "name": "stdout",
     "output_type": "stream",
     "text": [
      "How old are you?24\n",
      "Ashoka was 30 when you were born\n"
     ]
    }
   ],
   "source": [
    "person_age = input(\"How old are you?\")\n",
    "\n",
    "if(int(person_age) > tree['age']):\n",
    "    print(f\"You are {int(person_age) - tree['age']} years older than {tree['name']}\")\n",
    "else: print(f\"{tree['name']} was {tree['age']-int(person_age)} when you were born\")     "
   ]
  },
  {
   "cell_type": "markdown",
   "metadata": {},
   "source": [
    "**Part Two: Lists of dictionaries**"
   ]
  },
  {
   "cell_type": "code",
   "execution_count": 26,
   "metadata": {},
   "outputs": [],
   "source": [
    "places = [\n",
    "    {'name':'Moscow' , 'latitude': 55.7558, 'longitude': 37.6173},\n",
    "    {'name':'Tehran' , 'latitude': 35.6892, 'longitude': 51.3890},\n",
    "    {'name':'Falkland Islands' , 'latitude': -51.7963, 'longitude': -59.5236},\n",
    "    {'name':'Seoul' , 'latitude': 37.5665, 'longitude': 126.9780},\n",
    "    {'name':'Santiago' , 'latitude': -33.4489, 'longitude': -70.6693}\n",
    "]"
   ]
  },
  {
   "cell_type": "code",
   "execution_count": 39,
   "metadata": {},
   "outputs": [
    {
     "name": "stdout",
     "output_type": "stream",
     "text": [
      "Moscow lies above the equator\n",
      "Tehran lies above the equator\n",
      "Falkland Islands lies below the equator\n",
      "The Falkland Islands are a biogeographical part of the mild Antarctic zone\n",
      "Seoul lies above the equator\n",
      "Santiago lies below the equator\n"
     ]
    }
   ],
   "source": [
    "#Looping through 'places' to see where the cities lie from the equator\n",
    "for item in places:\n",
    "    position = \"\"\n",
    "    if (item['latitude'] > 0):\n",
    "        position = 'above'\n",
    "    elif (item['latitude'] < 0):\n",
    "        position = 'below'\n",
    "    else: position = 'on'\n",
    "    print(f\"{item['name']} lies {position} the equator\" )\n",
    "    if (item['name'] == 'Falkland Islands'):\n",
    "        print(\"The Falkland Islands are a biogeographical part of the mild Antarctic zone\")"
   ]
  },
  {
   "cell_type": "code",
   "execution_count": 40,
   "metadata": {},
   "outputs": [
    {
     "name": "stdout",
     "output_type": "stream",
     "text": [
      "Moscow lies above the Ashoka tree\n",
      "Tehran lies above the Ashoka tree\n",
      "Falkland Islands lies below the Ashoka tree\n",
      "Seoul lies above the Ashoka tree\n",
      "Santiago lies below the Ashoka tree\n"
     ]
    }
   ],
   "source": [
    "#Looping to see where the city lies against the tree\n",
    "for item in places:\n",
    "    position = \"\"\n",
    "    if (item['latitude'] > tree['latitude']):\n",
    "        position = 'above'\n",
    "    elif (item['latitude'] < tree['latitude']):\n",
    "        position = 'below'\n",
    "    else: position = 'on the same line as'\n",
    "    print(f\"{item['name']} lies {position} the {tree['name']} tree\" )"
   ]
  },
  {
   "cell_type": "markdown",
   "metadata": {},
   "source": [
    "# NEXT HOMEWORK!! \n",
    "## PART 3!!!"
   ]
  },
  {
   "cell_type": "code",
   "execution_count": 1,
   "metadata": {},
   "outputs": [],
   "source": [
    "import json\n",
    "\n",
    "data = json.loads(\"{\\\"tracks\\\":[{\\\"album\\\":{\\\"album_type\\\":\\\"single\\\",\\\"artists\\\":[{\\\"external_urls\\\":{\\\"spotify\\\":\\\"https://open.spotify.com/artist/3TVXtAsR1Inumwj472S9r4\\\"},\\\"href\\\":\\\"https://api.spotify.com/v1/artists/3TVXtAsR1Inumwj472S9r4\\\",\\\"id\\\":\\\"3TVXtAsR1Inumwj472S9r4\\\",\\\"name\\\":\\\"Drake\\\",\\\"type\\\":\\\"artist\\\",\\\"uri\\\":\\\"spotify:artist:3TVXtAsR1Inumwj472S9r4\\\"}],\\\"available_markets\\\":[\\\"CA\\\",\\\"MX\\\",\\\"US\\\"],\\\"external_urls\\\":{\\\"spotify\\\":\\\"https://open.spotify.com/album/1YxmW7DO2dM05gwMKTbr7l\\\"},\\\"href\\\":\\\"https://api.spotify.com/v1/albums/1YxmW7DO2dM05gwMKTbr7l\\\",\\\"id\\\":\\\"1YxmW7DO2dM05gwMKTbr7l\\\",\\\"images\\\":[{\\\"height\\\":640,\\\"url\\\":\\\"https://i.scdn.co/image/5b14b24dea78b0a14244ccb86f3bfd20bf77326d\\\",\\\"width\\\":640},{\\\"height\\\":300,\\\"url\\\":\\\"https://i.scdn.co/image/177939e6656bd0ae46d12e1f36e9162016d28a3c\\\",\\\"width\\\":300},{\\\"height\\\":64,\\\"url\\\":\\\"https://i.scdn.co/image/7b42b976267520f4dbb2f67e1baa63ca13bdbfdb\\\",\\\"width\\\":64}],\\\"name\\\":\\\"Fake Love\\\",\\\"type\\\":\\\"album\\\",\\\"uri\\\":\\\"spotify:album:1YxmW7DO2dM05gwMKTbr7l\\\"},\\\"artists\\\":[{\\\"external_urls\\\":{\\\"spotify\\\":\\\"https://open.spotify.com/artist/3TVXtAsR1Inumwj472S9r4\\\"},\\\"href\\\":\\\"https://api.spotify.com/v1/artists/3TVXtAsR1Inumwj472S9r4\\\",\\\"id\\\":\\\"3TVXtAsR1Inumwj472S9r4\\\",\\\"name\\\":\\\"Drake\\\",\\\"type\\\":\\\"artist\\\",\\\"uri\\\":\\\"spotify:artist:3TVXtAsR1Inumwj472S9r4\\\"}],\\\"available_markets\\\":[\\\"CA\\\",\\\"MX\\\",\\\"US\\\"],\\\"disc_number\\\":1,\\\"duration_ms\\\":207813,\\\"explicit\\\":true,\\\"external_ids\\\":{\\\"isrc\\\":\\\"USCM51600333\\\"},\\\"external_urls\\\":{\\\"spotify\\\":\\\"https://open.spotify.com/track/6NMNgWgEAzde5M8U3lc6FN\\\"},\\\"href\\\":\\\"https://api.spotify.com/v1/tracks/6NMNgWgEAzde5M8U3lc6FN\\\",\\\"id\\\":\\\"6NMNgWgEAzde5M8U3lc6FN\\\",\\\"name\\\":\\\"Fake Love\\\",\\\"popularity\\\":90,\\\"preview_url\\\":\\\"https://p.scdn.co/mp3-preview/b1c79b52128cc45a962cb87ba5a616ea6a435356?cid=null\\\",\\\"track_number\\\":1,\\\"type\\\":\\\"track\\\",\\\"uri\\\":\\\"spotify:track:6NMNgWgEAzde5M8U3lc6FN\\\"},{\\\"album\\\":{\\\"album_type\\\":\\\"album\\\",\\\"artists\\\":[{\\\"external_urls\\\":{\\\"spotify\\\":\\\"https://open.spotify.com/artist/3TVXtAsR1Inumwj472S9r4\\\"},\\\"href\\\":\\\"https://api.spotify.com/v1/artists/3TVXtAsR1Inumwj472S9r4\\\",\\\"id\\\":\\\"3TVXtAsR1Inumwj472S9r4\\\",\\\"name\\\":\\\"Drake\\\",\\\"type\\\":\\\"artist\\\",\\\"uri\\\":\\\"spotify:artist:3TVXtAsR1Inumwj472S9r4\\\"}],\\\"available_markets\\\":[\\\"CA\\\",\\\"MX\\\",\\\"US\\\"],\\\"external_urls\\\":{\\\"spotify\\\":\\\"https://open.spotify.com/album/0G1ffjfFuTUTVjDrVdLimH\\\"},\\\"href\\\":\\\"https://api.spotify.com/v1/albums/0G1ffjfFuTUTVjDrVdLimH\\\",\\\"id\\\":\\\"0G1ffjfFuTUTVjDrVdLimH\\\",\\\"images\\\":[{\\\"height\\\":640,\\\"url\\\":\\\"https://i.scdn.co/image/e73c706e842eb5233eab7afd3404218a2696d568\\\",\\\"width\\\":640},{\\\"height\\\":300,\\\"url\\\":\\\"https://i.scdn.co/image/90f080afbec29a0c58509875a6dd59b3c380e353\\\",\\\"width\\\":300},{\\\"height\\\":64,\\\"url\\\":\\\"https://i.scdn.co/image/260c2e74e67a15cf61ac72f8264cc6caec5f7a66\\\",\\\"width\\\":64}],\\\"name\\\":\\\"Views\\\",\\\"type\\\":\\\"album\\\",\\\"uri\\\":\\\"spotify:album:0G1ffjfFuTUTVjDrVdLimH\\\"},\\\"artists\\\":[{\\\"external_urls\\\":{\\\"spotify\\\":\\\"https://open.spotify.com/artist/3TVXtAsR1Inumwj472S9r4\\\"},\\\"href\\\":\\\"https://api.spotify.com/v1/artists/3TVXtAsR1Inumwj472S9r4\\\",\\\"id\\\":\\\"3TVXtAsR1Inumwj472S9r4\\\",\\\"name\\\":\\\"Drake\\\",\\\"type\\\":\\\"artist\\\",\\\"uri\\\":\\\"spotify:artist:3TVXtAsR1Inumwj472S9r4\\\"},{\\\"external_urls\\\":{\\\"spotify\\\":\\\"https://open.spotify.com/artist/3tVQdUvClmAT7URs9V3rsp\\\"},\\\"href\\\":\\\"https://api.spotify.com/v1/artists/3tVQdUvClmAT7URs9V3rsp\\\",\\\"id\\\":\\\"3tVQdUvClmAT7URs9V3rsp\\\",\\\"name\\\":\\\"WizKid\\\",\\\"type\\\":\\\"artist\\\",\\\"uri\\\":\\\"spotify:artist:3tVQdUvClmAT7URs9V3rsp\\\"},{\\\"external_urls\\\":{\\\"spotify\\\":\\\"https://open.spotify.com/artist/77DAFfvm3O9zT5dIoG0eIO\\\"},\\\"href\\\":\\\"https://api.spotify.com/v1/artists/77DAFfvm3O9zT5dIoG0eIO\\\",\\\"id\\\":\\\"77DAFfvm3O9zT5dIoG0eIO\\\",\\\"name\\\":\\\"Kyla\\\",\\\"type\\\":\\\"artist\\\",\\\"uri\\\":\\\"spotify:artist:77DAFfvm3O9zT5dIoG0eIO\\\"}],\\\"available_markets\\\":[\\\"CA\\\",\\\"MX\\\",\\\"US\\\"],\\\"disc_number\\\":1,\\\"duration_ms\\\":173986,\\\"explicit\\\":false,\\\"external_ids\\\":{\\\"isrc\\\":\\\"USCM51600028\\\"},\\\"external_urls\\\":{\\\"spotify\\\":\\\"https://open.spotify.com/track/12VWzyPDBCc8fqeWCAfNwR\\\"},\\\"href\\\":\\\"https://api.spotify.com/v1/tracks/12VWzyPDBCc8fqeWCAfNwR\\\",\\\"id\\\":\\\"12VWzyPDBCc8fqeWCAfNwR\\\",\\\"name\\\":\\\"One Dance\\\",\\\"popularity\\\":84,\\\"preview_url\\\":\\\"https://p.scdn.co/mp3-preview/98f60b086bb1da2ca2e4c217331b8c8cc801358d?cid=null\\\",\\\"track_number\\\":12,\\\"type\\\":\\\"track\\\",\\\"uri\\\":\\\"spotify:track:12VWzyPDBCc8fqeWCAfNwR\\\"},{\\\"album\\\":{\\\"album_type\\\":\\\"single\\\",\\\"artists\\\":[{\\\"external_urls\\\":{\\\"spotify\\\":\\\"https://open.spotify.com/artist/3TVXtAsR1Inumwj472S9r4\\\"},\\\"href\\\":\\\"https://api.spotify.com/v1/artists/3TVXtAsR1Inumwj472S9r4\\\",\\\"id\\\":\\\"3TVXtAsR1Inumwj472S9r4\\\",\\\"name\\\":\\\"Drake\\\",\\\"type\\\":\\\"artist\\\",\\\"uri\\\":\\\"spotify:artist:3TVXtAsR1Inumwj472S9r4\\\"}],\\\"available_markets\\\":[\\\"CA\\\",\\\"MX\\\",\\\"US\\\"],\\\"external_urls\\\":{\\\"spotify\\\":\\\"https://open.spotify.com/album/2z3NlPY0n0gHJPCPqrzA6V\\\"},\\\"href\\\":\\\"https://api.spotify.com/v1/albums/2z3NlPY0n0gHJPCPqrzA6V\\\",\\\"id\\\":\\\"2z3NlPY0n0gHJPCPqrzA6V\\\",\\\"images\\\":[{\\\"height\\\":640,\\\"url\\\":\\\"https://i.scdn.co/image/5b14b24dea78b0a14244ccb86f3bfd20bf77326d\\\",\\\"width\\\":640},{\\\"height\\\":300,\\\"url\\\":\\\"https://i.scdn.co/image/177939e6656bd0ae46d12e1f36e9162016d28a3c\\\",\\\"width\\\":300},{\\\"height\\\":64,\\\"url\\\":\\\"https://i.scdn.co/image/7b42b976267520f4dbb2f67e1baa63ca13bdbfdb\\\",\\\"width\\\":64}],\\\"name\\\":\\\"Sneakin’\\\",\\\"type\\\":\\\"album\\\",\\\"uri\\\":\\\"spotify:album:2z3NlPY0n0gHJPCPqrzA6V\\\"},\\\"artists\\\":[{\\\"external_urls\\\":{\\\"spotify\\\":\\\"https://open.spotify.com/artist/3TVXtAsR1Inumwj472S9r4\\\"},\\\"href\\\":\\\"https://api.spotify.com/v1/artists/3TVXtAsR1Inumwj472S9r4\\\",\\\"id\\\":\\\"3TVXtAsR1Inumwj472S9r4\\\",\\\"name\\\":\\\"Drake\\\",\\\"type\\\":\\\"artist\\\",\\\"uri\\\":\\\"spotify:artist:3TVXtAsR1Inumwj472S9r4\\\"},{\\\"external_urls\\\":{\\\"spotify\\\":\\\"https://open.spotify.com/artist/1URnnhqYAYcrqrcwql10ft\\\"},\\\"href\\\":\\\"https://api.spotify.com/v1/artists/1URnnhqYAYcrqrcwql10ft\\\",\\\"id\\\":\\\"1URnnhqYAYcrqrcwql10ft\\\",\\\"name\\\":\\\"21 Savage\\\",\\\"type\\\":\\\"artist\\\",\\\"uri\\\":\\\"spotify:artist:1URnnhqYAYcrqrcwql10ft\\\"}],\\\"available_markets\\\":[\\\"CA\\\",\\\"MX\\\",\\\"US\\\"],\\\"disc_number\\\":1,\\\"duration_ms\\\":251333,\\\"explicit\\\":true,\\\"external_ids\\\":{\\\"isrc\\\":\\\"USCM51600337\\\"},\\\"external_urls\\\":{\\\"spotify\\\":\\\"https://open.spotify.com/track/4ckuS4Nj4FZ7i3Def3Br8W\\\"},\\\"href\\\":\\\"https://api.spotify.com/v1/tracks/4ckuS4Nj4FZ7i3Def3Br8W\\\",\\\"id\\\":\\\"4ckuS4Nj4FZ7i3Def3Br8W\\\",\\\"name\\\":\\\"Sneakin’\\\",\\\"popularity\\\":82,\\\"preview_url\\\":\\\"https://p.scdn.co/mp3-preview/4fa89ace286252c33a1ca0d36e7555d6a451a2db?cid=null\\\",\\\"track_number\\\":1,\\\"type\\\":\\\"track\\\",\\\"uri\\\":\\\"spotify:track:4ckuS4Nj4FZ7i3Def3Br8W\\\"},{\\\"album\\\":{\\\"album_type\\\":\\\"album\\\",\\\"artists\\\":[{\\\"external_urls\\\":{\\\"spotify\\\":\\\"https://open.spotify.com/artist/3TVXtAsR1Inumwj472S9r4\\\"},\\\"href\\\":\\\"https://api.spotify.com/v1/artists/3TVXtAsR1Inumwj472S9r4\\\",\\\"id\\\":\\\"3TVXtAsR1Inumwj472S9r4\\\",\\\"name\\\":\\\"Drake\\\",\\\"type\\\":\\\"artist\\\",\\\"uri\\\":\\\"spotify:artist:3TVXtAsR1Inumwj472S9r4\\\"}],\\\"available_markets\\\":[\\\"CA\\\",\\\"MX\\\",\\\"US\\\"],\\\"external_urls\\\":{\\\"spotify\\\":\\\"https://open.spotify.com/album/0G1ffjfFuTUTVjDrVdLimH\\\"},\\\"href\\\":\\\"https://api.spotify.com/v1/albums/0G1ffjfFuTUTVjDrVdLimH\\\",\\\"id\\\":\\\"0G1ffjfFuTUTVjDrVdLimH\\\",\\\"images\\\":[{\\\"height\\\":640,\\\"url\\\":\\\"https://i.scdn.co/image/e73c706e842eb5233eab7afd3404218a2696d568\\\",\\\"width\\\":640},{\\\"height\\\":300,\\\"url\\\":\\\"https://i.scdn.co/image/90f080afbec29a0c58509875a6dd59b3c380e353\\\",\\\"width\\\":300},{\\\"height\\\":64,\\\"url\\\":\\\"https://i.scdn.co/image/260c2e74e67a15cf61ac72f8264cc6caec5f7a66\\\",\\\"width\\\":64}],\\\"name\\\":\\\"Views\\\",\\\"type\\\":\\\"album\\\",\\\"uri\\\":\\\"spotify:album:0G1ffjfFuTUTVjDrVdLimH\\\"},\\\"artists\\\":[{\\\"external_urls\\\":{\\\"spotify\\\":\\\"https://open.spotify.com/artist/3TVXtAsR1Inumwj472S9r4\\\"},\\\"href\\\":\\\"https://api.spotify.com/v1/artists/3TVXtAsR1Inumwj472S9r4\\\",\\\"id\\\":\\\"3TVXtAsR1Inumwj472S9r4\\\",\\\"name\\\":\\\"Drake\\\",\\\"type\\\":\\\"artist\\\",\\\"uri\\\":\\\"spotify:artist:3TVXtAsR1Inumwj472S9r4\\\"},{\\\"external_urls\\\":{\\\"spotify\\\":\\\"https://open.spotify.com/artist/5pKCCKE2ajJHZ9KAiaK11H\\\"},\\\"href\\\":\\\"https://api.spotify.com/v1/artists/5pKCCKE2ajJHZ9KAiaK11H\\\",\\\"id\\\":\\\"5pKCCKE2ajJHZ9KAiaK11H\\\",\\\"name\\\":\\\"Rihanna\\\",\\\"type\\\":\\\"artist\\\",\\\"uri\\\":\\\"spotify:artist:5pKCCKE2ajJHZ9KAiaK11H\\\"}],\\\"available_markets\\\":[\\\"CA\\\",\\\"MX\\\",\\\"US\\\"],\\\"disc_number\\\":1,\\\"duration_ms\\\":263373,\\\"explicit\\\":true,\\\"external_ids\\\":{\\\"isrc\\\":\\\"USCM51600088\\\"},\\\"external_urls\\\":{\\\"spotify\\\":\\\"https://open.spotify.com/track/7fJtPlEZKxu6gvkfBFc5tW\\\"},\\\"href\\\":\\\"https://api.spotify.com/v1/tracks/7fJtPlEZKxu6gvkfBFc5tW\\\",\\\"id\\\":\\\"7fJtPlEZKxu6gvkfBFc5tW\\\",\\\"name\\\":\\\"Too Good\\\",\\\"popularity\\\":79,\\\"preview_url\\\":\\\"https://p.scdn.co/mp3-preview/e702c76de627c3fb04da1bcbf6a8b53c3326a0cc?cid=null\\\",\\\"track_number\\\":16,\\\"type\\\":\\\"track\\\",\\\"uri\\\":\\\"spotify:track:7fJtPlEZKxu6gvkfBFc5tW\\\"},{\\\"album\\\":{\\\"album_type\\\":\\\"album\\\",\\\"artists\\\":[{\\\"external_urls\\\":{\\\"spotify\\\":\\\"https://open.spotify.com/artist/3TVXtAsR1Inumwj472S9r4\\\"},\\\"href\\\":\\\"https://api.spotify.com/v1/artists/3TVXtAsR1Inumwj472S9r4\\\",\\\"id\\\":\\\"3TVXtAsR1Inumwj472S9r4\\\",\\\"name\\\":\\\"Drake\\\",\\\"type\\\":\\\"artist\\\",\\\"uri\\\":\\\"spotify:artist:3TVXtAsR1Inumwj472S9r4\\\"}],\\\"available_markets\\\":[\\\"CA\\\",\\\"MX\\\",\\\"US\\\"],\\\"external_urls\\\":{\\\"spotify\\\":\\\"https://open.spotify.com/album/0G1ffjfFuTUTVjDrVdLimH\\\"},\\\"href\\\":\\\"https://api.spotify.com/v1/albums/0G1ffjfFuTUTVjDrVdLimH\\\",\\\"id\\\":\\\"0G1ffjfFuTUTVjDrVdLimH\\\",\\\"images\\\":[{\\\"height\\\":640,\\\"url\\\":\\\"https://i.scdn.co/image/e73c706e842eb5233eab7afd3404218a2696d568\\\",\\\"width\\\":640},{\\\"height\\\":300,\\\"url\\\":\\\"https://i.scdn.co/image/90f080afbec29a0c58509875a6dd59b3c380e353\\\",\\\"width\\\":300},{\\\"height\\\":64,\\\"url\\\":\\\"https://i.scdn.co/image/260c2e74e67a15cf61ac72f8264cc6caec5f7a66\\\",\\\"width\\\":64}],\\\"name\\\":\\\"Views\\\",\\\"type\\\":\\\"album\\\",\\\"uri\\\":\\\"spotify:album:0G1ffjfFuTUTVjDrVdLimH\\\"},\\\"artists\\\":[{\\\"external_urls\\\":{\\\"spotify\\\":\\\"https://open.spotify.com/artist/3TVXtAsR1Inumwj472S9r4\\\"},\\\"href\\\":\\\"https://api.spotify.com/v1/artists/3TVXtAsR1Inumwj472S9r4\\\",\\\"id\\\":\\\"3TVXtAsR1Inumwj472S9r4\\\",\\\"name\\\":\\\"Drake\\\",\\\"type\\\":\\\"artist\\\",\\\"uri\\\":\\\"spotify:artist:3TVXtAsR1Inumwj472S9r4\\\"}],\\\"available_markets\\\":[\\\"CA\\\",\\\"MX\\\",\\\"US\\\"],\\\"disc_number\\\":1,\\\"duration_ms\\\":245226,\\\"explicit\\\":true,\\\"external_ids\\\":{\\\"isrc\\\":\\\"USCM51600080\\\"},\\\"external_urls\\\":{\\\"spotify\\\":\\\"https://open.spotify.com/track/4CpKEkdGbOJV51cSvx7SoG\\\"},\\\"href\\\":\\\"https://api.spotify.com/v1/tracks/4CpKEkdGbOJV51cSvx7SoG\\\",\\\"id\\\":\\\"4CpKEkdGbOJV51cSvx7SoG\\\",\\\"name\\\":\\\"Controlla\\\",\\\"popularity\\\":79,\\\"preview_url\\\":\\\"https://p.scdn.co/mp3-preview/c5b5845dc83410f5731e395c5a725d6b6e94ff69?cid=null\\\",\\\"track_number\\\":11,\\\"type\\\":\\\"track\\\",\\\"uri\\\":\\\"spotify:track:4CpKEkdGbOJV51cSvx7SoG\\\"},{\\\"album\\\":{\\\"album_type\\\":\\\"album\\\",\\\"artists\\\":[{\\\"external_urls\\\":{\\\"spotify\\\":\\\"https://open.spotify.com/artist/3TVXtAsR1Inumwj472S9r4\\\"},\\\"href\\\":\\\"https://api.spotify.com/v1/artists/3TVXtAsR1Inumwj472S9r4\\\",\\\"id\\\":\\\"3TVXtAsR1Inumwj472S9r4\\\",\\\"name\\\":\\\"Drake\\\",\\\"type\\\":\\\"artist\\\",\\\"uri\\\":\\\"spotify:artist:3TVXtAsR1Inumwj472S9r4\\\"},{\\\"external_urls\\\":{\\\"spotify\\\":\\\"https://open.spotify.com/artist/3ubFn9991d8ygM3MSi7NDi\\\"},\\\"href\\\":\\\"https://api.spotify.com/v1/artists/3ubFn9991d8ygM3MSi7NDi\\\",\\\"id\\\":\\\"3ubFn9991d8ygM3MSi7NDi\\\",\\\"name\\\":\\\"Future\\\",\\\"type\\\":\\\"artist\\\",\\\"uri\\\":\\\"spotify:artist:3ubFn9991d8ygM3MSi7NDi\\\"}],\\\"available_markets\\\":[\\\"CA\\\",\\\"MX\\\",\\\"US\\\"],\\\"external_urls\\\":{\\\"spotify\\\":\\\"https://open.spotify.com/album/1ozpmkWcCHwsQ4QTnxOOdT\\\"},\\\"href\\\":\\\"https://api.spotify.com/v1/albums/1ozpmkWcCHwsQ4QTnxOOdT\\\",\\\"id\\\":\\\"1ozpmkWcCHwsQ4QTnxOOdT\\\",\\\"images\\\":[{\\\"height\\\":640,\\\"url\\\":\\\"https://i.scdn.co/image/77b0c91524867cc72d1974f66ad8cd21d063a20e\\\",\\\"width\\\":640},{\\\"height\\\":300,\\\"url\\\":\\\"https://i.scdn.co/image/f2405b82d0578dd815a3082ca0f7ec4e18e937a1\\\",\\\"width\\\":300},{\\\"height\\\":64,\\\"url\\\":\\\"https://i.scdn.co/image/a5435bb3ab4fabe43bc7f7ce46a6c23aa30d8eae\\\",\\\"width\\\":64}],\\\"name\\\":\\\"What A Time To Be Alive\\\",\\\"type\\\":\\\"album\\\",\\\"uri\\\":\\\"spotify:album:1ozpmkWcCHwsQ4QTnxOOdT\\\"},\\\"artists\\\":[{\\\"external_urls\\\":{\\\"spotify\\\":\\\"https://open.spotify.com/artist/3TVXtAsR1Inumwj472S9r4\\\"},\\\"href\\\":\\\"https://api.spotify.com/v1/artists/3TVXtAsR1Inumwj472S9r4\\\",\\\"id\\\":\\\"3TVXtAsR1Inumwj472S9r4\\\",\\\"name\\\":\\\"Drake\\\",\\\"type\\\":\\\"artist\\\",\\\"uri\\\":\\\"spotify:artist:3TVXtAsR1Inumwj472S9r4\\\"},{\\\"external_urls\\\":{\\\"spotify\\\":\\\"https://open.spotify.com/artist/3ubFn9991d8ygM3MSi7NDi\\\"},\\\"href\\\":\\\"https://api.spotify.com/v1/artists/3ubFn9991d8ygM3MSi7NDi\\\",\\\"id\\\":\\\"3ubFn9991d8ygM3MSi7NDi\\\",\\\"name\\\":\\\"Future\\\",\\\"type\\\":\\\"artist\\\",\\\"uri\\\":\\\"spotify:artist:3ubFn9991d8ygM3MSi7NDi\\\"}],\\\"available_markets\\\":[\\\"CA\\\",\\\"MX\\\",\\\"US\\\"],\\\"disc_number\\\":1,\\\"duration_ms\\\":205879,\\\"explicit\\\":true,\\\"external_ids\\\":{\\\"isrc\\\":\\\"USCM51500300\\\"},\\\"external_urls\\\":{\\\"spotify\\\":\\\"https://open.spotify.com/track/27GmP9AWRs744SzKcpJsTZ\\\"},\\\"href\\\":\\\"https://api.spotify.com/v1/tracks/27GmP9AWRs744SzKcpJsTZ\\\",\\\"id\\\":\\\"27GmP9AWRs744SzKcpJsTZ\\\",\\\"name\\\":\\\"Jumpman\\\",\\\"popularity\\\":77,\\\"preview_url\\\":\\\"https://p.scdn.co/mp3-preview/4f3e954bb232a96c196389017d961016c8cbd7fc?cid=null\\\",\\\"track_number\\\":9,\\\"type\\\":\\\"track\\\",\\\"uri\\\":\\\"spotify:track:27GmP9AWRs744SzKcpJsTZ\\\"},{\\\"album\\\":{\\\"album_type\\\":\\\"album\\\",\\\"artists\\\":[{\\\"external_urls\\\":{\\\"spotify\\\":\\\"https://open.spotify.com/artist/3TVXtAsR1Inumwj472S9r4\\\"},\\\"href\\\":\\\"https://api.spotify.com/v1/artists/3TVXtAsR1Inumwj472S9r4\\\",\\\"id\\\":\\\"3TVXtAsR1Inumwj472S9r4\\\",\\\"name\\\":\\\"Drake\\\",\\\"type\\\":\\\"artist\\\",\\\"uri\\\":\\\"spotify:artist:3TVXtAsR1Inumwj472S9r4\\\"}],\\\"available_markets\\\":[\\\"CA\\\",\\\"MX\\\",\\\"US\\\"],\\\"external_urls\\\":{\\\"spotify\\\":\\\"https://open.spotify.com/album/0G1ffjfFuTUTVjDrVdLimH\\\"},\\\"href\\\":\\\"https://api.spotify.com/v1/albums/0G1ffjfFuTUTVjDrVdLimH\\\",\\\"id\\\":\\\"0G1ffjfFuTUTVjDrVdLimH\\\",\\\"images\\\":[{\\\"height\\\":640,\\\"url\\\":\\\"https://i.scdn.co/image/e73c706e842eb5233eab7afd3404218a2696d568\\\",\\\"width\\\":640},{\\\"height\\\":300,\\\"url\\\":\\\"https://i.scdn.co/image/90f080afbec29a0c58509875a6dd59b3c380e353\\\",\\\"width\\\":300},{\\\"height\\\":64,\\\"url\\\":\\\"https://i.scdn.co/image/260c2e74e67a15cf61ac72f8264cc6caec5f7a66\\\",\\\"width\\\":64}],\\\"name\\\":\\\"Views\\\",\\\"type\\\":\\\"album\\\",\\\"uri\\\":\\\"spotify:album:0G1ffjfFuTUTVjDrVdLimH\\\"},\\\"artists\\\":[{\\\"external_urls\\\":{\\\"spotify\\\":\\\"https://open.spotify.com/artist/3TVXtAsR1Inumwj472S9r4\\\"},\\\"href\\\":\\\"https://api.spotify.com/v1/artists/3TVXtAsR1Inumwj472S9r4\\\",\\\"id\\\":\\\"3TVXtAsR1Inumwj472S9r4\\\",\\\"name\\\":\\\"Drake\\\",\\\"type\\\":\\\"artist\\\",\\\"uri\\\":\\\"spotify:artist:3TVXtAsR1Inumwj472S9r4\\\"}],\\\"available_markets\\\":[\\\"CA\\\",\\\"MX\\\",\\\"US\\\"],\\\"disc_number\\\":1,\\\"duration_ms\\\":267066,\\\"explicit\\\":false,\\\"external_ids\\\":{\\\"isrc\\\":\\\"USCM51500238\\\"},\\\"external_urls\\\":{\\\"spotify\\\":\\\"https://open.spotify.com/track/1OAYKfE0YdrN7C1yLWaLJo\\\"},\\\"href\\\":\\\"https://api.spotify.com/v1/tracks/1OAYKfE0YdrN7C1yLWaLJo\\\",\\\"id\\\":\\\"1OAYKfE0YdrN7C1yLWaLJo\\\",\\\"name\\\":\\\"Hotline Bling\\\",\\\"popularity\\\":75,\\\"preview_url\\\":\\\"https://p.scdn.co/mp3-preview/53a8f039eb0b567e47868f5a53de4683ba5d5f0c?cid=null\\\",\\\"track_number\\\":20,\\\"type\\\":\\\"track\\\",\\\"uri\\\":\\\"spotify:track:1OAYKfE0YdrN7C1yLWaLJo\\\"},{\\\"album\\\":{\\\"album_type\\\":\\\"album\\\",\\\"artists\\\":[{\\\"external_urls\\\":{\\\"spotify\\\":\\\"https://open.spotify.com/artist/3TVXtAsR1Inumwj472S9r4\\\"},\\\"href\\\":\\\"https://api.spotify.com/v1/artists/3TVXtAsR1Inumwj472S9r4\\\",\\\"id\\\":\\\"3TVXtAsR1Inumwj472S9r4\\\",\\\"name\\\":\\\"Drake\\\",\\\"type\\\":\\\"artist\\\",\\\"uri\\\":\\\"spotify:artist:3TVXtAsR1Inumwj472S9r4\\\"}],\\\"available_markets\\\":[\\\"CA\\\",\\\"MX\\\",\\\"US\\\"],\\\"external_urls\\\":{\\\"spotify\\\":\\\"https://open.spotify.com/album/0G1ffjfFuTUTVjDrVdLimH\\\"},\\\"href\\\":\\\"https://api.spotify.com/v1/albums/0G1ffjfFuTUTVjDrVdLimH\\\",\\\"id\\\":\\\"0G1ffjfFuTUTVjDrVdLimH\\\",\\\"images\\\":[{\\\"height\\\":640,\\\"url\\\":\\\"https://i.scdn.co/image/e73c706e842eb5233eab7afd3404218a2696d568\\\",\\\"width\\\":640},{\\\"height\\\":300,\\\"url\\\":\\\"https://i.scdn.co/image/90f080afbec29a0c58509875a6dd59b3c380e353\\\",\\\"width\\\":300},{\\\"height\\\":64,\\\"url\\\":\\\"https://i.scdn.co/image/260c2e74e67a15cf61ac72f8264cc6caec5f7a66\\\",\\\"width\\\":64}],\\\"name\\\":\\\"Views\\\",\\\"type\\\":\\\"album\\\",\\\"uri\\\":\\\"spotify:album:0G1ffjfFuTUTVjDrVdLimH\\\"},\\\"artists\\\":[{\\\"external_urls\\\":{\\\"spotify\\\":\\\"https://open.spotify.com/artist/3TVXtAsR1Inumwj472S9r4\\\"},\\\"href\\\":\\\"https://api.spotify.com/v1/artists/3TVXtAsR1Inumwj472S9r4\\\",\\\"id\\\":\\\"3TVXtAsR1Inumwj472S9r4\\\",\\\"name\\\":\\\"Drake\\\",\\\"type\\\":\\\"artist\\\",\\\"uri\\\":\\\"spotify:artist:3TVXtAsR1Inumwj472S9r4\\\"}],\\\"available_markets\\\":[\\\"CA\\\",\\\"MX\\\",\\\"US\\\"],\\\"disc_number\\\":1,\\\"duration_ms\\\":189853,\\\"explicit\\\":true,\\\"external_ids\\\":{\\\"isrc\\\":\\\"USCM51600078\\\"},\\\"external_urls\\\":{\\\"spotify\\\":\\\"https://open.spotify.com/track/4YJmZfvlheSziXem8HBWrj\\\"},\\\"href\\\":\\\"https://api.spotify.com/v1/tracks/4YJmZfvlheSziXem8HBWrj\\\",\\\"id\\\":\\\"4YJmZfvlheSziXem8HBWrj\\\",\\\"name\\\":\\\"Still Here\\\",\\\"popularity\\\":73,\\\"preview_url\\\":\\\"https://p.scdn.co/mp3-preview/39384d3485d21184dd3719cfd8d644182b0b1d8b?cid=null\\\",\\\"track_number\\\":10,\\\"type\\\":\\\"track\\\",\\\"uri\\\":\\\"spotify:track:4YJmZfvlheSziXem8HBWrj\\\"},{\\\"album\\\":{\\\"album_type\\\":\\\"single\\\",\\\"artists\\\":[{\\\"external_urls\\\":{\\\"spotify\\\":\\\"https://open.spotify.com/artist/3TVXtAsR1Inumwj472S9r4\\\"},\\\"href\\\":\\\"https://api.spotify.com/v1/artists/3TVXtAsR1Inumwj472S9r4\\\",\\\"id\\\":\\\"3TVXtAsR1Inumwj472S9r4\\\",\\\"name\\\":\\\"Drake\\\",\\\"type\\\":\\\"artist\\\",\\\"uri\\\":\\\"spotify:artist:3TVXtAsR1Inumwj472S9r4\\\"}],\\\"available_markets\\\":[\\\"CA\\\",\\\"MX\\\",\\\"US\\\"],\\\"external_urls\\\":{\\\"spotify\\\":\\\"https://open.spotify.com/album/79qV4McLzhs8U3FyRKnocz\\\"},\\\"href\\\":\\\"https://api.spotify.com/v1/albums/79qV4McLzhs8U3FyRKnocz\\\",\\\"id\\\":\\\"79qV4McLzhs8U3FyRKnocz\\\",\\\"images\\\":[{\\\"height\\\":640,\\\"url\\\":\\\"https://i.scdn.co/image/2151a609fd5a5ec69586920a85bf308cdf56f3a1\\\",\\\"width\\\":640},{\\\"height\\\":300,\\\"url\\\":\\\"https://i.scdn.co/image/9c6eb30ff5270c115b1ecd2b74430e505c281f25\\\",\\\"width\\\":300},{\\\"height\\\":64,\\\"url\\\":\\\"https://i.scdn.co/image/ef4e90b4dde72134365a732659dccf9e1bd7b519\\\",\\\"width\\\":64}],\\\"name\\\":\\\"Back To Back\\\",\\\"type\\\":\\\"album\\\",\\\"uri\\\":\\\"spotify:album:79qV4McLzhs8U3FyRKnocz\\\"},\\\"artists\\\":[{\\\"external_urls\\\":{\\\"spotify\\\":\\\"https://open.spotify.com/artist/3TVXtAsR1Inumwj472S9r4\\\"},\\\"href\\\":\\\"https://api.spotify.com/v1/artists/3TVXtAsR1Inumwj472S9r4\\\",\\\"id\\\":\\\"3TVXtAsR1Inumwj472S9r4\\\",\\\"name\\\":\\\"Drake\\\",\\\"type\\\":\\\"artist\\\",\\\"uri\\\":\\\"spotify:artist:3TVXtAsR1Inumwj472S9r4\\\"}],\\\"available_markets\\\":[\\\"CA\\\",\\\"MX\\\",\\\"US\\\"],\\\"disc_number\\\":1,\\\"duration_ms\\\":170637,\\\"explicit\\\":true,\\\"external_ids\\\":{\\\"isrc\\\":\\\"USCM51500241\\\"},\\\"external_urls\\\":{\\\"spotify\\\":\\\"https://open.spotify.com/track/5lFDtgWsjRJu8fPOAyJIAK\\\"},\\\"href\\\":\\\"https://api.spotify.com/v1/tracks/5lFDtgWsjRJu8fPOAyJIAK\\\",\\\"id\\\":\\\"5lFDtgWsjRJu8fPOAyJIAK\\\",\\\"name\\\":\\\"Back To Back\\\",\\\"popularity\\\":73,\\\"preview_url\\\":\\\"https://p.scdn.co/mp3-preview/b5bb11586af5cfde7c0eaef26300b2f6f62d2ac4?cid=null\\\",\\\"track_number\\\":1,\\\"type\\\":\\\"track\\\",\\\"uri\\\":\\\"spotify:track:5lFDtgWsjRJu8fPOAyJIAK\\\"},{\\\"album\\\":{\\\"album_type\\\":\\\"album\\\",\\\"artists\\\":[{\\\"external_urls\\\":{\\\"spotify\\\":\\\"https://open.spotify.com/artist/3TVXtAsR1Inumwj472S9r4\\\"},\\\"href\\\":\\\"https://api.spotify.com/v1/artists/3TVXtAsR1Inumwj472S9r4\\\",\\\"id\\\":\\\"3TVXtAsR1Inumwj472S9r4\\\",\\\"name\\\":\\\"Drake\\\",\\\"type\\\":\\\"artist\\\",\\\"uri\\\":\\\"spotify:artist:3TVXtAsR1Inumwj472S9r4\\\"}],\\\"available_markets\\\":[\\\"CA\\\",\\\"MX\\\",\\\"US\\\"],\\\"external_urls\\\":{\\\"spotify\\\":\\\"https://open.spotify.com/album/0ptlfJfwGTy0Yvrk14JK1I\\\"},\\\"href\\\":\\\"https://api.spotify.com/v1/albums/0ptlfJfwGTy0Yvrk14JK1I\\\",\\\"id\\\":\\\"0ptlfJfwGTy0Yvrk14JK1I\\\",\\\"images\\\":[{\\\"height\\\":640,\\\"url\\\":\\\"https://i.scdn.co/image/d329671363eb7826b5871eef978841c7db97c757\\\",\\\"width\\\":640},{\\\"height\\\":300,\\\"url\\\":\\\"https://i.scdn.co/image/bcd6801c26cb293a45df9b092227395c5b403b4c\\\",\\\"width\\\":300},{\\\"height\\\":64,\\\"url\\\":\\\"https://i.scdn.co/image/14d65d4565838431345e35575b8b74d95134990a\\\",\\\"width\\\":64}],\\\"name\\\":\\\"If You're Reading This It's Too Late\\\",\\\"type\\\":\\\"album\\\",\\\"uri\\\":\\\"spotify:album:0ptlfJfwGTy0Yvrk14JK1I\\\"},\\\"artists\\\":[{\\\"external_urls\\\":{\\\"spotify\\\":\\\"https://open.spotify.com/artist/3TVXtAsR1Inumwj472S9r4\\\"},\\\"href\\\":\\\"https://api.spotify.com/v1/artists/3TVXtAsR1Inumwj472S9r4\\\",\\\"id\\\":\\\"3TVXtAsR1Inumwj472S9r4\\\",\\\"name\\\":\\\"Drake\\\",\\\"type\\\":\\\"artist\\\",\\\"uri\\\":\\\"spotify:artist:3TVXtAsR1Inumwj472S9r4\\\"}],\\\"available_markets\\\":[\\\"CA\\\",\\\"MX\\\",\\\"US\\\"],\\\"disc_number\\\":1,\\\"duration_ms\\\":241853,\\\"explicit\\\":true,\\\"external_ids\\\":{\\\"isrc\\\":\\\"USCM51500010\\\"},\\\"external_urls\\\":{\\\"spotify\\\":\\\"https://open.spotify.com/track/1ID1QFSNNxi0hiZCNcwjUC\\\"},\\\"href\\\":\\\"https://api.spotify.com/v1/tracks/1ID1QFSNNxi0hiZCNcwjUC\\\",\\\"id\\\":\\\"1ID1QFSNNxi0hiZCNcwjUC\\\",\\\"name\\\":\\\"Legend\\\",\\\"popularity\\\":72,\\\"preview_url\\\":\\\"https://p.scdn.co/mp3-preview/34fe00d7d951e42017bbbd8a424244c3cf1006e1?cid=null\\\",\\\"track_number\\\":1,\\\"type\\\":\\\"track\\\",\\\"uri\\\":\\\"spotify:track:1ID1QFSNNxi0hiZCNcwjUC\\\"}]}\")"
   ]
  },
  {
   "cell_type": "code",
   "execution_count": 24,
   "metadata": {},
   "outputs": [
    {
     "name": "stdout",
     "output_type": "stream",
     "text": [
      "dict_keys(['album', 'artists', 'available_markets', 'disc_number', 'duration_ms', 'explicit', 'external_ids', 'external_urls', 'href', 'id', 'name', 'popularity', 'preview_url', 'track_number', 'type', 'uri'])\n"
     ]
    }
   ],
   "source": [
    "print(data['tracks'][0].keys())"
   ]
  },
  {
   "cell_type": "code",
   "execution_count": 35,
   "metadata": {},
   "outputs": [
    {
     "name": "stdout",
     "output_type": "stream",
     "text": [
      "There are 10 songs in the list\n"
     ]
    }
   ],
   "source": [
    "tracks = data['tracks']\n",
    "print(f\"There are {len(tracks)} songs in the list\")\n",
    "# tracks is a LIST"
   ]
  },
  {
   "cell_type": "code",
   "execution_count": 37,
   "metadata": {},
   "outputs": [
    {
     "name": "stdout",
     "output_type": "stream",
     "text": [
      "Here are the songs in the database along with popularity:\n",
      "-------------------------------------\n",
      "Fake Love 90\n",
      "One Dance 84\n",
      "Sneakin’ 82\n",
      "Too Good 79\n",
      "Controlla 79\n",
      "Jumpman 77\n",
      "Hotline Bling 75\n",
      "Still Here 73\n",
      "Back To Back 73\n",
      "Legend 72\n"
     ]
    }
   ],
   "source": [
    "print(\"Here are the songs in the database along with popularity:\")\n",
    "print(\"-------------------------------------\")\n",
    "for i in tracks:\n",
    "    print(i['name'], i['popularity'])"
   ]
  },
  {
   "cell_type": "code",
   "execution_count": 31,
   "metadata": {},
   "outputs": [
    {
     "name": "stdout",
     "output_type": "stream",
     "text": [
      "Duration of all the dongs in the dataset is 36.95 minutes\n"
     ]
    }
   ],
   "source": [
    "duration_count =0\n",
    "for i in tracks:\n",
    "    duration_count = duration_count + i['duration_ms']\n",
    "    \n",
    "print(f\"Duration of all the dongs in the dataset is {round((duration_count/1000)/ 60, 2)} minutes\")"
   ]
  },
  {
   "cell_type": "code",
   "execution_count": 49,
   "metadata": {},
   "outputs": [
    {
     "name": "stdout",
     "output_type": "stream",
     "text": [
      "dict_keys(['album', 'artists', 'available_markets', 'disc_number', 'duration_ms', 'explicit', 'external_ids', 'external_urls', 'href', 'id', 'name', 'popularity', 'preview_url', 'track_number', 'type', 'uri'])\n"
     ]
    }
   ],
   "source": [
    "print(data['tracks'][0].keys())"
   ]
  },
  {
   "cell_type": "code",
   "execution_count": 56,
   "metadata": {},
   "outputs": [
    {
     "name": "stdout",
     "output_type": "stream",
     "text": [
      "WizKid\n",
      "Kyla\n",
      "21 Savage\n",
      "Rihanna\n",
      "Future\n"
     ]
    }
   ],
   "source": [
    "# Finding artists except Drake\n",
    "for i in tracks:\n",
    "    artists = i['artists']\n",
    "    for art in artists:\n",
    "        if(art['name']!= 'Drake'):\n",
    "            print(art['name'])"
   ]
  },
  {
   "cell_type": "code",
   "execution_count": 68,
   "metadata": {},
   "outputs": [
    {
     "name": "stdout",
     "output_type": "stream",
     "text": [
      "The data set has 3 singles and 7 albums\n"
     ]
    }
   ],
   "source": [
    "singles = 0\n",
    "albums = 0\n",
    "\n",
    "# print(tracks[0]['album'])\n",
    "\n",
    "for i in tracks:\n",
    "    album_type = i['album']\n",
    "    #print(album_type['album_type'])\n",
    "    if (album_type['album_type'] == 'single'):\n",
    "        singles = singles + 1\n",
    "    elif (album_type['album_type'] == 'album'):\n",
    "        albums = albums +1\n",
    "        \n",
    "print(f\"The data set has {singles} singles and {albums} albums\")"
   ]
  },
  {
   "cell_type": "code",
   "execution_count": 71,
   "metadata": {},
   "outputs": [
    {
     "name": "stdout",
     "output_type": "stream",
     "text": [
      "80.0 % of the tracks are explicit\n"
     ]
    }
   ],
   "source": [
    "explicit = 0\n",
    "for a in tracks:\n",
    "    if (a['explicit']):\n",
    "        explicit = explicit + 1\n",
    "        \n",
    "print(f\"{explicit/(len(tracks))*100} % of the tracks are explicit\")"
   ]
  },
  {
   "cell_type": "code",
   "execution_count": null,
   "metadata": {},
   "outputs": [],
   "source": []
  }
 ],
 "metadata": {
  "kernelspec": {
   "display_name": "Python 3",
   "language": "python",
   "name": "python3"
  },
  "language_info": {
   "codemirror_mode": {
    "name": "ipython",
    "version": 3
   },
   "file_extension": ".py",
   "mimetype": "text/x-python",
   "name": "python",
   "nbconvert_exporter": "python",
   "pygments_lexer": "ipython3",
   "version": "3.8.6"
  }
 },
 "nbformat": 4,
 "nbformat_minor": 4
}
