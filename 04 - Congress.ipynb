{
 "cells": [
  {
   "cell_type": "markdown",
   "metadata": {},
   "source": [
    "# Scraping one page per row\n",
    "\n",
    "Let's say we're interested in our members of Congress, because who isn't? Read in `congress.csv`."
   ]
  },
  {
   "cell_type": "code",
   "execution_count": 14,
   "metadata": {},
   "outputs": [],
   "source": [
    "import pandas as pd\n",
    "import re\n",
    "import requests\n",
    "from bs4 import BeautifulSoup\n",
    "from selenium import webdriver"
   ]
  },
  {
   "cell_type": "code",
   "execution_count": 190,
   "metadata": {},
   "outputs": [
    {
     "data": {
      "text/html": [
       "<div>\n",
       "<style scoped>\n",
       "    .dataframe tbody tr th:only-of-type {\n",
       "        vertical-align: middle;\n",
       "    }\n",
       "\n",
       "    .dataframe tbody tr th {\n",
       "        vertical-align: top;\n",
       "    }\n",
       "\n",
       "    .dataframe thead th {\n",
       "        text-align: right;\n",
       "    }\n",
       "</style>\n",
       "<table border=\"1\" class=\"dataframe\">\n",
       "  <thead>\n",
       "    <tr style=\"text-align: right;\">\n",
       "      <th></th>\n",
       "      <th>name</th>\n",
       "      <th>slug</th>\n",
       "    </tr>\n",
       "  </thead>\n",
       "  <tbody>\n",
       "    <tr>\n",
       "      <th>0</th>\n",
       "      <td>Senator Abdnor, James</td>\n",
       "      <td>james-abdnor/A000009</td>\n",
       "    </tr>\n",
       "    <tr>\n",
       "      <th>1</th>\n",
       "      <td>Representative Abercrombie, Neil</td>\n",
       "      <td>neil-abercrombie/A000014</td>\n",
       "    </tr>\n",
       "    <tr>\n",
       "      <th>2</th>\n",
       "      <td>Senator Abourezk, James</td>\n",
       "      <td>james-abourezk/A000017</td>\n",
       "    </tr>\n",
       "    <tr>\n",
       "      <th>3</th>\n",
       "      <td>Representative Abraham, Ralph Lee</td>\n",
       "      <td>ralph-abraham/A000374</td>\n",
       "    </tr>\n",
       "    <tr>\n",
       "      <th>4</th>\n",
       "      <td>Senator Abraham, Spencer</td>\n",
       "      <td>spencer-abraham/A000355</td>\n",
       "    </tr>\n",
       "  </tbody>\n",
       "</table>\n",
       "</div>"
      ],
      "text/plain": [
       "                                name                      slug\n",
       "0              Senator Abdnor, James      james-abdnor/A000009\n",
       "1   Representative Abercrombie, Neil  neil-abercrombie/A000014\n",
       "2            Senator Abourezk, James    james-abourezk/A000017\n",
       "3  Representative Abraham, Ralph Lee     ralph-abraham/A000374\n",
       "4           Senator Abraham, Spencer   spencer-abraham/A000355"
      ]
     },
     "execution_count": 190,
     "metadata": {},
     "output_type": "execute_result"
    }
   ],
   "source": [
    "congress_df = pd.read_csv('congress.csv')\n",
    "congress_df.head()"
   ]
  },
  {
   "cell_type": "markdown",
   "metadata": {},
   "source": [
    "# Let's scrape one\n",
    "\n",
    "The `slug` is the part of the URL that's particular to that member of Congress. So `/james-abdnor/A000009` really means `https://www.congress.gov/member/james-abdnor/A000009`.\n",
    "\n",
    "Scrape his name, birthdaye, party, whether he's currently in congress, and his bill count (don't worry if the bill count is dirty, you can clean it up later)."
   ]
  },
  {
   "cell_type": "code",
   "execution_count": 8,
   "metadata": {},
   "outputs": [],
   "source": []
  },
  {
   "cell_type": "code",
   "execution_count": 172,
   "metadata": {},
   "outputs": [],
   "source": [
    "driver = webdriver.Chrome()"
   ]
  },
  {
   "cell_type": "code",
   "execution_count": 16,
   "metadata": {},
   "outputs": [],
   "source": [
    "driver.get(url)"
   ]
  },
  {
   "cell_type": "code",
   "execution_count": 68,
   "metadata": {},
   "outputs": [
    {
     "name": "stdout",
     "output_type": "stream",
     "text": [
      "Subscribe Share/Save Site Feedback\n",
      "Senator James Abdnor (1923 - 2012)\n",
      "In Congress 1973 - 1987\n",
      "MEMBERHide Overview\n",
      "Courtesy U.S. Senate Historical Office\n",
      "Read biography\n",
      "Party Republican\n",
      "Senate South Dakota 97th-99th (1981-1987)\n",
      "House South Dakota, District 2 93rd-96th (1973-1981)\n",
      "___________________\n",
      "1-100 of 1,949\n"
     ]
    }
   ],
   "source": [
    "congressman = driver.find_elements_by_class_name(\"featured\")\n",
    "bill_id = driver.find_element_by_class_name(\"results-number\").text\n",
    "for congress in congressman:\n",
    "    print(congress.text.strip())\n",
    "    print(\"___________________\")\n",
    "    \n",
    "print(bill_id)"
   ]
  },
  {
   "cell_type": "code",
   "execution_count": 95,
   "metadata": {},
   "outputs": [
    {
     "name": "stdout",
     "output_type": "stream",
     "text": [
      "James Abdnor \n"
     ]
    }
   ],
   "source": [
    "\n",
    "for congress in congressman:\n",
    "    designation = re.findall(r\"(Senator|Representative)\\s(\\w+\\s\\w+\\s\\w*)\", congress.text, re.IGNORECASE)[0][0]\n",
    "    name = re.findall(r\"(Senator|Representative)\\s(\\w+\\s\\w+\\s\\w*)\", congress.text, re.IGNORECASE)[0][1]\n",
    "    birthday = re.findall(r\"Senator\\s\\w+\\s\\w+\\s\\w*\\D(\\d+\\s-\\s\\d+)\\D\", congress.text, re.IGNORECASE)\n",
    "    party = re.findall(r\"Party\\s(\\w*)\", congress.text)\n",
    "    cong_years = re.findall(r\"In Congress\\s(\\d*\\s-\\s\\d*)\", congress.text, re.IGNORECASE)\n",
    "    bill_count = re.findall(r\"\\d\\sof\\s(\\d\\D*\\d+)\" , bill_id)[0].replace(\",\", \"\")\n",
    "    print(name)\n",
    "    "
   ]
  },
  {
   "cell_type": "markdown",
   "metadata": {},
   "source": [
    "# Build a function\n",
    "\n",
    "Write a function called `scrape_page` that makes a URL out of the the `slug`, like we're going to use `.apply`."
   ]
  },
  {
   "cell_type": "code",
   "execution_count": null,
   "metadata": {},
   "outputs": [],
   "source": [
    "# def scrape_page(slug):\n",
    "#     url = \"https://www.congress.gov/member/\"\n",
    "#     slug_url = url+slug\n",
    "#     driver.get(slug_url)\n",
    "#     congressman = driver.find_elements_by_class_name(\"featured\")\n",
    "#     bill_id = driver.find_element_by_class_name(\"results-number\").text\n",
    "    \n",
    "#     cong_dict = {}\n",
    "#     for congress in congressman:\n",
    "#         cong_dict['designation'] = re.findall(r\"(Senator|Representative)\\s(\\w+\\s\\w+\\s\\w*)\", congress.text, re.IGNORECASE)[0][0]\n",
    "#         cong_dict['name'] = re.findall(r\"(Senator|Representative)\\s(\\w+\\s\\w+\\s\\w*)\", congress.text, re.IGNORECASE)[0][1]\n",
    "#         cong_dict['birthday'] = re.findall(r\"(Senator|Representative)\\s\\w+\\s\\w+\\s\\w*\\D(\\d+\\s-\\s*\\d*)\\D\", congress.text, re.IGNORECASE)[0][1]\n",
    "#         cong_dict['party'] = re.findall(r\"Party\\s(\\w*)\", congress.text)[0]\n",
    "#         cong_dict['cong_years'] = re.findall(r\"In Congress\\s(\\d*\\s-\\s\\d*)\", congress.text, re.IGNORECASE)[0]\n",
    "#         cong_dict['bill_count'] = re.findall(r\"\\d\\sof\\s(\\d+\\D*\\d*)\" , bill_id)[0].replace(\",\", \"\")\n",
    "#     return cong_dict"
   ]
  },
  {
   "cell_type": "code",
   "execution_count": 149,
   "metadata": {},
   "outputs": [],
   "source": [
    "def scrape_page(slug):\n",
    "    url = \"https://www.congress.gov/member/\"\n",
    "    slug_url = url+slug\n",
    "    driver.get(slug_url)\n",
    "    congressman = driver.find_elements_by_class_name(\"featured\")\n",
    "    bill_id = driver.find_element_by_class_name(\"results-number\").text\n",
    "    \n",
    "    cong_dict = {}\n",
    "    for congress in congressman:\n",
    "        cong_dict['name'] = driver.find_element_by_class_name(\"legDetail\").text\n",
    "        cong_dict['birthday'] = driver.find_element_by_class_name(\"birthdate\").text\n",
    "        cong_dict['party'] = re.findall(r\"Party\\s(\\w*)\", congress.text)[0]\n",
    "        cong_dict['cong_years'] = re.findall(r\"In Congress\\s(\\d*\\s-\\s\\d*)\", congress.text, re.IGNORECASE)[0]\n",
    "        cong_dict['bill_count'] = re.findall(r\"\\d\\sof\\s(\\d+\\D*\\d*)\" , bill_id)[0].replace(\",\", \"\")\n",
    "    return cong_dict"
   ]
  },
  {
   "cell_type": "code",
   "execution_count": 173,
   "metadata": {},
   "outputs": [],
   "source": [
    "scrape_try = scrape_page('martin-heinrich/H001046')"
   ]
  },
  {
   "cell_type": "code",
   "execution_count": 174,
   "metadata": {},
   "outputs": [
    {
     "data": {
      "text/plain": [
       "{'name': 'Senator Martin Heinrich (1971 - )\\nIn Congress 2009 - Present | Get alerts',\n",
       " 'birthday': '(1971 - )',\n",
       " 'party': 'Democratic',\n",
       " 'cong_years': '2009 - ',\n",
       " 'bill_count': '2249'}"
      ]
     },
     "execution_count": 174,
     "metadata": {},
     "output_type": "execute_result"
    }
   ],
   "source": [
    "scrape_try"
   ]
  },
  {
   "cell_type": "markdown",
   "metadata": {},
   "source": [
    "# Do the scraping\n",
    "\n",
    "Rewrite `scrape_page` to actually scrape the URL. You can use your scraping code from up above. Start by testing with just one row (I put a sample call below) and then expand to your whole dataframe.\n",
    "\n",
    "Save the results as `scraped_df`.\n",
    "\n",
    "* **Hint:** Be sure to use `return`!\n",
    "* **Hint:** Make sure you return a `pd.Series`"
   ]
  },
  {
   "cell_type": "code",
   "execution_count": 196,
   "metadata": {},
   "outputs": [],
   "source": [
    "big_list = []\n",
    "error_log = []\n",
    "\n",
    "#range(0, len(congress_df)-1, 1):\n",
    "\n",
    "for i in range(20, 100, 1):\n",
    "    try:\n",
    "        each_congress = scrape_page(congress_df['slug'][i])\n",
    "        big_list.append(each_congress)\n",
    "    except:\n",
    "        error_log.append(congress_df['slug'][i])"
   ]
  },
  {
   "cell_type": "code",
   "execution_count": 197,
   "metadata": {},
   "outputs": [
    {
     "data": {
      "text/plain": [
       "[]"
      ]
     },
     "execution_count": 197,
     "metadata": {},
     "output_type": "execute_result"
    }
   ],
   "source": [
    "error_log"
   ]
  },
  {
   "cell_type": "code",
   "execution_count": 198,
   "metadata": {},
   "outputs": [
    {
     "data": {
      "text/plain": [
       "80"
      ]
     },
     "execution_count": 198,
     "metadata": {},
     "output_type": "execute_result"
    }
   ],
   "source": [
    "len(big_list)"
   ]
  },
  {
   "cell_type": "code",
   "execution_count": 177,
   "metadata": {},
   "outputs": [
    {
     "data": {
      "text/html": [
       "<div>\n",
       "<style scoped>\n",
       "    .dataframe tbody tr th:only-of-type {\n",
       "        vertical-align: middle;\n",
       "    }\n",
       "\n",
       "    .dataframe tbody tr th {\n",
       "        vertical-align: top;\n",
       "    }\n",
       "\n",
       "    .dataframe thead th {\n",
       "        text-align: right;\n",
       "    }\n",
       "</style>\n",
       "<table border=\"1\" class=\"dataframe\">\n",
       "  <thead>\n",
       "    <tr style=\"text-align: right;\">\n",
       "      <th></th>\n",
       "      <th>name</th>\n",
       "      <th>birthday</th>\n",
       "      <th>party</th>\n",
       "      <th>cong_years</th>\n",
       "      <th>bill_count</th>\n",
       "    </tr>\n",
       "  </thead>\n",
       "  <tbody>\n",
       "  </tbody>\n",
       "</table>\n",
       "</div>"
      ],
      "text/plain": [
       "Empty DataFrame\n",
       "Columns: [name, birthday, party, cong_years, bill_count]\n",
       "Index: []"
      ]
     },
     "execution_count": 177,
     "metadata": {},
     "output_type": "execute_result"
    }
   ],
   "source": [
    "temp_df = pd.DataFrame(big_list)\n",
    "temp_df[temp_df['name']=='Senator Martin Heinrich (1971 - )\\nIn Congress 2009 - Present | Get alerts']"
   ]
  },
  {
   "cell_type": "code",
   "execution_count": null,
   "metadata": {},
   "outputs": [],
   "source": []
  },
  {
   "cell_type": "markdown",
   "metadata": {},
   "source": [
    "## Join with your original dataframe\n",
    "\n",
    "Join your new data with your original data, adding the `_scraped` suffix on the new columns. You can use either `.join` or `.merge`, but be sure to read the docs to know the difference!"
   ]
  },
  {
   "cell_type": "code",
   "execution_count": null,
   "metadata": {},
   "outputs": [],
   "source": []
  },
  {
   "cell_type": "markdown",
   "metadata": {},
   "source": [
    "## Save it\n",
    "\n",
    "Save your combined results to `congress-plus-scraped.csv`."
   ]
  },
  {
   "cell_type": "code",
   "execution_count": null,
   "metadata": {},
   "outputs": [],
   "source": []
  },
  {
   "cell_type": "code",
   "execution_count": null,
   "metadata": {},
   "outputs": [],
   "source": []
  }
 ],
 "metadata": {
  "kernelspec": {
   "display_name": "Python 3",
   "language": "python",
   "name": "python3"
  },
  "language_info": {
   "codemirror_mode": {
    "name": "ipython",
    "version": 3
   },
   "file_extension": ".py",
   "mimetype": "text/x-python",
   "name": "python",
   "nbconvert_exporter": "python",
   "pygments_lexer": "ipython3",
   "version": "3.8.5"
  }
 },
 "nbformat": 4,
 "nbformat_minor": 2
}
