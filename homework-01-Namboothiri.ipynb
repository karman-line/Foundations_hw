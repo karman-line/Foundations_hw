{
 "cells": [
  {
   "cell_type": "code",
   "execution_count": 23,
   "metadata": {},
   "outputs": [],
   "source": [
    "# Karthika Namboothiri\n",
    "# October 27, 2020\n",
    "# Homework 1"
   ]
  },
  {
   "cell_type": "code",
   "execution_count": null,
   "metadata": {},
   "outputs": [],
   "source": [
    "birth_year = input(\"What's your year of birth?\")\n",
    "birth_year= int(birth_year)\n",
    "\n",
    "age= 2020-birth_year\n",
    "heart_beat = age*525600*100\n",
    "\n",
    "# bluewhale heart beat = 4 p/m\n",
    "whale_heart = age*525600*4\n",
    "\n",
    "# assuming rabbit's heart beat is 180 p/m\n",
    "rabbit_heart = age*525600 *180\n",
    "rabbit_heart_mil = rabbit_heart/1000000\n",
    "\n",
    "earth_days = age*365\n",
    "\n",
    "# assuming number of days Venus takes to make a revolution is 225\n",
    "venus_years = earth_days/225\n",
    "\n",
    "#assuming number of days Neptune takes to make a revolution is 165\n",
    "neptune = earth_days/165"
   ]
  },
  {
   "cell_type": "code",
   "execution_count": 22,
   "metadata": {},
   "outputs": [
    {
     "name": "stdout",
     "output_type": "stream",
     "text": [
      "You are 20 years old\n",
      "Your heart has beaten 1,051,200,000 times\n",
      "Meanwhile a blue whale's heart has beaten 42,048,000 times\n",
      "And a rabbit's heart has beaten 1,892.16 times\n",
      "Your age in Venus years 32.44\n",
      "Your age in Neptune years 44.24\n",
      "You are younger than I am\n",
      "You're born in an even year\n",
      "Since you were born, there have been 2 Democratic Party presidents\n"
     ]
    }
   ],
   "source": [
    "if (birth_year <= 2020):\n",
    "    print(\"You are\", age, \"years old\")\n",
    "    print(f\"Your heart has beaten {heart_beat:,} times\")\n",
    "    print(f\"Meanwhile a blue whale's heart has beaten {whale_heart:,} times\")\n",
    "\n",
    "    if (rabbit_heart > 1000000):\n",
    "        print(f\"And a rabbit's heart has beaten {rabbit_heart_mil:,} times\")\n",
    "    else: print (f\"And a rabbit's heart has beaten {rabbit_heart:,} times\");\n",
    "\n",
    "    print(\"Your age in Venus years\", round(venus_years,2))\n",
    "    print(\"Your age in Neptune years\", round(neptune, 2))\n",
    "\n",
    "    if (age < 24): print (\"You are younger than I am\")\n",
    "    elif (age == 24): print(\"You and I are the same age\")\n",
    "    else: print(\"You are older than I am\")\n",
    "\n",
    "    \n",
    "    if (birth_year %2 == 0):\n",
    "        print(\"You're born in an even year\")\n",
    "    else: print(\"You'r born in an odd year\")\n",
    "\n",
    "    dem_pres= 0\n",
    "    if(birth_year <= 2000):\n",
    "        dem_pres = 2\n",
    "    elif (birth_year <= 1980):\n",
    "           dem_pres = 3\n",
    "    elif (birth_year <=  1960):\n",
    "            dem_pres = 5\n",
    "    else: print(\"Looks like you're too old for this\")\n",
    "    print(\"Since you were born, there have been\", dem_pres, \"Democratic Party presidents\")\n",
    "\n",
    "        \n",
    "else: print(\"That birth_year looks like its from the future!\")\n",
    "\n",
    "    \n",
    "    \n"
   ]
  },
  {
   "cell_type": "code",
   "execution_count": null,
   "metadata": {},
   "outputs": [],
   "source": []
  }
 ],
 "metadata": {
  "kernelspec": {
   "display_name": "Python 3",
   "language": "python",
   "name": "python3"
  },
  "language_info": {
   "codemirror_mode": {
    "name": "ipython",
    "version": 3
   },
   "file_extension": ".py",
   "mimetype": "text/x-python",
   "name": "python",
   "nbconvert_exporter": "python",
   "pygments_lexer": "ipython3",
   "version": "3.8.6"
  }
 },
 "nbformat": 4,
 "nbformat_minor": 4
}
